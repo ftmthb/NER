{
  "nbformat": 4,
  "nbformat_minor": 0,
  "metadata": {
    "colab": {
      "provenance": [],
      "collapsed_sections": [
        "kVbjmO7IZQqn",
        "Ax3fkw-8ZjAu",
        "1QpQ52Kh8qQd",
        "gGKq-4_o873U",
        "FOO-dA9ImTSj",
        "RFvescG1PjTC",
        "BhRyPy81Pyws",
        "hVvMyxqMP38S",
        "tUjb2tRWP7lN",
        "KiXghaUMf510",
        "DEVWBlU67mLg",
        "7Z7ME2_QWtLN",
        "LaMSy0jw4bxp"
      ],
      "toc_visible": true,
      "gpuType": "T4",
      "include_colab_link": true
    },
    "kernelspec": {
      "name": "python3",
      "display_name": "Python 3"
    },
    "language_info": {
      "name": "python"
    },
    "widgets": {
      "application/vnd.jupyter.widget-state+json": {
        "37c32f17e55847feb313f696c673342a": {
          "model_module": "@jupyter-widgets/controls",
          "model_name": "HBoxModel",
          "model_module_version": "1.5.0",
          "state": {
            "_dom_classes": [],
            "_model_module": "@jupyter-widgets/controls",
            "_model_module_version": "1.5.0",
            "_model_name": "HBoxModel",
            "_view_count": null,
            "_view_module": "@jupyter-widgets/controls",
            "_view_module_version": "1.5.0",
            "_view_name": "HBoxView",
            "box_style": "",
            "children": [
              "IPY_MODEL_ee9e42c3c7b24939a1e99ce1152f5d27",
              "IPY_MODEL_b63e1e1f29fe45f2a551030c971ed171",
              "IPY_MODEL_df8726099c1c4813a586088bf923b224"
            ],
            "layout": "IPY_MODEL_6b8552fb431146dd8ce0da082fc1a5cd"
          }
        },
        "ee9e42c3c7b24939a1e99ce1152f5d27": {
          "model_module": "@jupyter-widgets/controls",
          "model_name": "HTMLModel",
          "model_module_version": "1.5.0",
          "state": {
            "_dom_classes": [],
            "_model_module": "@jupyter-widgets/controls",
            "_model_module_version": "1.5.0",
            "_model_name": "HTMLModel",
            "_view_count": null,
            "_view_module": "@jupyter-widgets/controls",
            "_view_module_version": "1.5.0",
            "_view_name": "HTMLView",
            "description": "",
            "description_tooltip": null,
            "layout": "IPY_MODEL_3c38f8dad40948b2a44e5736514a2920",
            "placeholder": "​",
            "style": "IPY_MODEL_56c84cb843f04b1e808a1a59f1038c37",
            "value": "Downloading builder script: 100%"
          }
        },
        "b63e1e1f29fe45f2a551030c971ed171": {
          "model_module": "@jupyter-widgets/controls",
          "model_name": "FloatProgressModel",
          "model_module_version": "1.5.0",
          "state": {
            "_dom_classes": [],
            "_model_module": "@jupyter-widgets/controls",
            "_model_module_version": "1.5.0",
            "_model_name": "FloatProgressModel",
            "_view_count": null,
            "_view_module": "@jupyter-widgets/controls",
            "_view_module_version": "1.5.0",
            "_view_name": "ProgressView",
            "bar_style": "success",
            "description": "",
            "description_tooltip": null,
            "layout": "IPY_MODEL_102db4a426ec460fb1d69dc44705de86",
            "max": 6338,
            "min": 0,
            "orientation": "horizontal",
            "style": "IPY_MODEL_a9b083568eb34c87bae903a921a94b1c",
            "value": 6338
          }
        },
        "df8726099c1c4813a586088bf923b224": {
          "model_module": "@jupyter-widgets/controls",
          "model_name": "HTMLModel",
          "model_module_version": "1.5.0",
          "state": {
            "_dom_classes": [],
            "_model_module": "@jupyter-widgets/controls",
            "_model_module_version": "1.5.0",
            "_model_name": "HTMLModel",
            "_view_count": null,
            "_view_module": "@jupyter-widgets/controls",
            "_view_module_version": "1.5.0",
            "_view_name": "HTMLView",
            "description": "",
            "description_tooltip": null,
            "layout": "IPY_MODEL_65ecc9ecb4d74b72924e904d31505ca8",
            "placeholder": "​",
            "style": "IPY_MODEL_5c6d414c1b604ef99f8334c42b6a93ef",
            "value": " 6.34k/6.34k [00:00&lt;00:00, 252kB/s]"
          }
        },
        "6b8552fb431146dd8ce0da082fc1a5cd": {
          "model_module": "@jupyter-widgets/base",
          "model_name": "LayoutModel",
          "model_module_version": "1.2.0",
          "state": {
            "_model_module": "@jupyter-widgets/base",
            "_model_module_version": "1.2.0",
            "_model_name": "LayoutModel",
            "_view_count": null,
            "_view_module": "@jupyter-widgets/base",
            "_view_module_version": "1.2.0",
            "_view_name": "LayoutView",
            "align_content": null,
            "align_items": null,
            "align_self": null,
            "border": null,
            "bottom": null,
            "display": null,
            "flex": null,
            "flex_flow": null,
            "grid_area": null,
            "grid_auto_columns": null,
            "grid_auto_flow": null,
            "grid_auto_rows": null,
            "grid_column": null,
            "grid_gap": null,
            "grid_row": null,
            "grid_template_areas": null,
            "grid_template_columns": null,
            "grid_template_rows": null,
            "height": null,
            "justify_content": null,
            "justify_items": null,
            "left": null,
            "margin": null,
            "max_height": null,
            "max_width": null,
            "min_height": null,
            "min_width": null,
            "object_fit": null,
            "object_position": null,
            "order": null,
            "overflow": null,
            "overflow_x": null,
            "overflow_y": null,
            "padding": null,
            "right": null,
            "top": null,
            "visibility": null,
            "width": null
          }
        },
        "3c38f8dad40948b2a44e5736514a2920": {
          "model_module": "@jupyter-widgets/base",
          "model_name": "LayoutModel",
          "model_module_version": "1.2.0",
          "state": {
            "_model_module": "@jupyter-widgets/base",
            "_model_module_version": "1.2.0",
            "_model_name": "LayoutModel",
            "_view_count": null,
            "_view_module": "@jupyter-widgets/base",
            "_view_module_version": "1.2.0",
            "_view_name": "LayoutView",
            "align_content": null,
            "align_items": null,
            "align_self": null,
            "border": null,
            "bottom": null,
            "display": null,
            "flex": null,
            "flex_flow": null,
            "grid_area": null,
            "grid_auto_columns": null,
            "grid_auto_flow": null,
            "grid_auto_rows": null,
            "grid_column": null,
            "grid_gap": null,
            "grid_row": null,
            "grid_template_areas": null,
            "grid_template_columns": null,
            "grid_template_rows": null,
            "height": null,
            "justify_content": null,
            "justify_items": null,
            "left": null,
            "margin": null,
            "max_height": null,
            "max_width": null,
            "min_height": null,
            "min_width": null,
            "object_fit": null,
            "object_position": null,
            "order": null,
            "overflow": null,
            "overflow_x": null,
            "overflow_y": null,
            "padding": null,
            "right": null,
            "top": null,
            "visibility": null,
            "width": null
          }
        },
        "56c84cb843f04b1e808a1a59f1038c37": {
          "model_module": "@jupyter-widgets/controls",
          "model_name": "DescriptionStyleModel",
          "model_module_version": "1.5.0",
          "state": {
            "_model_module": "@jupyter-widgets/controls",
            "_model_module_version": "1.5.0",
            "_model_name": "DescriptionStyleModel",
            "_view_count": null,
            "_view_module": "@jupyter-widgets/base",
            "_view_module_version": "1.2.0",
            "_view_name": "StyleView",
            "description_width": ""
          }
        },
        "102db4a426ec460fb1d69dc44705de86": {
          "model_module": "@jupyter-widgets/base",
          "model_name": "LayoutModel",
          "model_module_version": "1.2.0",
          "state": {
            "_model_module": "@jupyter-widgets/base",
            "_model_module_version": "1.2.0",
            "_model_name": "LayoutModel",
            "_view_count": null,
            "_view_module": "@jupyter-widgets/base",
            "_view_module_version": "1.2.0",
            "_view_name": "LayoutView",
            "align_content": null,
            "align_items": null,
            "align_self": null,
            "border": null,
            "bottom": null,
            "display": null,
            "flex": null,
            "flex_flow": null,
            "grid_area": null,
            "grid_auto_columns": null,
            "grid_auto_flow": null,
            "grid_auto_rows": null,
            "grid_column": null,
            "grid_gap": null,
            "grid_row": null,
            "grid_template_areas": null,
            "grid_template_columns": null,
            "grid_template_rows": null,
            "height": null,
            "justify_content": null,
            "justify_items": null,
            "left": null,
            "margin": null,
            "max_height": null,
            "max_width": null,
            "min_height": null,
            "min_width": null,
            "object_fit": null,
            "object_position": null,
            "order": null,
            "overflow": null,
            "overflow_x": null,
            "overflow_y": null,
            "padding": null,
            "right": null,
            "top": null,
            "visibility": null,
            "width": null
          }
        },
        "a9b083568eb34c87bae903a921a94b1c": {
          "model_module": "@jupyter-widgets/controls",
          "model_name": "ProgressStyleModel",
          "model_module_version": "1.5.0",
          "state": {
            "_model_module": "@jupyter-widgets/controls",
            "_model_module_version": "1.5.0",
            "_model_name": "ProgressStyleModel",
            "_view_count": null,
            "_view_module": "@jupyter-widgets/base",
            "_view_module_version": "1.2.0",
            "_view_name": "StyleView",
            "bar_color": null,
            "description_width": ""
          }
        },
        "65ecc9ecb4d74b72924e904d31505ca8": {
          "model_module": "@jupyter-widgets/base",
          "model_name": "LayoutModel",
          "model_module_version": "1.2.0",
          "state": {
            "_model_module": "@jupyter-widgets/base",
            "_model_module_version": "1.2.0",
            "_model_name": "LayoutModel",
            "_view_count": null,
            "_view_module": "@jupyter-widgets/base",
            "_view_module_version": "1.2.0",
            "_view_name": "LayoutView",
            "align_content": null,
            "align_items": null,
            "align_self": null,
            "border": null,
            "bottom": null,
            "display": null,
            "flex": null,
            "flex_flow": null,
            "grid_area": null,
            "grid_auto_columns": null,
            "grid_auto_flow": null,
            "grid_auto_rows": null,
            "grid_column": null,
            "grid_gap": null,
            "grid_row": null,
            "grid_template_areas": null,
            "grid_template_columns": null,
            "grid_template_rows": null,
            "height": null,
            "justify_content": null,
            "justify_items": null,
            "left": null,
            "margin": null,
            "max_height": null,
            "max_width": null,
            "min_height": null,
            "min_width": null,
            "object_fit": null,
            "object_position": null,
            "order": null,
            "overflow": null,
            "overflow_x": null,
            "overflow_y": null,
            "padding": null,
            "right": null,
            "top": null,
            "visibility": null,
            "width": null
          }
        },
        "5c6d414c1b604ef99f8334c42b6a93ef": {
          "model_module": "@jupyter-widgets/controls",
          "model_name": "DescriptionStyleModel",
          "model_module_version": "1.5.0",
          "state": {
            "_model_module": "@jupyter-widgets/controls",
            "_model_module_version": "1.5.0",
            "_model_name": "DescriptionStyleModel",
            "_view_count": null,
            "_view_module": "@jupyter-widgets/base",
            "_view_module_version": "1.2.0",
            "_view_name": "StyleView",
            "description_width": ""
          }
        },
        "f6084975c2e9458a80730c925a5d5991": {
          "model_module": "@jupyter-widgets/controls",
          "model_name": "HBoxModel",
          "model_module_version": "1.5.0",
          "state": {
            "_dom_classes": [],
            "_model_module": "@jupyter-widgets/controls",
            "_model_module_version": "1.5.0",
            "_model_name": "HBoxModel",
            "_view_count": null,
            "_view_module": "@jupyter-widgets/controls",
            "_view_module_version": "1.5.0",
            "_view_name": "HBoxView",
            "box_style": "",
            "children": [
              "IPY_MODEL_8b82d77d21bc4f829932ff2f992c6f86",
              "IPY_MODEL_422e59fe256d49fbaeeb9ad6c19651b6",
              "IPY_MODEL_59c788848c68474d9195e3e074070b4b"
            ],
            "layout": "IPY_MODEL_a0e48b87e83a4889997cabeadce0db9a"
          }
        },
        "8b82d77d21bc4f829932ff2f992c6f86": {
          "model_module": "@jupyter-widgets/controls",
          "model_name": "HTMLModel",
          "model_module_version": "1.5.0",
          "state": {
            "_dom_classes": [],
            "_model_module": "@jupyter-widgets/controls",
            "_model_module_version": "1.5.0",
            "_model_name": "HTMLModel",
            "_view_count": null,
            "_view_module": "@jupyter-widgets/controls",
            "_view_module_version": "1.5.0",
            "_view_name": "HTMLView",
            "description": "",
            "description_tooltip": null,
            "layout": "IPY_MODEL_590efb57cc8940d49de8cccad540e566",
            "placeholder": "​",
            "style": "IPY_MODEL_4fc753287cea47d1bb3b94dc2b5b54f0",
            "value": "Generating train split: "
          }
        },
        "422e59fe256d49fbaeeb9ad6c19651b6": {
          "model_module": "@jupyter-widgets/controls",
          "model_name": "FloatProgressModel",
          "model_module_version": "1.5.0",
          "state": {
            "_dom_classes": [],
            "_model_module": "@jupyter-widgets/controls",
            "_model_module_version": "1.5.0",
            "_model_name": "FloatProgressModel",
            "_view_count": null,
            "_view_module": "@jupyter-widgets/controls",
            "_view_module_version": "1.5.0",
            "_view_name": "ProgressView",
            "bar_style": "success",
            "description": "",
            "description_tooltip": null,
            "layout": "IPY_MODEL_58b89f255b0d436496e4c8d3242d9b9e",
            "max": 1,
            "min": 0,
            "orientation": "horizontal",
            "style": "IPY_MODEL_b2c00bfd59fa45e0a2c800d710070949",
            "value": 1
          }
        },
        "59c788848c68474d9195e3e074070b4b": {
          "model_module": "@jupyter-widgets/controls",
          "model_name": "HTMLModel",
          "model_module_version": "1.5.0",
          "state": {
            "_dom_classes": [],
            "_model_module": "@jupyter-widgets/controls",
            "_model_module_version": "1.5.0",
            "_model_name": "HTMLModel",
            "_view_count": null,
            "_view_module": "@jupyter-widgets/controls",
            "_view_module_version": "1.5.0",
            "_view_name": "HTMLView",
            "description": "",
            "description_tooltip": null,
            "layout": "IPY_MODEL_f95ee41d5f7e4d2fa4d45918f302f918",
            "placeholder": "​",
            "style": "IPY_MODEL_4192c7f2b9ac406c8d9c0f294d87ced1",
            "value": " 7258/0 [00:01&lt;00:00, 5040.98 examples/s]"
          }
        },
        "a0e48b87e83a4889997cabeadce0db9a": {
          "model_module": "@jupyter-widgets/base",
          "model_name": "LayoutModel",
          "model_module_version": "1.2.0",
          "state": {
            "_model_module": "@jupyter-widgets/base",
            "_model_module_version": "1.2.0",
            "_model_name": "LayoutModel",
            "_view_count": null,
            "_view_module": "@jupyter-widgets/base",
            "_view_module_version": "1.2.0",
            "_view_name": "LayoutView",
            "align_content": null,
            "align_items": null,
            "align_self": null,
            "border": null,
            "bottom": null,
            "display": null,
            "flex": null,
            "flex_flow": null,
            "grid_area": null,
            "grid_auto_columns": null,
            "grid_auto_flow": null,
            "grid_auto_rows": null,
            "grid_column": null,
            "grid_gap": null,
            "grid_row": null,
            "grid_template_areas": null,
            "grid_template_columns": null,
            "grid_template_rows": null,
            "height": null,
            "justify_content": null,
            "justify_items": null,
            "left": null,
            "margin": null,
            "max_height": null,
            "max_width": null,
            "min_height": null,
            "min_width": null,
            "object_fit": null,
            "object_position": null,
            "order": null,
            "overflow": null,
            "overflow_x": null,
            "overflow_y": null,
            "padding": null,
            "right": null,
            "top": null,
            "visibility": null,
            "width": null
          }
        },
        "590efb57cc8940d49de8cccad540e566": {
          "model_module": "@jupyter-widgets/base",
          "model_name": "LayoutModel",
          "model_module_version": "1.2.0",
          "state": {
            "_model_module": "@jupyter-widgets/base",
            "_model_module_version": "1.2.0",
            "_model_name": "LayoutModel",
            "_view_count": null,
            "_view_module": "@jupyter-widgets/base",
            "_view_module_version": "1.2.0",
            "_view_name": "LayoutView",
            "align_content": null,
            "align_items": null,
            "align_self": null,
            "border": null,
            "bottom": null,
            "display": null,
            "flex": null,
            "flex_flow": null,
            "grid_area": null,
            "grid_auto_columns": null,
            "grid_auto_flow": null,
            "grid_auto_rows": null,
            "grid_column": null,
            "grid_gap": null,
            "grid_row": null,
            "grid_template_areas": null,
            "grid_template_columns": null,
            "grid_template_rows": null,
            "height": null,
            "justify_content": null,
            "justify_items": null,
            "left": null,
            "margin": null,
            "max_height": null,
            "max_width": null,
            "min_height": null,
            "min_width": null,
            "object_fit": null,
            "object_position": null,
            "order": null,
            "overflow": null,
            "overflow_x": null,
            "overflow_y": null,
            "padding": null,
            "right": null,
            "top": null,
            "visibility": null,
            "width": null
          }
        },
        "4fc753287cea47d1bb3b94dc2b5b54f0": {
          "model_module": "@jupyter-widgets/controls",
          "model_name": "DescriptionStyleModel",
          "model_module_version": "1.5.0",
          "state": {
            "_model_module": "@jupyter-widgets/controls",
            "_model_module_version": "1.5.0",
            "_model_name": "DescriptionStyleModel",
            "_view_count": null,
            "_view_module": "@jupyter-widgets/base",
            "_view_module_version": "1.2.0",
            "_view_name": "StyleView",
            "description_width": ""
          }
        },
        "58b89f255b0d436496e4c8d3242d9b9e": {
          "model_module": "@jupyter-widgets/base",
          "model_name": "LayoutModel",
          "model_module_version": "1.2.0",
          "state": {
            "_model_module": "@jupyter-widgets/base",
            "_model_module_version": "1.2.0",
            "_model_name": "LayoutModel",
            "_view_count": null,
            "_view_module": "@jupyter-widgets/base",
            "_view_module_version": "1.2.0",
            "_view_name": "LayoutView",
            "align_content": null,
            "align_items": null,
            "align_self": null,
            "border": null,
            "bottom": null,
            "display": null,
            "flex": null,
            "flex_flow": null,
            "grid_area": null,
            "grid_auto_columns": null,
            "grid_auto_flow": null,
            "grid_auto_rows": null,
            "grid_column": null,
            "grid_gap": null,
            "grid_row": null,
            "grid_template_areas": null,
            "grid_template_columns": null,
            "grid_template_rows": null,
            "height": null,
            "justify_content": null,
            "justify_items": null,
            "left": null,
            "margin": null,
            "max_height": null,
            "max_width": null,
            "min_height": null,
            "min_width": null,
            "object_fit": null,
            "object_position": null,
            "order": null,
            "overflow": null,
            "overflow_x": null,
            "overflow_y": null,
            "padding": null,
            "right": null,
            "top": null,
            "visibility": null,
            "width": "20px"
          }
        },
        "b2c00bfd59fa45e0a2c800d710070949": {
          "model_module": "@jupyter-widgets/controls",
          "model_name": "ProgressStyleModel",
          "model_module_version": "1.5.0",
          "state": {
            "_model_module": "@jupyter-widgets/controls",
            "_model_module_version": "1.5.0",
            "_model_name": "ProgressStyleModel",
            "_view_count": null,
            "_view_module": "@jupyter-widgets/base",
            "_view_module_version": "1.2.0",
            "_view_name": "StyleView",
            "bar_color": null,
            "description_width": ""
          }
        },
        "f95ee41d5f7e4d2fa4d45918f302f918": {
          "model_module": "@jupyter-widgets/base",
          "model_name": "LayoutModel",
          "model_module_version": "1.2.0",
          "state": {
            "_model_module": "@jupyter-widgets/base",
            "_model_module_version": "1.2.0",
            "_model_name": "LayoutModel",
            "_view_count": null,
            "_view_module": "@jupyter-widgets/base",
            "_view_module_version": "1.2.0",
            "_view_name": "LayoutView",
            "align_content": null,
            "align_items": null,
            "align_self": null,
            "border": null,
            "bottom": null,
            "display": null,
            "flex": null,
            "flex_flow": null,
            "grid_area": null,
            "grid_auto_columns": null,
            "grid_auto_flow": null,
            "grid_auto_rows": null,
            "grid_column": null,
            "grid_gap": null,
            "grid_row": null,
            "grid_template_areas": null,
            "grid_template_columns": null,
            "grid_template_rows": null,
            "height": null,
            "justify_content": null,
            "justify_items": null,
            "left": null,
            "margin": null,
            "max_height": null,
            "max_width": null,
            "min_height": null,
            "min_width": null,
            "object_fit": null,
            "object_position": null,
            "order": null,
            "overflow": null,
            "overflow_x": null,
            "overflow_y": null,
            "padding": null,
            "right": null,
            "top": null,
            "visibility": null,
            "width": null
          }
        },
        "4192c7f2b9ac406c8d9c0f294d87ced1": {
          "model_module": "@jupyter-widgets/controls",
          "model_name": "DescriptionStyleModel",
          "model_module_version": "1.5.0",
          "state": {
            "_model_module": "@jupyter-widgets/controls",
            "_model_module_version": "1.5.0",
            "_model_name": "DescriptionStyleModel",
            "_view_count": null,
            "_view_module": "@jupyter-widgets/base",
            "_view_module_version": "1.2.0",
            "_view_name": "StyleView",
            "description_width": ""
          }
        },
        "d0eb4c3c88c545a1b213274f0528f9e5": {
          "model_module": "@jupyter-widgets/controls",
          "model_name": "HBoxModel",
          "model_module_version": "1.5.0",
          "state": {
            "_dom_classes": [],
            "_model_module": "@jupyter-widgets/controls",
            "_model_module_version": "1.5.0",
            "_model_name": "HBoxModel",
            "_view_count": null,
            "_view_module": "@jupyter-widgets/controls",
            "_view_module_version": "1.5.0",
            "_view_name": "HBoxView",
            "box_style": "",
            "children": [
              "IPY_MODEL_b7bc5a9929ec4cfc9b0768ca6528b272",
              "IPY_MODEL_61b5a727613a41559de26120004e62d0",
              "IPY_MODEL_a451579491764c10bffdd8c8e46f7360"
            ],
            "layout": "IPY_MODEL_a28892a16cef443b956d351efb27c370"
          }
        },
        "b7bc5a9929ec4cfc9b0768ca6528b272": {
          "model_module": "@jupyter-widgets/controls",
          "model_name": "HTMLModel",
          "model_module_version": "1.5.0",
          "state": {
            "_dom_classes": [],
            "_model_module": "@jupyter-widgets/controls",
            "_model_module_version": "1.5.0",
            "_model_name": "HTMLModel",
            "_view_count": null,
            "_view_module": "@jupyter-widgets/controls",
            "_view_module_version": "1.5.0",
            "_view_name": "HTMLView",
            "description": "",
            "description_tooltip": null,
            "layout": "IPY_MODEL_743cb1c16903462086672a26c335c302",
            "placeholder": "​",
            "style": "IPY_MODEL_3d547f0c2b1548819ec0734aee50296a",
            "value": "Generating train split: "
          }
        },
        "61b5a727613a41559de26120004e62d0": {
          "model_module": "@jupyter-widgets/controls",
          "model_name": "FloatProgressModel",
          "model_module_version": "1.5.0",
          "state": {
            "_dom_classes": [],
            "_model_module": "@jupyter-widgets/controls",
            "_model_module_version": "1.5.0",
            "_model_name": "FloatProgressModel",
            "_view_count": null,
            "_view_module": "@jupyter-widgets/controls",
            "_view_module_version": "1.5.0",
            "_view_name": "ProgressView",
            "bar_style": "success",
            "description": "",
            "description_tooltip": null,
            "layout": "IPY_MODEL_78ba1a7def8042f4ab146d9d4bf6eb22",
            "max": 1,
            "min": 0,
            "orientation": "horizontal",
            "style": "IPY_MODEL_745d28d811d54789a774f806ab371142",
            "value": 1
          }
        },
        "a451579491764c10bffdd8c8e46f7360": {
          "model_module": "@jupyter-widgets/controls",
          "model_name": "HTMLModel",
          "model_module_version": "1.5.0",
          "state": {
            "_dom_classes": [],
            "_model_module": "@jupyter-widgets/controls",
            "_model_module_version": "1.5.0",
            "_model_name": "HTMLModel",
            "_view_count": null,
            "_view_module": "@jupyter-widgets/controls",
            "_view_module_version": "1.5.0",
            "_view_name": "HTMLView",
            "description": "",
            "description_tooltip": null,
            "layout": "IPY_MODEL_79ed0e56319645ea9c9a5afe8eba7bdd",
            "placeholder": "​",
            "style": "IPY_MODEL_10c91d7c19ed42c2b55495799a16fc3c",
            "value": " 125/0 [00:00&lt;00:00, 2067.85 examples/s]"
          }
        },
        "a28892a16cef443b956d351efb27c370": {
          "model_module": "@jupyter-widgets/base",
          "model_name": "LayoutModel",
          "model_module_version": "1.2.0",
          "state": {
            "_model_module": "@jupyter-widgets/base",
            "_model_module_version": "1.2.0",
            "_model_name": "LayoutModel",
            "_view_count": null,
            "_view_module": "@jupyter-widgets/base",
            "_view_module_version": "1.2.0",
            "_view_name": "LayoutView",
            "align_content": null,
            "align_items": null,
            "align_self": null,
            "border": null,
            "bottom": null,
            "display": null,
            "flex": null,
            "flex_flow": null,
            "grid_area": null,
            "grid_auto_columns": null,
            "grid_auto_flow": null,
            "grid_auto_rows": null,
            "grid_column": null,
            "grid_gap": null,
            "grid_row": null,
            "grid_template_areas": null,
            "grid_template_columns": null,
            "grid_template_rows": null,
            "height": null,
            "justify_content": null,
            "justify_items": null,
            "left": null,
            "margin": null,
            "max_height": null,
            "max_width": null,
            "min_height": null,
            "min_width": null,
            "object_fit": null,
            "object_position": null,
            "order": null,
            "overflow": null,
            "overflow_x": null,
            "overflow_y": null,
            "padding": null,
            "right": null,
            "top": null,
            "visibility": null,
            "width": null
          }
        },
        "743cb1c16903462086672a26c335c302": {
          "model_module": "@jupyter-widgets/base",
          "model_name": "LayoutModel",
          "model_module_version": "1.2.0",
          "state": {
            "_model_module": "@jupyter-widgets/base",
            "_model_module_version": "1.2.0",
            "_model_name": "LayoutModel",
            "_view_count": null,
            "_view_module": "@jupyter-widgets/base",
            "_view_module_version": "1.2.0",
            "_view_name": "LayoutView",
            "align_content": null,
            "align_items": null,
            "align_self": null,
            "border": null,
            "bottom": null,
            "display": null,
            "flex": null,
            "flex_flow": null,
            "grid_area": null,
            "grid_auto_columns": null,
            "grid_auto_flow": null,
            "grid_auto_rows": null,
            "grid_column": null,
            "grid_gap": null,
            "grid_row": null,
            "grid_template_areas": null,
            "grid_template_columns": null,
            "grid_template_rows": null,
            "height": null,
            "justify_content": null,
            "justify_items": null,
            "left": null,
            "margin": null,
            "max_height": null,
            "max_width": null,
            "min_height": null,
            "min_width": null,
            "object_fit": null,
            "object_position": null,
            "order": null,
            "overflow": null,
            "overflow_x": null,
            "overflow_y": null,
            "padding": null,
            "right": null,
            "top": null,
            "visibility": null,
            "width": null
          }
        },
        "3d547f0c2b1548819ec0734aee50296a": {
          "model_module": "@jupyter-widgets/controls",
          "model_name": "DescriptionStyleModel",
          "model_module_version": "1.5.0",
          "state": {
            "_model_module": "@jupyter-widgets/controls",
            "_model_module_version": "1.5.0",
            "_model_name": "DescriptionStyleModel",
            "_view_count": null,
            "_view_module": "@jupyter-widgets/base",
            "_view_module_version": "1.2.0",
            "_view_name": "StyleView",
            "description_width": ""
          }
        },
        "78ba1a7def8042f4ab146d9d4bf6eb22": {
          "model_module": "@jupyter-widgets/base",
          "model_name": "LayoutModel",
          "model_module_version": "1.2.0",
          "state": {
            "_model_module": "@jupyter-widgets/base",
            "_model_module_version": "1.2.0",
            "_model_name": "LayoutModel",
            "_view_count": null,
            "_view_module": "@jupyter-widgets/base",
            "_view_module_version": "1.2.0",
            "_view_name": "LayoutView",
            "align_content": null,
            "align_items": null,
            "align_self": null,
            "border": null,
            "bottom": null,
            "display": null,
            "flex": null,
            "flex_flow": null,
            "grid_area": null,
            "grid_auto_columns": null,
            "grid_auto_flow": null,
            "grid_auto_rows": null,
            "grid_column": null,
            "grid_gap": null,
            "grid_row": null,
            "grid_template_areas": null,
            "grid_template_columns": null,
            "grid_template_rows": null,
            "height": null,
            "justify_content": null,
            "justify_items": null,
            "left": null,
            "margin": null,
            "max_height": null,
            "max_width": null,
            "min_height": null,
            "min_width": null,
            "object_fit": null,
            "object_position": null,
            "order": null,
            "overflow": null,
            "overflow_x": null,
            "overflow_y": null,
            "padding": null,
            "right": null,
            "top": null,
            "visibility": null,
            "width": "20px"
          }
        },
        "745d28d811d54789a774f806ab371142": {
          "model_module": "@jupyter-widgets/controls",
          "model_name": "ProgressStyleModel",
          "model_module_version": "1.5.0",
          "state": {
            "_model_module": "@jupyter-widgets/controls",
            "_model_module_version": "1.5.0",
            "_model_name": "ProgressStyleModel",
            "_view_count": null,
            "_view_module": "@jupyter-widgets/base",
            "_view_module_version": "1.2.0",
            "_view_name": "StyleView",
            "bar_color": null,
            "description_width": ""
          }
        },
        "79ed0e56319645ea9c9a5afe8eba7bdd": {
          "model_module": "@jupyter-widgets/base",
          "model_name": "LayoutModel",
          "model_module_version": "1.2.0",
          "state": {
            "_model_module": "@jupyter-widgets/base",
            "_model_module_version": "1.2.0",
            "_model_name": "LayoutModel",
            "_view_count": null,
            "_view_module": "@jupyter-widgets/base",
            "_view_module_version": "1.2.0",
            "_view_name": "LayoutView",
            "align_content": null,
            "align_items": null,
            "align_self": null,
            "border": null,
            "bottom": null,
            "display": null,
            "flex": null,
            "flex_flow": null,
            "grid_area": null,
            "grid_auto_columns": null,
            "grid_auto_flow": null,
            "grid_auto_rows": null,
            "grid_column": null,
            "grid_gap": null,
            "grid_row": null,
            "grid_template_areas": null,
            "grid_template_columns": null,
            "grid_template_rows": null,
            "height": null,
            "justify_content": null,
            "justify_items": null,
            "left": null,
            "margin": null,
            "max_height": null,
            "max_width": null,
            "min_height": null,
            "min_width": null,
            "object_fit": null,
            "object_position": null,
            "order": null,
            "overflow": null,
            "overflow_x": null,
            "overflow_y": null,
            "padding": null,
            "right": null,
            "top": null,
            "visibility": null,
            "width": null
          }
        },
        "10c91d7c19ed42c2b55495799a16fc3c": {
          "model_module": "@jupyter-widgets/controls",
          "model_name": "DescriptionStyleModel",
          "model_module_version": "1.5.0",
          "state": {
            "_model_module": "@jupyter-widgets/controls",
            "_model_module_version": "1.5.0",
            "_model_name": "DescriptionStyleModel",
            "_view_count": null,
            "_view_module": "@jupyter-widgets/base",
            "_view_module_version": "1.2.0",
            "_view_name": "StyleView",
            "description_width": ""
          }
        },
        "4423c901ce394b369518ef4ad73e3a40": {
          "model_module": "@jupyter-widgets/controls",
          "model_name": "HBoxModel",
          "model_module_version": "1.5.0",
          "state": {
            "_dom_classes": [],
            "_model_module": "@jupyter-widgets/controls",
            "_model_module_version": "1.5.0",
            "_model_name": "HBoxModel",
            "_view_count": null,
            "_view_module": "@jupyter-widgets/controls",
            "_view_module_version": "1.5.0",
            "_view_name": "HBoxView",
            "box_style": "",
            "children": [
              "IPY_MODEL_ac6bb45057f54463a70ce7013fabe0c5",
              "IPY_MODEL_9474d82b9ae1442cba5fbd76a2d09aa9",
              "IPY_MODEL_2c24fdc5ddde448192800263c64075bb"
            ],
            "layout": "IPY_MODEL_834bf0b4d20a4898be1b33abba0efd2a"
          }
        },
        "ac6bb45057f54463a70ce7013fabe0c5": {
          "model_module": "@jupyter-widgets/controls",
          "model_name": "HTMLModel",
          "model_module_version": "1.5.0",
          "state": {
            "_dom_classes": [],
            "_model_module": "@jupyter-widgets/controls",
            "_model_module_version": "1.5.0",
            "_model_name": "HTMLModel",
            "_view_count": null,
            "_view_module": "@jupyter-widgets/controls",
            "_view_module_version": "1.5.0",
            "_view_name": "HTMLView",
            "description": "",
            "description_tooltip": null,
            "layout": "IPY_MODEL_c2f0dd1d732f4fe7a7bfe24ae39cd572",
            "placeholder": "​",
            "style": "IPY_MODEL_fed2642bb36341008a083e92d87b4c22",
            "value": "Map: 100%"
          }
        },
        "9474d82b9ae1442cba5fbd76a2d09aa9": {
          "model_module": "@jupyter-widgets/controls",
          "model_name": "FloatProgressModel",
          "model_module_version": "1.5.0",
          "state": {
            "_dom_classes": [],
            "_model_module": "@jupyter-widgets/controls",
            "_model_module_version": "1.5.0",
            "_model_name": "FloatProgressModel",
            "_view_count": null,
            "_view_module": "@jupyter-widgets/controls",
            "_view_module_version": "1.5.0",
            "_view_name": "ProgressView",
            "bar_style": "success",
            "description": "",
            "description_tooltip": null,
            "layout": "IPY_MODEL_0296968b9d4b46e4a4014c52451a7b84",
            "max": 7258,
            "min": 0,
            "orientation": "horizontal",
            "style": "IPY_MODEL_73cb73b4ca334b089a57f94e95346fd2",
            "value": 7258
          }
        },
        "2c24fdc5ddde448192800263c64075bb": {
          "model_module": "@jupyter-widgets/controls",
          "model_name": "HTMLModel",
          "model_module_version": "1.5.0",
          "state": {
            "_dom_classes": [],
            "_model_module": "@jupyter-widgets/controls",
            "_model_module_version": "1.5.0",
            "_model_name": "HTMLModel",
            "_view_count": null,
            "_view_module": "@jupyter-widgets/controls",
            "_view_module_version": "1.5.0",
            "_view_name": "HTMLView",
            "description": "",
            "description_tooltip": null,
            "layout": "IPY_MODEL_ddfe5760bd604162a7478997bfda62ee",
            "placeholder": "​",
            "style": "IPY_MODEL_c7966fe3d2ff4bcda37f34f057a0be7a",
            "value": " 7258/7258 [00:06&lt;00:00, 668.77 examples/s]"
          }
        },
        "834bf0b4d20a4898be1b33abba0efd2a": {
          "model_module": "@jupyter-widgets/base",
          "model_name": "LayoutModel",
          "model_module_version": "1.2.0",
          "state": {
            "_model_module": "@jupyter-widgets/base",
            "_model_module_version": "1.2.0",
            "_model_name": "LayoutModel",
            "_view_count": null,
            "_view_module": "@jupyter-widgets/base",
            "_view_module_version": "1.2.0",
            "_view_name": "LayoutView",
            "align_content": null,
            "align_items": null,
            "align_self": null,
            "border": null,
            "bottom": null,
            "display": null,
            "flex": null,
            "flex_flow": null,
            "grid_area": null,
            "grid_auto_columns": null,
            "grid_auto_flow": null,
            "grid_auto_rows": null,
            "grid_column": null,
            "grid_gap": null,
            "grid_row": null,
            "grid_template_areas": null,
            "grid_template_columns": null,
            "grid_template_rows": null,
            "height": null,
            "justify_content": null,
            "justify_items": null,
            "left": null,
            "margin": null,
            "max_height": null,
            "max_width": null,
            "min_height": null,
            "min_width": null,
            "object_fit": null,
            "object_position": null,
            "order": null,
            "overflow": null,
            "overflow_x": null,
            "overflow_y": null,
            "padding": null,
            "right": null,
            "top": null,
            "visibility": null,
            "width": null
          }
        },
        "c2f0dd1d732f4fe7a7bfe24ae39cd572": {
          "model_module": "@jupyter-widgets/base",
          "model_name": "LayoutModel",
          "model_module_version": "1.2.0",
          "state": {
            "_model_module": "@jupyter-widgets/base",
            "_model_module_version": "1.2.0",
            "_model_name": "LayoutModel",
            "_view_count": null,
            "_view_module": "@jupyter-widgets/base",
            "_view_module_version": "1.2.0",
            "_view_name": "LayoutView",
            "align_content": null,
            "align_items": null,
            "align_self": null,
            "border": null,
            "bottom": null,
            "display": null,
            "flex": null,
            "flex_flow": null,
            "grid_area": null,
            "grid_auto_columns": null,
            "grid_auto_flow": null,
            "grid_auto_rows": null,
            "grid_column": null,
            "grid_gap": null,
            "grid_row": null,
            "grid_template_areas": null,
            "grid_template_columns": null,
            "grid_template_rows": null,
            "height": null,
            "justify_content": null,
            "justify_items": null,
            "left": null,
            "margin": null,
            "max_height": null,
            "max_width": null,
            "min_height": null,
            "min_width": null,
            "object_fit": null,
            "object_position": null,
            "order": null,
            "overflow": null,
            "overflow_x": null,
            "overflow_y": null,
            "padding": null,
            "right": null,
            "top": null,
            "visibility": null,
            "width": null
          }
        },
        "fed2642bb36341008a083e92d87b4c22": {
          "model_module": "@jupyter-widgets/controls",
          "model_name": "DescriptionStyleModel",
          "model_module_version": "1.5.0",
          "state": {
            "_model_module": "@jupyter-widgets/controls",
            "_model_module_version": "1.5.0",
            "_model_name": "DescriptionStyleModel",
            "_view_count": null,
            "_view_module": "@jupyter-widgets/base",
            "_view_module_version": "1.2.0",
            "_view_name": "StyleView",
            "description_width": ""
          }
        },
        "0296968b9d4b46e4a4014c52451a7b84": {
          "model_module": "@jupyter-widgets/base",
          "model_name": "LayoutModel",
          "model_module_version": "1.2.0",
          "state": {
            "_model_module": "@jupyter-widgets/base",
            "_model_module_version": "1.2.0",
            "_model_name": "LayoutModel",
            "_view_count": null,
            "_view_module": "@jupyter-widgets/base",
            "_view_module_version": "1.2.0",
            "_view_name": "LayoutView",
            "align_content": null,
            "align_items": null,
            "align_self": null,
            "border": null,
            "bottom": null,
            "display": null,
            "flex": null,
            "flex_flow": null,
            "grid_area": null,
            "grid_auto_columns": null,
            "grid_auto_flow": null,
            "grid_auto_rows": null,
            "grid_column": null,
            "grid_gap": null,
            "grid_row": null,
            "grid_template_areas": null,
            "grid_template_columns": null,
            "grid_template_rows": null,
            "height": null,
            "justify_content": null,
            "justify_items": null,
            "left": null,
            "margin": null,
            "max_height": null,
            "max_width": null,
            "min_height": null,
            "min_width": null,
            "object_fit": null,
            "object_position": null,
            "order": null,
            "overflow": null,
            "overflow_x": null,
            "overflow_y": null,
            "padding": null,
            "right": null,
            "top": null,
            "visibility": null,
            "width": null
          }
        },
        "73cb73b4ca334b089a57f94e95346fd2": {
          "model_module": "@jupyter-widgets/controls",
          "model_name": "ProgressStyleModel",
          "model_module_version": "1.5.0",
          "state": {
            "_model_module": "@jupyter-widgets/controls",
            "_model_module_version": "1.5.0",
            "_model_name": "ProgressStyleModel",
            "_view_count": null,
            "_view_module": "@jupyter-widgets/base",
            "_view_module_version": "1.2.0",
            "_view_name": "StyleView",
            "bar_color": null,
            "description_width": ""
          }
        },
        "ddfe5760bd604162a7478997bfda62ee": {
          "model_module": "@jupyter-widgets/base",
          "model_name": "LayoutModel",
          "model_module_version": "1.2.0",
          "state": {
            "_model_module": "@jupyter-widgets/base",
            "_model_module_version": "1.2.0",
            "_model_name": "LayoutModel",
            "_view_count": null,
            "_view_module": "@jupyter-widgets/base",
            "_view_module_version": "1.2.0",
            "_view_name": "LayoutView",
            "align_content": null,
            "align_items": null,
            "align_self": null,
            "border": null,
            "bottom": null,
            "display": null,
            "flex": null,
            "flex_flow": null,
            "grid_area": null,
            "grid_auto_columns": null,
            "grid_auto_flow": null,
            "grid_auto_rows": null,
            "grid_column": null,
            "grid_gap": null,
            "grid_row": null,
            "grid_template_areas": null,
            "grid_template_columns": null,
            "grid_template_rows": null,
            "height": null,
            "justify_content": null,
            "justify_items": null,
            "left": null,
            "margin": null,
            "max_height": null,
            "max_width": null,
            "min_height": null,
            "min_width": null,
            "object_fit": null,
            "object_position": null,
            "order": null,
            "overflow": null,
            "overflow_x": null,
            "overflow_y": null,
            "padding": null,
            "right": null,
            "top": null,
            "visibility": null,
            "width": null
          }
        },
        "c7966fe3d2ff4bcda37f34f057a0be7a": {
          "model_module": "@jupyter-widgets/controls",
          "model_name": "DescriptionStyleModel",
          "model_module_version": "1.5.0",
          "state": {
            "_model_module": "@jupyter-widgets/controls",
            "_model_module_version": "1.5.0",
            "_model_name": "DescriptionStyleModel",
            "_view_count": null,
            "_view_module": "@jupyter-widgets/base",
            "_view_module_version": "1.2.0",
            "_view_name": "StyleView",
            "description_width": ""
          }
        },
        "b25d6fea3a6f4590906cf13b49723fd6": {
          "model_module": "@jupyter-widgets/controls",
          "model_name": "HBoxModel",
          "model_module_version": "1.5.0",
          "state": {
            "_dom_classes": [],
            "_model_module": "@jupyter-widgets/controls",
            "_model_module_version": "1.5.0",
            "_model_name": "HBoxModel",
            "_view_count": null,
            "_view_module": "@jupyter-widgets/controls",
            "_view_module_version": "1.5.0",
            "_view_name": "HBoxView",
            "box_style": "",
            "children": [
              "IPY_MODEL_8f86a07d9d494b82abf845cdba2602bb",
              "IPY_MODEL_9b108936fbea4ab18f4d33cfc18ef30e",
              "IPY_MODEL_97796a2742604ef582be7cc19a7619bb"
            ],
            "layout": "IPY_MODEL_2646b0779438417aa01d43d9ff19ef3f"
          }
        },
        "8f86a07d9d494b82abf845cdba2602bb": {
          "model_module": "@jupyter-widgets/controls",
          "model_name": "HTMLModel",
          "model_module_version": "1.5.0",
          "state": {
            "_dom_classes": [],
            "_model_module": "@jupyter-widgets/controls",
            "_model_module_version": "1.5.0",
            "_model_name": "HTMLModel",
            "_view_count": null,
            "_view_module": "@jupyter-widgets/controls",
            "_view_module_version": "1.5.0",
            "_view_name": "HTMLView",
            "description": "",
            "description_tooltip": null,
            "layout": "IPY_MODEL_ddf369d1f346416b98dfccc15df9ff0d",
            "placeholder": "​",
            "style": "IPY_MODEL_a61fd426743549f296f48c57fccc9ac4",
            "value": "Map: 100%"
          }
        },
        "9b108936fbea4ab18f4d33cfc18ef30e": {
          "model_module": "@jupyter-widgets/controls",
          "model_name": "FloatProgressModel",
          "model_module_version": "1.5.0",
          "state": {
            "_dom_classes": [],
            "_model_module": "@jupyter-widgets/controls",
            "_model_module_version": "1.5.0",
            "_model_name": "FloatProgressModel",
            "_view_count": null,
            "_view_module": "@jupyter-widgets/controls",
            "_view_module_version": "1.5.0",
            "_view_name": "ProgressView",
            "bar_style": "success",
            "description": "",
            "description_tooltip": null,
            "layout": "IPY_MODEL_7305005872204780bb46a3e48ce57d92",
            "max": 125,
            "min": 0,
            "orientation": "horizontal",
            "style": "IPY_MODEL_88e57ba484244b5a84efcbc363c3da15",
            "value": 125
          }
        },
        "97796a2742604ef582be7cc19a7619bb": {
          "model_module": "@jupyter-widgets/controls",
          "model_name": "HTMLModel",
          "model_module_version": "1.5.0",
          "state": {
            "_dom_classes": [],
            "_model_module": "@jupyter-widgets/controls",
            "_model_module_version": "1.5.0",
            "_model_name": "HTMLModel",
            "_view_count": null,
            "_view_module": "@jupyter-widgets/controls",
            "_view_module_version": "1.5.0",
            "_view_name": "HTMLView",
            "description": "",
            "description_tooltip": null,
            "layout": "IPY_MODEL_ab43d328545d474ab9290d3e6794d63c",
            "placeholder": "​",
            "style": "IPY_MODEL_d29a6e8ce38444eda3d20bda22e115b3",
            "value": " 125/125 [00:00&lt;00:00, 686.20 examples/s]"
          }
        },
        "2646b0779438417aa01d43d9ff19ef3f": {
          "model_module": "@jupyter-widgets/base",
          "model_name": "LayoutModel",
          "model_module_version": "1.2.0",
          "state": {
            "_model_module": "@jupyter-widgets/base",
            "_model_module_version": "1.2.0",
            "_model_name": "LayoutModel",
            "_view_count": null,
            "_view_module": "@jupyter-widgets/base",
            "_view_module_version": "1.2.0",
            "_view_name": "LayoutView",
            "align_content": null,
            "align_items": null,
            "align_self": null,
            "border": null,
            "bottom": null,
            "display": null,
            "flex": null,
            "flex_flow": null,
            "grid_area": null,
            "grid_auto_columns": null,
            "grid_auto_flow": null,
            "grid_auto_rows": null,
            "grid_column": null,
            "grid_gap": null,
            "grid_row": null,
            "grid_template_areas": null,
            "grid_template_columns": null,
            "grid_template_rows": null,
            "height": null,
            "justify_content": null,
            "justify_items": null,
            "left": null,
            "margin": null,
            "max_height": null,
            "max_width": null,
            "min_height": null,
            "min_width": null,
            "object_fit": null,
            "object_position": null,
            "order": null,
            "overflow": null,
            "overflow_x": null,
            "overflow_y": null,
            "padding": null,
            "right": null,
            "top": null,
            "visibility": null,
            "width": null
          }
        },
        "ddf369d1f346416b98dfccc15df9ff0d": {
          "model_module": "@jupyter-widgets/base",
          "model_name": "LayoutModel",
          "model_module_version": "1.2.0",
          "state": {
            "_model_module": "@jupyter-widgets/base",
            "_model_module_version": "1.2.0",
            "_model_name": "LayoutModel",
            "_view_count": null,
            "_view_module": "@jupyter-widgets/base",
            "_view_module_version": "1.2.0",
            "_view_name": "LayoutView",
            "align_content": null,
            "align_items": null,
            "align_self": null,
            "border": null,
            "bottom": null,
            "display": null,
            "flex": null,
            "flex_flow": null,
            "grid_area": null,
            "grid_auto_columns": null,
            "grid_auto_flow": null,
            "grid_auto_rows": null,
            "grid_column": null,
            "grid_gap": null,
            "grid_row": null,
            "grid_template_areas": null,
            "grid_template_columns": null,
            "grid_template_rows": null,
            "height": null,
            "justify_content": null,
            "justify_items": null,
            "left": null,
            "margin": null,
            "max_height": null,
            "max_width": null,
            "min_height": null,
            "min_width": null,
            "object_fit": null,
            "object_position": null,
            "order": null,
            "overflow": null,
            "overflow_x": null,
            "overflow_y": null,
            "padding": null,
            "right": null,
            "top": null,
            "visibility": null,
            "width": null
          }
        },
        "a61fd426743549f296f48c57fccc9ac4": {
          "model_module": "@jupyter-widgets/controls",
          "model_name": "DescriptionStyleModel",
          "model_module_version": "1.5.0",
          "state": {
            "_model_module": "@jupyter-widgets/controls",
            "_model_module_version": "1.5.0",
            "_model_name": "DescriptionStyleModel",
            "_view_count": null,
            "_view_module": "@jupyter-widgets/base",
            "_view_module_version": "1.2.0",
            "_view_name": "StyleView",
            "description_width": ""
          }
        },
        "7305005872204780bb46a3e48ce57d92": {
          "model_module": "@jupyter-widgets/base",
          "model_name": "LayoutModel",
          "model_module_version": "1.2.0",
          "state": {
            "_model_module": "@jupyter-widgets/base",
            "_model_module_version": "1.2.0",
            "_model_name": "LayoutModel",
            "_view_count": null,
            "_view_module": "@jupyter-widgets/base",
            "_view_module_version": "1.2.0",
            "_view_name": "LayoutView",
            "align_content": null,
            "align_items": null,
            "align_self": null,
            "border": null,
            "bottom": null,
            "display": null,
            "flex": null,
            "flex_flow": null,
            "grid_area": null,
            "grid_auto_columns": null,
            "grid_auto_flow": null,
            "grid_auto_rows": null,
            "grid_column": null,
            "grid_gap": null,
            "grid_row": null,
            "grid_template_areas": null,
            "grid_template_columns": null,
            "grid_template_rows": null,
            "height": null,
            "justify_content": null,
            "justify_items": null,
            "left": null,
            "margin": null,
            "max_height": null,
            "max_width": null,
            "min_height": null,
            "min_width": null,
            "object_fit": null,
            "object_position": null,
            "order": null,
            "overflow": null,
            "overflow_x": null,
            "overflow_y": null,
            "padding": null,
            "right": null,
            "top": null,
            "visibility": null,
            "width": null
          }
        },
        "88e57ba484244b5a84efcbc363c3da15": {
          "model_module": "@jupyter-widgets/controls",
          "model_name": "ProgressStyleModel",
          "model_module_version": "1.5.0",
          "state": {
            "_model_module": "@jupyter-widgets/controls",
            "_model_module_version": "1.5.0",
            "_model_name": "ProgressStyleModel",
            "_view_count": null,
            "_view_module": "@jupyter-widgets/base",
            "_view_module_version": "1.2.0",
            "_view_name": "StyleView",
            "bar_color": null,
            "description_width": ""
          }
        },
        "ab43d328545d474ab9290d3e6794d63c": {
          "model_module": "@jupyter-widgets/base",
          "model_name": "LayoutModel",
          "model_module_version": "1.2.0",
          "state": {
            "_model_module": "@jupyter-widgets/base",
            "_model_module_version": "1.2.0",
            "_model_name": "LayoutModel",
            "_view_count": null,
            "_view_module": "@jupyter-widgets/base",
            "_view_module_version": "1.2.0",
            "_view_name": "LayoutView",
            "align_content": null,
            "align_items": null,
            "align_self": null,
            "border": null,
            "bottom": null,
            "display": null,
            "flex": null,
            "flex_flow": null,
            "grid_area": null,
            "grid_auto_columns": null,
            "grid_auto_flow": null,
            "grid_auto_rows": null,
            "grid_column": null,
            "grid_gap": null,
            "grid_row": null,
            "grid_template_areas": null,
            "grid_template_columns": null,
            "grid_template_rows": null,
            "height": null,
            "justify_content": null,
            "justify_items": null,
            "left": null,
            "margin": null,
            "max_height": null,
            "max_width": null,
            "min_height": null,
            "min_width": null,
            "object_fit": null,
            "object_position": null,
            "order": null,
            "overflow": null,
            "overflow_x": null,
            "overflow_y": null,
            "padding": null,
            "right": null,
            "top": null,
            "visibility": null,
            "width": null
          }
        },
        "d29a6e8ce38444eda3d20bda22e115b3": {
          "model_module": "@jupyter-widgets/controls",
          "model_name": "DescriptionStyleModel",
          "model_module_version": "1.5.0",
          "state": {
            "_model_module": "@jupyter-widgets/controls",
            "_model_module_version": "1.5.0",
            "_model_name": "DescriptionStyleModel",
            "_view_count": null,
            "_view_module": "@jupyter-widgets/base",
            "_view_module_version": "1.2.0",
            "_view_name": "StyleView",
            "description_width": ""
          }
        }
      }
    },
    "accelerator": "GPU"
  },
  "cells": [
    {
      "cell_type": "markdown",
      "metadata": {
        "id": "view-in-github",
        "colab_type": "text"
      },
      "source": [
        "<a href=\"https://colab.research.google.com/github/ftmthb/NER/blob/main/ner_india_train.ipynb\" target=\"_parent\"><img src=\"https://colab.research.google.com/assets/colab-badge.svg\" alt=\"Open In Colab\"/></a>"
      ]
    },
    {
      "cell_type": "markdown",
      "source": [
        "# The notebook flow"
      ],
      "metadata": {
        "id": "kVbjmO7IZQqn"
      }
    },
    {
      "cell_type": "markdown",
      "source": [
        "* **Environment set**:\n",
        "This consisits of:\n",
        "  *  creating a virtual environment in which we'll install necessary libraries in order to avoid re-installing them in each session.\n",
        "  * With that being done, we'll only need to append the path of the installation in the virtual environment at the begining, which is somehow the equivalent to the activation\n",
        "\n",
        "* **Preprocess**: The goal of this part is to <ins> create training and development datasets </ins>. In order to achieve that we'll:\n",
        "  * import the json data: train and developpement ( validation)\n",
        "  * get the indexes of the documents <ins>with annotations</ins>, in other terms with special entities\n",
        "  * clean the data: this function aims to get rid of all the special characters that are either ignored or in proper terms considered as whitespaces by the tokenizer or are going to be a waste ( in some documents we have a successsion of '===', '***', to separate passages, each element of these will be tokenized as one element which would be better avoided since we only have 512 tokens). On the other hand, since the whitespaces will be removed by the tokenizer, we don't really need to remove them in the cleaning proccess.\n",
        "  * define a function to get the new position of a special entity based on its position in the text given in the annotations because the cleaning will imply some changes in the positions and we'll need those later to make sure the labels will be aligned.\n",
        "  * define the model, the tokenizer and tokenize the data. The tokenization will result on a list of tokens for each document.\n",
        "  * define a function that'll get the position of the token of a given special entity based on its position in the text. This function will be used to make sure the labels will be aligned with the tokens.\n",
        "  \n",
        "  * create the list of labels' tokens based on the list of tokens. (Considering that the tokens are a list of lists. A list of tokens for each document where each document is an element of the bigger list)\n",
        "  *  gather all the labels: labels_list, which will be encoded\n",
        "  * create the datasets:\n",
        "    * with 0 for cls, sep and pad\n",
        "    * with -100 for cls, sep and pad\n",
        "* **Process**:\n",
        "  * load the datasets\n",
        "  * fine tune model on different datasets\n"
      ],
      "metadata": {
        "id": "1eP_ls13M7Dr"
      }
    },
    {
      "cell_type": "markdown",
      "source": [
        "# Conclusion\n"
      ],
      "metadata": {
        "id": "Ax3fkw-8ZjAu"
      }
    },
    {
      "cell_type": "markdown",
      "source": [
        "* The model shows better performance when we don't affect -100 on cls, sep and pad\n",
        "* Some labels (GPE, OTHER_PERSON) gives the following warning\n",
        "\n",
        "    &emsp; | seems not to be NE tag   \\\\\n",
        "after checking, these labels are present following the IOB/BIO format (we have B-GPE, I-GPE, B-OTHER_PERSON and I-OTHER_PERSON ammoung the labels) and raw (we also have GPE and OTHER_PERSON)\n",
        "which could be the source of the confusion\n"
      ],
      "metadata": {
        "id": "cmuyq8xzZVka"
      }
    },
    {
      "cell_type": "markdown",
      "source": [
        "# 1.Environment set"
      ],
      "metadata": {
        "id": "1QpQ52Kh8qQd"
      }
    },
    {
      "cell_type": "markdown",
      "source": [
        "## Create and activate venv to avoid installing libraries in every session"
      ],
      "metadata": {
        "id": "gGKq-4_o873U"
      }
    },
    {
      "cell_type": "code",
      "source": [
        "!pip install virtualenv"
      ],
      "metadata": {
        "id": "iiysUWl3PFsP",
        "colab": {
          "base_uri": "https://localhost:8080/"
        },
        "outputId": "18de7fa8-85c4-42ad-ffe0-4e33f6206bc4"
      },
      "execution_count": null,
      "outputs": [
        {
          "output_type": "stream",
          "name": "stdout",
          "text": [
            "Collecting virtualenv\n",
            "  Downloading virtualenv-20.26.2-py3-none-any.whl (3.9 MB)\n",
            "\u001b[2K     \u001b[90m━━━━━━━━━━━━━━━━━━━━━━━━━━━━━━━━━━━━━━━━\u001b[0m \u001b[32m3.9/3.9 MB\u001b[0m \u001b[31m12.9 MB/s\u001b[0m eta \u001b[36m0:00:00\u001b[0m\n",
            "\u001b[?25hCollecting distlib<1,>=0.3.7 (from virtualenv)\n",
            "  Downloading distlib-0.3.8-py2.py3-none-any.whl (468 kB)\n",
            "\u001b[2K     \u001b[90m━━━━━━━━━━━━━━━━━━━━━━━━━━━━━━━━━━━━━━━━\u001b[0m \u001b[32m468.9/468.9 kB\u001b[0m \u001b[31m15.9 MB/s\u001b[0m eta \u001b[36m0:00:00\u001b[0m\n",
            "\u001b[?25hRequirement already satisfied: filelock<4,>=3.12.2 in /usr/local/lib/python3.10/dist-packages (from virtualenv) (3.14.0)\n",
            "Requirement already satisfied: platformdirs<5,>=3.9.1 in /usr/local/lib/python3.10/dist-packages (from virtualenv) (4.2.1)\n",
            "Installing collected packages: distlib, virtualenv\n",
            "Successfully installed distlib-0.3.8 virtualenv-20.26.2\n"
          ]
        }
      ]
    },
    {
      "cell_type": "code",
      "source": [
        "!virtualenv /content/drive/MyDrive/virtual_env\n"
      ],
      "metadata": {
        "id": "WIXjAzVKO27u",
        "colab": {
          "base_uri": "https://localhost:8080/"
        },
        "outputId": "d5346bd0-ed82-433f-a99b-d0f757ccd2f8"
      },
      "execution_count": null,
      "outputs": [
        {
          "output_type": "stream",
          "name": "stdout",
          "text": [
            "created virtual environment CPython3.10.12.final.0-64 in 42682ms\n",
            "  creator CPython3Posix(dest=/content/drive/MyDrive/virtual_env, clear=False, no_vcs_ignore=False, global=False)\n",
            "  seeder FromAppData(download=False, pip=bundle, setuptools=bundle, wheel=bundle, via=copy, app_data_dir=/root/.local/share/virtualenv)\n",
            "    added seed packages: MarkupSafe==2.1.5, PyYAML==6.0.1, accelerate==0.30.1, aiohttp==3.9.5, aiosignal==1.3.1, async_timeout==4.0.3, attrs==23.2.0, certifi==2024.2.2, charset_normalizer==3.3.2, datasets==2.19.1, dill==0.3.8, filelock==3.14.0, frozenlist==1.4.1, fsspec==2024.3.1, huggingface_hub==0.23.0, idna==3.7, jinja2==3.1.4, langdetect==1.0.9, mpmath==1.3.0, multidict==6.0.5, multiprocess==0.70.16, networkx==3.3, numpy==1.26.4, nvidia_cublas_cu12==12.1.3.1, nvidia_cuda_cupti_cu12==12.1.105, nvidia_cuda_nvrtc_cu12==12.1.105, nvidia_cuda_runtime_cu12==12.1.105, nvidia_cudnn_cu12==8.9.2.26, nvidia_cufft_cu12==11.0.2.54, nvidia_curand_cu12==10.3.2.106, nvidia_cusolver_cu12==11.4.5.107, nvidia_cusparse_cu12==12.1.0.106, nvidia_nccl_cu12==2.20.5, nvidia_nvjitlink_cu12==12.4.127, nvidia_nvtx_cu12==12.1.105, packaging==24.0, pandas==2.2.2, pip==24.0, psutil==5.9.8, pyarrow==16.0.0, pyarrow_hotfix==0.6, python_dateutil==2.9.0.post0, pytz==2024.1, regex==2024.5.10, requests==2.31.0, safetensors==0.4.3, setuptools==69.5.1, six==1.16.0, sympy==1.12, tokenizers==0.19.1, torch==2.3.0, tqdm==4.66.4, transformers==4.40.2, triton==2.3.0, typing_extensions==4.11.0, tzdata==2024.1, urllib3==2.2.1, wheel==0.43.0, xxhash==3.4.1, yarl==1.9.4\n",
            "  activators BashActivator,CShellActivator,FishActivator,NushellActivator,PowerShellActivator,PythonActivator\n"
          ]
        }
      ]
    },
    {
      "cell_type": "code",
      "source": [
        "import sys\n",
        "sys.path.append(\"/content/drive/MyDrive/virtual_env/lib/python3.10/site-packages\")"
      ],
      "metadata": {
        "id": "YNcNi_6DTiX-"
      },
      "execution_count": null,
      "outputs": []
    },
    {
      "cell_type": "markdown",
      "metadata": {
        "id": "FOO-dA9ImTSj"
      },
      "source": [
        "### install libraries"
      ]
    },
    {
      "cell_type": "markdown",
      "source": [
        "#### datasets"
      ],
      "metadata": {
        "id": "RFvescG1PjTC"
      }
    },
    {
      "cell_type": "code",
      "source": [
        "!source /content/drive/MyDrive/virtual_env/bin/activate; pip install datasets"
      ],
      "metadata": {
        "colab": {
          "base_uri": "https://localhost:8080/"
        },
        "id": "SluzN3CmPNFk",
        "outputId": "5458fe71-c1a7-4496-c91e-e21e4b213383"
      },
      "execution_count": null,
      "outputs": [
        {
          "output_type": "stream",
          "name": "stdout",
          "text": [
            "Collecting datasets\n",
            "  Downloading datasets-2.19.1-py3-none-any.whl.metadata (19 kB)\n",
            "Collecting filelock (from datasets)\n",
            "  Downloading filelock-3.14.0-py3-none-any.whl.metadata (2.8 kB)\n",
            "Collecting numpy>=1.17 (from datasets)\n",
            "  Downloading numpy-1.26.4-cp310-cp310-manylinux_2_17_x86_64.manylinux2014_x86_64.whl.metadata (61 kB)\n",
            "\u001b[2K     \u001b[90m━━━━━━━━━━━━━━━━━━━━━━━━━━━━━━━━━━━━━━━━\u001b[0m \u001b[32m61.0/61.0 kB\u001b[0m \u001b[31m2.1 MB/s\u001b[0m eta \u001b[36m0:00:00\u001b[0m\n",
            "\u001b[?25hCollecting pyarrow>=12.0.0 (from datasets)\n",
            "  Downloading pyarrow-16.0.0-cp310-cp310-manylinux_2_28_x86_64.whl.metadata (3.0 kB)\n",
            "Collecting pyarrow-hotfix (from datasets)\n",
            "  Downloading pyarrow_hotfix-0.6-py3-none-any.whl.metadata (3.6 kB)\n",
            "Collecting dill<0.3.9,>=0.3.0 (from datasets)\n",
            "  Downloading dill-0.3.8-py3-none-any.whl.metadata (10 kB)\n",
            "Collecting pandas (from datasets)\n",
            "  Downloading pandas-2.2.2-cp310-cp310-manylinux_2_17_x86_64.manylinux2014_x86_64.whl.metadata (19 kB)\n",
            "Collecting requests>=2.19.0 (from datasets)\n",
            "  Downloading requests-2.31.0-py3-none-any.whl.metadata (4.6 kB)\n",
            "Collecting tqdm>=4.62.1 (from datasets)\n",
            "  Downloading tqdm-4.66.4-py3-none-any.whl.metadata (57 kB)\n",
            "\u001b[2K     \u001b[90m━━━━━━━━━━━━━━━━━━━━━━━━━━━━━━━━━━━━━━━━\u001b[0m \u001b[32m57.6/57.6 kB\u001b[0m \u001b[31m2.0 MB/s\u001b[0m eta \u001b[36m0:00:00\u001b[0m\n",
            "\u001b[?25hCollecting xxhash (from datasets)\n",
            "  Downloading xxhash-3.4.1-cp310-cp310-manylinux_2_17_x86_64.manylinux2014_x86_64.whl.metadata (12 kB)\n",
            "Collecting multiprocess (from datasets)\n",
            "  Downloading multiprocess-0.70.16-py310-none-any.whl.metadata (7.2 kB)\n",
            "Collecting fsspec<=2024.3.1,>=2023.1.0 (from fsspec[http]<=2024.3.1,>=2023.1.0->datasets)\n",
            "  Downloading fsspec-2024.3.1-py3-none-any.whl.metadata (6.8 kB)\n",
            "Collecting aiohttp (from datasets)\n",
            "  Downloading aiohttp-3.9.5-cp310-cp310-manylinux_2_17_x86_64.manylinux2014_x86_64.whl.metadata (7.5 kB)\n",
            "Collecting huggingface-hub>=0.21.2 (from datasets)\n",
            "  Downloading huggingface_hub-0.23.0-py3-none-any.whl.metadata (12 kB)\n",
            "Collecting packaging (from datasets)\n",
            "  Using cached packaging-24.0-py3-none-any.whl.metadata (3.2 kB)\n",
            "Collecting pyyaml>=5.1 (from datasets)\n",
            "  Downloading PyYAML-6.0.1-cp310-cp310-manylinux_2_17_x86_64.manylinux2014_x86_64.whl.metadata (2.1 kB)\n",
            "Collecting aiosignal>=1.1.2 (from aiohttp->datasets)\n",
            "  Downloading aiosignal-1.3.1-py3-none-any.whl.metadata (4.0 kB)\n",
            "Collecting attrs>=17.3.0 (from aiohttp->datasets)\n",
            "  Downloading attrs-23.2.0-py3-none-any.whl.metadata (9.5 kB)\n",
            "Collecting frozenlist>=1.1.1 (from aiohttp->datasets)\n",
            "  Downloading frozenlist-1.4.1-cp310-cp310-manylinux_2_5_x86_64.manylinux1_x86_64.manylinux_2_17_x86_64.manylinux2014_x86_64.whl.metadata (12 kB)\n",
            "Collecting multidict<7.0,>=4.5 (from aiohttp->datasets)\n",
            "  Downloading multidict-6.0.5-cp310-cp310-manylinux_2_17_x86_64.manylinux2014_x86_64.whl.metadata (4.2 kB)\n",
            "Collecting yarl<2.0,>=1.0 (from aiohttp->datasets)\n",
            "  Downloading yarl-1.9.4-cp310-cp310-manylinux_2_17_x86_64.manylinux2014_x86_64.whl.metadata (31 kB)\n",
            "Collecting async-timeout<5.0,>=4.0 (from aiohttp->datasets)\n",
            "  Downloading async_timeout-4.0.3-py3-none-any.whl.metadata (4.2 kB)\n",
            "Collecting typing-extensions>=3.7.4.3 (from huggingface-hub>=0.21.2->datasets)\n",
            "  Downloading typing_extensions-4.11.0-py3-none-any.whl.metadata (3.0 kB)\n",
            "Collecting charset-normalizer<4,>=2 (from requests>=2.19.0->datasets)\n",
            "  Downloading charset_normalizer-3.3.2-cp310-cp310-manylinux_2_17_x86_64.manylinux2014_x86_64.whl.metadata (33 kB)\n",
            "Collecting idna<4,>=2.5 (from requests>=2.19.0->datasets)\n",
            "  Downloading idna-3.7-py3-none-any.whl.metadata (9.9 kB)\n",
            "Collecting urllib3<3,>=1.21.1 (from requests>=2.19.0->datasets)\n",
            "  Downloading urllib3-2.2.1-py3-none-any.whl.metadata (6.4 kB)\n",
            "Collecting certifi>=2017.4.17 (from requests>=2.19.0->datasets)\n",
            "  Downloading certifi-2024.2.2-py3-none-any.whl.metadata (2.2 kB)\n",
            "Collecting python-dateutil>=2.8.2 (from pandas->datasets)\n",
            "  Downloading python_dateutil-2.9.0.post0-py2.py3-none-any.whl.metadata (8.4 kB)\n",
            "Collecting pytz>=2020.1 (from pandas->datasets)\n",
            "  Downloading pytz-2024.1-py2.py3-none-any.whl.metadata (22 kB)\n",
            "Collecting tzdata>=2022.7 (from pandas->datasets)\n",
            "  Downloading tzdata-2024.1-py2.py3-none-any.whl.metadata (1.4 kB)\n",
            "Collecting six>=1.5 (from python-dateutil>=2.8.2->pandas->datasets)\n",
            "  Downloading six-1.16.0-py2.py3-none-any.whl.metadata (1.8 kB)\n",
            "Downloading datasets-2.19.1-py3-none-any.whl (542 kB)\n",
            "\u001b[2K   \u001b[90m━━━━━━━━━━━━━━━━━━━━━━━━━━━━━━━━━━━━━━━━\u001b[0m \u001b[32m542.0/542.0 kB\u001b[0m \u001b[31m10.2 MB/s\u001b[0m eta \u001b[36m0:00:00\u001b[0m\n",
            "\u001b[?25hDownloading dill-0.3.8-py3-none-any.whl (116 kB)\n",
            "\u001b[2K   \u001b[90m━━━━━━━━━━━━━━━━━━━━━━━━━━━━━━━━━━━━━━━━\u001b[0m \u001b[32m116.3/116.3 kB\u001b[0m \u001b[31m9.1 MB/s\u001b[0m eta \u001b[36m0:00:00\u001b[0m\n",
            "\u001b[?25hDownloading fsspec-2024.3.1-py3-none-any.whl (171 kB)\n",
            "\u001b[2K   \u001b[90m━━━━━━━━━━━━━━━━━━━━━━━━━━━━━━━━━━━━━━━━\u001b[0m \u001b[32m172.0/172.0 kB\u001b[0m \u001b[31m13.1 MB/s\u001b[0m eta \u001b[36m0:00:00\u001b[0m\n",
            "\u001b[?25hDownloading aiohttp-3.9.5-cp310-cp310-manylinux_2_17_x86_64.manylinux2014_x86_64.whl (1.2 MB)\n",
            "\u001b[2K   \u001b[90m━━━━━━━━━━━━━━━━━━━━━━━━━━━━━━━━━━━━━━━━\u001b[0m \u001b[32m1.2/1.2 MB\u001b[0m \u001b[31m29.4 MB/s\u001b[0m eta \u001b[36m0:00:00\u001b[0m\n",
            "\u001b[?25hDownloading huggingface_hub-0.23.0-py3-none-any.whl (401 kB)\n",
            "\u001b[2K   \u001b[90m━━━━━━━━━━━━━━━━━━━━━━━━━━━━━━━━━━━━━━━━\u001b[0m \u001b[32m401.2/401.2 kB\u001b[0m \u001b[31m14.9 MB/s\u001b[0m eta \u001b[36m0:00:00\u001b[0m\n",
            "\u001b[?25hDownloading numpy-1.26.4-cp310-cp310-manylinux_2_17_x86_64.manylinux2014_x86_64.whl (18.2 MB)\n",
            "\u001b[2K   \u001b[90m━━━━━━━━━━━━━━━━━━━━━━━━━━━━━━━━━━━━━━━━\u001b[0m \u001b[32m18.2/18.2 MB\u001b[0m \u001b[31m19.1 MB/s\u001b[0m eta \u001b[36m0:00:00\u001b[0m\n",
            "\u001b[?25hUsing cached packaging-24.0-py3-none-any.whl (53 kB)\n",
            "Downloading pyarrow-16.0.0-cp310-cp310-manylinux_2_28_x86_64.whl (40.8 MB)\n",
            "\u001b[2K   \u001b[90m━━━━━━━━━━━━━━━━━━━━━━━━━━━━━━━━━━━━━━━━\u001b[0m \u001b[32m40.8/40.8 MB\u001b[0m \u001b[31m8.2 MB/s\u001b[0m eta \u001b[36m0:00:00\u001b[0m\n",
            "\u001b[?25hDownloading PyYAML-6.0.1-cp310-cp310-manylinux_2_17_x86_64.manylinux2014_x86_64.whl (705 kB)\n",
            "\u001b[2K   \u001b[90m━━━━━━━━━━━━━━━━━━━━━━━━━━━━━━━━━━━━━━━━\u001b[0m \u001b[32m705.5/705.5 kB\u001b[0m \u001b[31m35.2 MB/s\u001b[0m eta \u001b[36m0:00:00\u001b[0m\n",
            "\u001b[?25hDownloading requests-2.31.0-py3-none-any.whl (62 kB)\n",
            "\u001b[2K   \u001b[90m━━━━━━━━━━━━━━━━━━━━━━━━━━━━━━━━━━━━━━━━\u001b[0m \u001b[32m62.6/62.6 kB\u001b[0m \u001b[31m4.7 MB/s\u001b[0m eta \u001b[36m0:00:00\u001b[0m\n",
            "\u001b[?25hDownloading tqdm-4.66.4-py3-none-any.whl (78 kB)\n",
            "\u001b[2K   \u001b[90m━━━━━━━━━━━━━━━━━━━━━━━━━━━━━━━━━━━━━━━━\u001b[0m \u001b[32m78.3/78.3 kB\u001b[0m \u001b[31m5.8 MB/s\u001b[0m eta \u001b[36m0:00:00\u001b[0m\n",
            "\u001b[?25hDownloading filelock-3.14.0-py3-none-any.whl (12 kB)\n",
            "Downloading multiprocess-0.70.16-py310-none-any.whl (134 kB)\n",
            "\u001b[2K   \u001b[90m━━━━━━━━━━━━━━━━━━━━━━━━━━━━━━━━━━━━━━━━\u001b[0m \u001b[32m134.8/134.8 kB\u001b[0m \u001b[31m10.0 MB/s\u001b[0m eta \u001b[36m0:00:00\u001b[0m\n",
            "\u001b[?25hDownloading pandas-2.2.2-cp310-cp310-manylinux_2_17_x86_64.manylinux2014_x86_64.whl (13.0 MB)\n",
            "\u001b[2K   \u001b[90m━━━━━━━━━━━━━━━━━━━━━━━━━━━━━━━━━━━━━━━━\u001b[0m \u001b[32m13.0/13.0 MB\u001b[0m \u001b[31m60.3 MB/s\u001b[0m eta \u001b[36m0:00:00\u001b[0m\n",
            "\u001b[?25hDownloading pyarrow_hotfix-0.6-py3-none-any.whl (7.9 kB)\n",
            "Downloading xxhash-3.4.1-cp310-cp310-manylinux_2_17_x86_64.manylinux2014_x86_64.whl (194 kB)\n",
            "\u001b[2K   \u001b[90m━━━━━━━━━━━━━━━━━━━━━━━━━━━━━━━━━━━━━━━━\u001b[0m \u001b[32m194.1/194.1 kB\u001b[0m \u001b[31m13.2 MB/s\u001b[0m eta \u001b[36m0:00:00\u001b[0m\n",
            "\u001b[?25hDownloading aiosignal-1.3.1-py3-none-any.whl (7.6 kB)\n",
            "Downloading async_timeout-4.0.3-py3-none-any.whl (5.7 kB)\n",
            "Downloading attrs-23.2.0-py3-none-any.whl (60 kB)\n",
            "\u001b[2K   \u001b[90m━━━━━━━━━━━━━━━━━━━━━━━━━━━━━━━━━━━━━━━━\u001b[0m \u001b[32m60.8/60.8 kB\u001b[0m \u001b[31m5.6 MB/s\u001b[0m eta \u001b[36m0:00:00\u001b[0m\n",
            "\u001b[?25hDownloading certifi-2024.2.2-py3-none-any.whl (163 kB)\n",
            "\u001b[2K   \u001b[90m━━━━━━━━━━━━━━━━━━━━━━━━━━━━━━━━━━━━━━━━\u001b[0m \u001b[32m163.8/163.8 kB\u001b[0m \u001b[31m14.0 MB/s\u001b[0m eta \u001b[36m0:00:00\u001b[0m\n",
            "\u001b[?25hDownloading charset_normalizer-3.3.2-cp310-cp310-manylinux_2_17_x86_64.manylinux2014_x86_64.whl (142 kB)\n",
            "\u001b[2K   \u001b[90m━━━━━━━━━━━━━━━━━━━━━━━━━━━━━━━━━━━━━━━━\u001b[0m \u001b[32m142.1/142.1 kB\u001b[0m \u001b[31m11.6 MB/s\u001b[0m eta \u001b[36m0:00:00\u001b[0m\n",
            "\u001b[?25hDownloading frozenlist-1.4.1-cp310-cp310-manylinux_2_5_x86_64.manylinux1_x86_64.manylinux_2_17_x86_64.manylinux2014_x86_64.whl (239 kB)\n",
            "\u001b[2K   \u001b[90m━━━━━━━━━━━━━━━━━━━━━━━━━━━━━━━━━━━━━━━━\u001b[0m \u001b[32m239.5/239.5 kB\u001b[0m \u001b[31m20.1 MB/s\u001b[0m eta \u001b[36m0:00:00\u001b[0m\n",
            "\u001b[?25hDownloading idna-3.7-py3-none-any.whl (66 kB)\n",
            "\u001b[2K   \u001b[90m━━━━━━━━━━━━━━━━━━━━━━━━━━━━━━━━━━━━━━━━\u001b[0m \u001b[32m66.8/66.8 kB\u001b[0m \u001b[31m5.8 MB/s\u001b[0m eta \u001b[36m0:00:00\u001b[0m\n",
            "\u001b[?25hDownloading multidict-6.0.5-cp310-cp310-manylinux_2_17_x86_64.manylinux2014_x86_64.whl (124 kB)\n",
            "\u001b[2K   \u001b[90m━━━━━━━━━━━━━━━━━━━━━━━━━━━━━━━━━━━━━━━━\u001b[0m \u001b[32m124.3/124.3 kB\u001b[0m \u001b[31m11.7 MB/s\u001b[0m eta \u001b[36m0:00:00\u001b[0m\n",
            "\u001b[?25hDownloading python_dateutil-2.9.0.post0-py2.py3-none-any.whl (229 kB)\n",
            "\u001b[2K   \u001b[90m━━━━━━━━━━━━━━━━━━━━━━━━━━━━━━━━━━━━━━━━\u001b[0m \u001b[32m229.9/229.9 kB\u001b[0m \u001b[31m20.2 MB/s\u001b[0m eta \u001b[36m0:00:00\u001b[0m\n",
            "\u001b[?25hDownloading pytz-2024.1-py2.py3-none-any.whl (505 kB)\n",
            "\u001b[2K   \u001b[90m━━━━━━━━━━━━━━━━━━━━━━━━━━━━━━━━━━━━━━━━\u001b[0m \u001b[32m505.5/505.5 kB\u001b[0m \u001b[31m33.8 MB/s\u001b[0m eta \u001b[36m0:00:00\u001b[0m\n",
            "\u001b[?25hDownloading typing_extensions-4.11.0-py3-none-any.whl (34 kB)\n",
            "Downloading tzdata-2024.1-py2.py3-none-any.whl (345 kB)\n",
            "\u001b[2K   \u001b[90m━━━━━━━━━━━━━━━━━━━━━━━━━━━━━━━━━━━━━━━━\u001b[0m \u001b[32m345.4/345.4 kB\u001b[0m \u001b[31m27.3 MB/s\u001b[0m eta \u001b[36m0:00:00\u001b[0m\n",
            "\u001b[?25hDownloading urllib3-2.2.1-py3-none-any.whl (121 kB)\n",
            "\u001b[2K   \u001b[90m━━━━━━━━━━━━━━━━━━━━━━━━━━━━━━━━━━━━━━━━\u001b[0m \u001b[32m121.1/121.1 kB\u001b[0m \u001b[31m9.4 MB/s\u001b[0m eta \u001b[36m0:00:00\u001b[0m\n",
            "\u001b[?25hDownloading yarl-1.9.4-cp310-cp310-manylinux_2_17_x86_64.manylinux2014_x86_64.whl (301 kB)\n",
            "\u001b[2K   \u001b[90m━━━━━━━━━━━━━━━━━━━━━━━━━━━━━━━━━━━━━━━━\u001b[0m \u001b[32m301.6/301.6 kB\u001b[0m \u001b[31m24.5 MB/s\u001b[0m eta \u001b[36m0:00:00\u001b[0m\n",
            "\u001b[?25hDownloading six-1.16.0-py2.py3-none-any.whl (11 kB)\n",
            "Installing collected packages: pytz, xxhash, urllib3, tzdata, typing-extensions, tqdm, six, pyyaml, pyarrow-hotfix, packaging, numpy, multidict, idna, fsspec, frozenlist, filelock, dill, charset-normalizer, certifi, attrs, async-timeout, yarl, requests, python-dateutil, pyarrow, multiprocess, aiosignal, pandas, huggingface-hub, aiohttp, datasets\n",
            "Successfully installed aiohttp-3.9.5 aiosignal-1.3.1 async-timeout-4.0.3 attrs-23.2.0 certifi-2024.2.2 charset-normalizer-3.3.2 datasets-2.19.1 dill-0.3.8 filelock-3.14.0 frozenlist-1.4.1 fsspec-2024.3.1 huggingface-hub-0.23.0 idna-3.7 multidict-6.0.5 multiprocess-0.70.16 numpy-1.26.4 packaging-24.0 pandas-2.2.2 pyarrow-16.0.0 pyarrow-hotfix-0.6 python-dateutil-2.9.0.post0 pytz-2024.1 pyyaml-6.0.1 requests-2.31.0 six-1.16.0 tqdm-4.66.4 typing-extensions-4.11.0 tzdata-2024.1 urllib3-2.2.1 xxhash-3.4.1 yarl-1.9.4\n"
          ]
        }
      ]
    },
    {
      "cell_type": "markdown",
      "source": [
        "#### transformers [torch]"
      ],
      "metadata": {
        "id": "BhRyPy81Pyws"
      }
    },
    {
      "cell_type": "code",
      "execution_count": null,
      "metadata": {
        "colab": {
          "base_uri": "https://localhost:8080/"
        },
        "id": "qh9TR3FXuo_u",
        "outputId": "47ab3228-f3bb-4d0e-be0b-829d20d8b36b"
      },
      "outputs": [
        {
          "output_type": "stream",
          "name": "stdout",
          "text": [
            "Collecting transformers[torch]\n",
            "  Downloading transformers-4.40.2-py3-none-any.whl.metadata (137 kB)\n",
            "\u001b[?25l     \u001b[90m━━━━━━━━━━━━━━━━━━━━━━━━━━━━━━━━━━━━━━━━\u001b[0m \u001b[32m0.0/138.0 kB\u001b[0m \u001b[31m?\u001b[0m eta \u001b[36m-:--:--\u001b[0m\r\u001b[2K     \u001b[91m━━━━━━━━━━━━━━━━━━━━━━━\u001b[0m\u001b[91m╸\u001b[0m\u001b[90m━━━━━━━━━━━━━━━━\u001b[0m \u001b[32m81.9/138.0 kB\u001b[0m \u001b[31m2.2 MB/s\u001b[0m eta \u001b[36m0:00:01\u001b[0m\r\u001b[2K     \u001b[90m━━━━━━━━━━━━━━━━━━━━━━━━━━━━━━━━━━━━━━━━\u001b[0m \u001b[32m138.0/138.0 kB\u001b[0m \u001b[31m2.5 MB/s\u001b[0m eta \u001b[36m0:00:00\u001b[0m\n",
            "\u001b[?25hRequirement already satisfied: filelock in ./drive/MyDrive/virtual_env/lib/python3.10/site-packages (from transformers[torch]) (3.14.0)\n",
            "Requirement already satisfied: huggingface-hub<1.0,>=0.19.3 in ./drive/MyDrive/virtual_env/lib/python3.10/site-packages (from transformers[torch]) (0.23.0)\n",
            "Requirement already satisfied: numpy>=1.17 in ./drive/MyDrive/virtual_env/lib/python3.10/site-packages (from transformers[torch]) (1.26.4)\n",
            "Requirement already satisfied: packaging>=20.0 in ./drive/MyDrive/virtual_env/lib/python3.10/site-packages (from transformers[torch]) (24.0)\n",
            "Requirement already satisfied: pyyaml>=5.1 in ./drive/MyDrive/virtual_env/lib/python3.10/site-packages (from transformers[torch]) (6.0.1)\n",
            "Collecting regex!=2019.12.17 (from transformers[torch])\n",
            "  Downloading regex-2024.5.10-cp310-cp310-manylinux_2_17_x86_64.manylinux2014_x86_64.whl.metadata (40 kB)\n",
            "\u001b[2K     \u001b[90m━━━━━━━━━━━━━━━━━━━━━━━━━━━━━━━━━━━━━━━━\u001b[0m \u001b[32m40.9/40.9 kB\u001b[0m \u001b[31m2.6 MB/s\u001b[0m eta \u001b[36m0:00:00\u001b[0m\n",
            "\u001b[?25hRequirement already satisfied: requests in ./drive/MyDrive/virtual_env/lib/python3.10/site-packages (from transformers[torch]) (2.31.0)\n",
            "Collecting tokenizers<0.20,>=0.19 (from transformers[torch])\n",
            "  Downloading tokenizers-0.19.1-cp310-cp310-manylinux_2_17_x86_64.manylinux2014_x86_64.whl.metadata (6.7 kB)\n",
            "Collecting safetensors>=0.4.1 (from transformers[torch])\n",
            "  Downloading safetensors-0.4.3-cp310-cp310-manylinux_2_17_x86_64.manylinux2014_x86_64.whl.metadata (3.8 kB)\n",
            "Requirement already satisfied: tqdm>=4.27 in ./drive/MyDrive/virtual_env/lib/python3.10/site-packages (from transformers[torch]) (4.66.4)\n",
            "Collecting torch (from transformers[torch])\n",
            "  Downloading torch-2.3.0-cp310-cp310-manylinux1_x86_64.whl.metadata (26 kB)\n",
            "Collecting accelerate>=0.21.0 (from transformers[torch])\n",
            "  Downloading accelerate-0.30.1-py3-none-any.whl.metadata (18 kB)\n",
            "Collecting psutil (from accelerate>=0.21.0->transformers[torch])\n",
            "  Downloading psutil-5.9.8-cp36-abi3-manylinux_2_12_x86_64.manylinux2010_x86_64.manylinux_2_17_x86_64.manylinux2014_x86_64.whl.metadata (21 kB)\n",
            "Requirement already satisfied: fsspec>=2023.5.0 in ./drive/MyDrive/virtual_env/lib/python3.10/site-packages (from huggingface-hub<1.0,>=0.19.3->transformers[torch]) (2024.3.1)\n",
            "Requirement already satisfied: typing-extensions>=3.7.4.3 in ./drive/MyDrive/virtual_env/lib/python3.10/site-packages (from huggingface-hub<1.0,>=0.19.3->transformers[torch]) (4.11.0)\n",
            "Collecting sympy (from torch->transformers[torch])\n",
            "  Downloading sympy-1.12-py3-none-any.whl.metadata (12 kB)\n",
            "Collecting networkx (from torch->transformers[torch])\n",
            "  Downloading networkx-3.3-py3-none-any.whl.metadata (5.1 kB)\n",
            "Collecting jinja2 (from torch->transformers[torch])\n",
            "  Downloading jinja2-3.1.4-py3-none-any.whl.metadata (2.6 kB)\n",
            "Collecting nvidia-cuda-nvrtc-cu12==12.1.105 (from torch->transformers[torch])\n",
            "  Downloading nvidia_cuda_nvrtc_cu12-12.1.105-py3-none-manylinux1_x86_64.whl.metadata (1.5 kB)\n",
            "Collecting nvidia-cuda-runtime-cu12==12.1.105 (from torch->transformers[torch])\n",
            "  Downloading nvidia_cuda_runtime_cu12-12.1.105-py3-none-manylinux1_x86_64.whl.metadata (1.5 kB)\n",
            "Collecting nvidia-cuda-cupti-cu12==12.1.105 (from torch->transformers[torch])\n",
            "  Downloading nvidia_cuda_cupti_cu12-12.1.105-py3-none-manylinux1_x86_64.whl.metadata (1.6 kB)\n",
            "Collecting nvidia-cudnn-cu12==8.9.2.26 (from torch->transformers[torch])\n",
            "  Downloading nvidia_cudnn_cu12-8.9.2.26-py3-none-manylinux1_x86_64.whl.metadata (1.6 kB)\n",
            "Collecting nvidia-cublas-cu12==12.1.3.1 (from torch->transformers[torch])\n",
            "  Downloading nvidia_cublas_cu12-12.1.3.1-py3-none-manylinux1_x86_64.whl.metadata (1.5 kB)\n",
            "Collecting nvidia-cufft-cu12==11.0.2.54 (from torch->transformers[torch])\n",
            "  Downloading nvidia_cufft_cu12-11.0.2.54-py3-none-manylinux1_x86_64.whl.metadata (1.5 kB)\n",
            "Collecting nvidia-curand-cu12==10.3.2.106 (from torch->transformers[torch])\n",
            "  Downloading nvidia_curand_cu12-10.3.2.106-py3-none-manylinux1_x86_64.whl.metadata (1.5 kB)\n",
            "Collecting nvidia-cusolver-cu12==11.4.5.107 (from torch->transformers[torch])\n",
            "  Downloading nvidia_cusolver_cu12-11.4.5.107-py3-none-manylinux1_x86_64.whl.metadata (1.6 kB)\n",
            "Collecting nvidia-cusparse-cu12==12.1.0.106 (from torch->transformers[torch])\n",
            "  Downloading nvidia_cusparse_cu12-12.1.0.106-py3-none-manylinux1_x86_64.whl.metadata (1.6 kB)\n",
            "Collecting nvidia-nccl-cu12==2.20.5 (from torch->transformers[torch])\n",
            "  Downloading nvidia_nccl_cu12-2.20.5-py3-none-manylinux2014_x86_64.whl.metadata (1.8 kB)\n",
            "Collecting nvidia-nvtx-cu12==12.1.105 (from torch->transformers[torch])\n",
            "  Downloading nvidia_nvtx_cu12-12.1.105-py3-none-manylinux1_x86_64.whl.metadata (1.7 kB)\n",
            "Collecting triton==2.3.0 (from torch->transformers[torch])\n",
            "  Downloading triton-2.3.0-cp310-cp310-manylinux_2_17_x86_64.manylinux2014_x86_64.whl.metadata (1.4 kB)\n",
            "Collecting nvidia-nvjitlink-cu12 (from nvidia-cusolver-cu12==11.4.5.107->torch->transformers[torch])\n",
            "  Downloading nvidia_nvjitlink_cu12-12.4.127-py3-none-manylinux2014_x86_64.whl.metadata (1.5 kB)\n",
            "Requirement already satisfied: charset-normalizer<4,>=2 in ./drive/MyDrive/virtual_env/lib/python3.10/site-packages (from requests->transformers[torch]) (3.3.2)\n",
            "Requirement already satisfied: idna<4,>=2.5 in ./drive/MyDrive/virtual_env/lib/python3.10/site-packages (from requests->transformers[torch]) (3.7)\n",
            "Requirement already satisfied: urllib3<3,>=1.21.1 in ./drive/MyDrive/virtual_env/lib/python3.10/site-packages (from requests->transformers[torch]) (2.2.1)\n",
            "Requirement already satisfied: certifi>=2017.4.17 in ./drive/MyDrive/virtual_env/lib/python3.10/site-packages (from requests->transformers[torch]) (2024.2.2)\n",
            "Collecting MarkupSafe>=2.0 (from jinja2->torch->transformers[torch])\n",
            "  Downloading MarkupSafe-2.1.5-cp310-cp310-manylinux_2_17_x86_64.manylinux2014_x86_64.whl.metadata (3.0 kB)\n",
            "Collecting mpmath>=0.19 (from sympy->torch->transformers[torch])\n",
            "  Downloading mpmath-1.3.0-py3-none-any.whl.metadata (8.6 kB)\n",
            "Downloading accelerate-0.30.1-py3-none-any.whl (302 kB)\n",
            "\u001b[2K   \u001b[90m━━━━━━━━━━━━━━━━━━━━━━━━━━━━━━━━━━━━━━━━\u001b[0m \u001b[32m302.6/302.6 kB\u001b[0m \u001b[31m8.9 MB/s\u001b[0m eta \u001b[36m0:00:00\u001b[0m\n",
            "\u001b[?25hDownloading regex-2024.5.10-cp310-cp310-manylinux_2_17_x86_64.manylinux2014_x86_64.whl (774 kB)\n",
            "\u001b[2K   \u001b[90m━━━━━━━━━━━━━━━━━━━━━━━━━━━━━━━━━━━━━━━━\u001b[0m \u001b[32m774.1/774.1 kB\u001b[0m \u001b[31m13.3 MB/s\u001b[0m eta \u001b[36m0:00:00\u001b[0m\n",
            "\u001b[?25hDownloading safetensors-0.4.3-cp310-cp310-manylinux_2_17_x86_64.manylinux2014_x86_64.whl (1.2 MB)\n",
            "\u001b[2K   \u001b[90m━━━━━━━━━━━━━━━━━━━━━━━━━━━━━━━━━━━━━━━━\u001b[0m \u001b[32m1.2/1.2 MB\u001b[0m \u001b[31m15.8 MB/s\u001b[0m eta \u001b[36m0:00:00\u001b[0m\n",
            "\u001b[?25hDownloading tokenizers-0.19.1-cp310-cp310-manylinux_2_17_x86_64.manylinux2014_x86_64.whl (3.6 MB)\n",
            "\u001b[2K   \u001b[90m━━━━━━━━━━━━━━━━━━━━━━━━━━━━━━━━━━━━━━━━\u001b[0m \u001b[32m3.6/3.6 MB\u001b[0m \u001b[31m25.3 MB/s\u001b[0m eta \u001b[36m0:00:00\u001b[0m\n",
            "\u001b[?25hDownloading torch-2.3.0-cp310-cp310-manylinux1_x86_64.whl (779.1 MB)\n",
            "\u001b[2K   \u001b[90m━━━━━━━━━━━━━━━━━━━━━━━━━━━━━━━━━━━━━━━━\u001b[0m \u001b[32m779.1/779.1 MB\u001b[0m \u001b[31m2.4 MB/s\u001b[0m eta \u001b[36m0:00:00\u001b[0m\n",
            "\u001b[?25hDownloading nvidia_cublas_cu12-12.1.3.1-py3-none-manylinux1_x86_64.whl (410.6 MB)\n",
            "\u001b[2K   \u001b[90m━━━━━━━━━━━━━━━━━━━━━━━━━━━━━━━━━━━━━━━━\u001b[0m \u001b[32m410.6/410.6 MB\u001b[0m \u001b[31m4.3 MB/s\u001b[0m eta \u001b[36m0:00:00\u001b[0m\n",
            "\u001b[?25hDownloading nvidia_cuda_cupti_cu12-12.1.105-py3-none-manylinux1_x86_64.whl (14.1 MB)\n",
            "\u001b[2K   \u001b[90m━━━━━━━━━━━━━━━━━━━━━━━━━━━━━━━━━━━━━━━━\u001b[0m \u001b[32m14.1/14.1 MB\u001b[0m \u001b[31m70.3 MB/s\u001b[0m eta \u001b[36m0:00:00\u001b[0m\n",
            "\u001b[?25hDownloading nvidia_cuda_nvrtc_cu12-12.1.105-py3-none-manylinux1_x86_64.whl (23.7 MB)\n",
            "\u001b[2K   \u001b[90m━━━━━━━━━━━━━━━━━━━━━━━━━━━━━━━━━━━━━━━━\u001b[0m \u001b[32m23.7/23.7 MB\u001b[0m \u001b[31m37.9 MB/s\u001b[0m eta \u001b[36m0:00:00\u001b[0m\n",
            "\u001b[?25hDownloading nvidia_cuda_runtime_cu12-12.1.105-py3-none-manylinux1_x86_64.whl (823 kB)\n",
            "\u001b[2K   \u001b[90m━━━━━━━━━━━━━━━━━━━━━━━━━━━━━━━━━━━━━━━━\u001b[0m \u001b[32m823.6/823.6 kB\u001b[0m \u001b[31m17.0 MB/s\u001b[0m eta \u001b[36m0:00:00\u001b[0m\n",
            "\u001b[?25hDownloading nvidia_cudnn_cu12-8.9.2.26-py3-none-manylinux1_x86_64.whl (731.7 MB)\n",
            "\u001b[2K   \u001b[90m━━━━━━━━━━━━━━━━━━━━━━━━━━━━━━━━━━━━━━━━\u001b[0m \u001b[32m731.7/731.7 MB\u001b[0m \u001b[31m2.4 MB/s\u001b[0m eta \u001b[36m0:00:00\u001b[0m\n",
            "\u001b[?25hDownloading nvidia_cufft_cu12-11.0.2.54-py3-none-manylinux1_x86_64.whl (121.6 MB)\n",
            "\u001b[2K   \u001b[90m━━━━━━━━━━━━━━━━━━━━━━━━━━━━━━━━━━━━━━━━\u001b[0m \u001b[32m121.6/121.6 MB\u001b[0m \u001b[31m7.2 MB/s\u001b[0m eta \u001b[36m0:00:00\u001b[0m\n",
            "\u001b[?25hDownloading nvidia_curand_cu12-10.3.2.106-py3-none-manylinux1_x86_64.whl (56.5 MB)\n",
            "\u001b[2K   \u001b[90m━━━━━━━━━━━━━━━━━━━━━━━━━━━━━━━━━━━━━━━━\u001b[0m \u001b[32m56.5/56.5 MB\u001b[0m \u001b[31m11.1 MB/s\u001b[0m eta \u001b[36m0:00:00\u001b[0m\n",
            "\u001b[?25hDownloading nvidia_cusolver_cu12-11.4.5.107-py3-none-manylinux1_x86_64.whl (124.2 MB)\n",
            "\u001b[2K   \u001b[90m━━━━━━━━━━━━━━━━━━━━━━━━━━━━━━━━━━━━━━━━\u001b[0m \u001b[32m124.2/124.2 MB\u001b[0m \u001b[31m7.4 MB/s\u001b[0m eta \u001b[36m0:00:00\u001b[0m\n",
            "\u001b[?25hDownloading nvidia_cusparse_cu12-12.1.0.106-py3-none-manylinux1_x86_64.whl (196.0 MB)\n",
            "\u001b[2K   \u001b[90m━━━━━━━━━━━━━━━━━━━━━━━━━━━━━━━━━━━━━━━━\u001b[0m \u001b[32m196.0/196.0 MB\u001b[0m \u001b[31m7.3 MB/s\u001b[0m eta \u001b[36m0:00:00\u001b[0m\n",
            "\u001b[?25hDownloading nvidia_nccl_cu12-2.20.5-py3-none-manylinux2014_x86_64.whl (176.2 MB)\n",
            "\u001b[2K   \u001b[90m━━━━━━━━━━━━━━━━━━━━━━━━━━━━━━━━━━━━━━━━\u001b[0m \u001b[32m176.2/176.2 MB\u001b[0m \u001b[31m7.0 MB/s\u001b[0m eta \u001b[36m0:00:00\u001b[0m\n",
            "\u001b[?25hDownloading nvidia_nvtx_cu12-12.1.105-py3-none-manylinux1_x86_64.whl (99 kB)\n",
            "\u001b[2K   \u001b[90m━━━━━━━━━━━━━━━━━━━━━━━━━━━━━━━━━━━━━━━━\u001b[0m \u001b[32m99.1/99.1 kB\u001b[0m \u001b[31m7.0 MB/s\u001b[0m eta \u001b[36m0:00:00\u001b[0m\n",
            "\u001b[?25hDownloading triton-2.3.0-cp310-cp310-manylinux_2_17_x86_64.manylinux2014_x86_64.whl (168.1 MB)\n",
            "\u001b[2K   \u001b[90m━━━━━━━━━━━━━━━━━━━━━━━━━━━━━━━━━━━━━━━━\u001b[0m \u001b[32m168.1/168.1 MB\u001b[0m \u001b[31m7.1 MB/s\u001b[0m eta \u001b[36m0:00:00\u001b[0m\n",
            "\u001b[?25hDownloading transformers-4.40.2-py3-none-any.whl (9.0 MB)\n",
            "\u001b[2K   \u001b[90m━━━━━━━━━━━━━━━━━━━━━━━━━━━━━━━━━━━━━━━━\u001b[0m \u001b[32m9.0/9.0 MB\u001b[0m \u001b[31m63.4 MB/s\u001b[0m eta \u001b[36m0:00:00\u001b[0m\n",
            "\u001b[?25hDownloading jinja2-3.1.4-py3-none-any.whl (133 kB)\n",
            "\u001b[2K   \u001b[90m━━━━━━━━━━━━━━━━━━━━━━━━━━━━━━━━━━━━━━━━\u001b[0m \u001b[32m133.3/133.3 kB\u001b[0m \u001b[31m10.4 MB/s\u001b[0m eta \u001b[36m0:00:00\u001b[0m\n",
            "\u001b[?25hDownloading networkx-3.3-py3-none-any.whl (1.7 MB)\n",
            "\u001b[2K   \u001b[90m━━━━━━━━━━━━━━━━━━━━━━━━━━━━━━━━━━━━━━━━\u001b[0m \u001b[32m1.7/1.7 MB\u001b[0m \u001b[31m41.8 MB/s\u001b[0m eta \u001b[36m0:00:00\u001b[0m\n",
            "\u001b[?25hDownloading psutil-5.9.8-cp36-abi3-manylinux_2_12_x86_64.manylinux2010_x86_64.manylinux_2_17_x86_64.manylinux2014_x86_64.whl (288 kB)\n",
            "\u001b[2K   \u001b[90m━━━━━━━━━━━━━━━━━━━━━━━━━━━━━━━━━━━━━━━━\u001b[0m \u001b[32m288.2/288.2 kB\u001b[0m \u001b[31m19.5 MB/s\u001b[0m eta \u001b[36m0:00:00\u001b[0m\n",
            "\u001b[?25hDownloading sympy-1.12-py3-none-any.whl (5.7 MB)\n",
            "\u001b[2K   \u001b[90m━━━━━━━━━━━━━━━━━━━━━━━━━━━━━━━━━━━━━━━━\u001b[0m \u001b[32m5.7/5.7 MB\u001b[0m \u001b[31m51.6 MB/s\u001b[0m eta \u001b[36m0:00:00\u001b[0m\n",
            "\u001b[?25hDownloading MarkupSafe-2.1.5-cp310-cp310-manylinux_2_17_x86_64.manylinux2014_x86_64.whl (25 kB)\n",
            "Downloading mpmath-1.3.0-py3-none-any.whl (536 kB)\n",
            "\u001b[2K   \u001b[90m━━━━━━━━━━━━━━━━━━━━━━━━━━━━━━━━━━━━━━━━\u001b[0m \u001b[32m536.2/536.2 kB\u001b[0m \u001b[31m19.2 MB/s\u001b[0m eta \u001b[36m0:00:00\u001b[0m\n",
            "\u001b[?25hDownloading nvidia_nvjitlink_cu12-12.4.127-py3-none-manylinux2014_x86_64.whl (21.1 MB)\n",
            "\u001b[2K   \u001b[90m━━━━━━━━━━━━━━━━━━━━━━━━━━━━━━━━━━━━━━━━\u001b[0m \u001b[32m21.1/21.1 MB\u001b[0m \u001b[31m48.5 MB/s\u001b[0m eta \u001b[36m0:00:00\u001b[0m\n",
            "\u001b[?25hInstalling collected packages: mpmath, triton, sympy, safetensors, regex, psutil, nvidia-nvtx-cu12, nvidia-nvjitlink-cu12, nvidia-nccl-cu12, nvidia-curand-cu12, nvidia-cufft-cu12, nvidia-cuda-runtime-cu12, nvidia-cuda-nvrtc-cu12, nvidia-cuda-cupti-cu12, nvidia-cublas-cu12, networkx, MarkupSafe, nvidia-cusparse-cu12, nvidia-cudnn-cu12, jinja2, tokenizers, nvidia-cusolver-cu12, transformers, torch, accelerate\n",
            "Successfully installed MarkupSafe-2.1.5 accelerate-0.30.1 jinja2-3.1.4 mpmath-1.3.0 networkx-3.3 nvidia-cublas-cu12-12.1.3.1 nvidia-cuda-cupti-cu12-12.1.105 nvidia-cuda-nvrtc-cu12-12.1.105 nvidia-cuda-runtime-cu12-12.1.105 nvidia-cudnn-cu12-8.9.2.26 nvidia-cufft-cu12-11.0.2.54 nvidia-curand-cu12-10.3.2.106 nvidia-cusolver-cu12-11.4.5.107 nvidia-cusparse-cu12-12.1.0.106 nvidia-nccl-cu12-2.20.5 nvidia-nvjitlink-cu12-12.4.127 nvidia-nvtx-cu12-12.1.105 psutil-5.9.8 regex-2024.5.10 safetensors-0.4.3 sympy-1.12 tokenizers-0.19.1 torch-2.3.0 transformers-4.40.2 triton-2.3.0\n"
          ]
        }
      ],
      "source": [
        "!source /content/drive/MyDrive/virtual_env/bin/activate; pip install transformers[torch]"
      ]
    },
    {
      "cell_type": "markdown",
      "source": [
        "#### accelerate"
      ],
      "metadata": {
        "id": "hVvMyxqMP38S"
      }
    },
    {
      "cell_type": "code",
      "execution_count": null,
      "metadata": {
        "colab": {
          "base_uri": "https://localhost:8080/"
        },
        "id": "V8vhHq838hGV",
        "outputId": "82c36ca6-ef8e-4c4e-9e05-4ac7e1e3a260"
      },
      "outputs": [
        {
          "output_type": "stream",
          "name": "stdout",
          "text": [
            "Requirement already satisfied: accelerate in ./drive/MyDrive/virtual_env/lib/python3.10/site-packages (0.30.1)\n",
            "Requirement already satisfied: numpy>=1.17 in ./drive/MyDrive/virtual_env/lib/python3.10/site-packages (from accelerate) (1.26.4)\n",
            "Requirement already satisfied: packaging>=20.0 in ./drive/MyDrive/virtual_env/lib/python3.10/site-packages (from accelerate) (24.0)\n",
            "Requirement already satisfied: psutil in ./drive/MyDrive/virtual_env/lib/python3.10/site-packages (from accelerate) (5.9.8)\n",
            "Requirement already satisfied: pyyaml in ./drive/MyDrive/virtual_env/lib/python3.10/site-packages (from accelerate) (6.0.1)\n",
            "Requirement already satisfied: torch>=1.10.0 in ./drive/MyDrive/virtual_env/lib/python3.10/site-packages (from accelerate) (2.3.0)\n",
            "Requirement already satisfied: huggingface-hub in ./drive/MyDrive/virtual_env/lib/python3.10/site-packages (from accelerate) (0.23.0)\n",
            "Requirement already satisfied: safetensors>=0.3.1 in ./drive/MyDrive/virtual_env/lib/python3.10/site-packages (from accelerate) (0.4.3)\n",
            "Requirement already satisfied: filelock in ./drive/MyDrive/virtual_env/lib/python3.10/site-packages (from torch>=1.10.0->accelerate) (3.14.0)\n",
            "Requirement already satisfied: typing-extensions>=4.8.0 in ./drive/MyDrive/virtual_env/lib/python3.10/site-packages (from torch>=1.10.0->accelerate) (4.11.0)\n",
            "Requirement already satisfied: sympy in ./drive/MyDrive/virtual_env/lib/python3.10/site-packages (from torch>=1.10.0->accelerate) (1.12)\n",
            "Requirement already satisfied: networkx in ./drive/MyDrive/virtual_env/lib/python3.10/site-packages (from torch>=1.10.0->accelerate) (3.3)\n",
            "Requirement already satisfied: jinja2 in ./drive/MyDrive/virtual_env/lib/python3.10/site-packages (from torch>=1.10.0->accelerate) (3.1.4)\n",
            "Requirement already satisfied: fsspec in ./drive/MyDrive/virtual_env/lib/python3.10/site-packages (from torch>=1.10.0->accelerate) (2024.3.1)\n",
            "Requirement already satisfied: nvidia-cuda-nvrtc-cu12==12.1.105 in ./drive/MyDrive/virtual_env/lib/python3.10/site-packages (from torch>=1.10.0->accelerate) (12.1.105)\n",
            "Requirement already satisfied: nvidia-cuda-runtime-cu12==12.1.105 in ./drive/MyDrive/virtual_env/lib/python3.10/site-packages (from torch>=1.10.0->accelerate) (12.1.105)\n",
            "Requirement already satisfied: nvidia-cuda-cupti-cu12==12.1.105 in ./drive/MyDrive/virtual_env/lib/python3.10/site-packages (from torch>=1.10.0->accelerate) (12.1.105)\n",
            "Requirement already satisfied: nvidia-cudnn-cu12==8.9.2.26 in ./drive/MyDrive/virtual_env/lib/python3.10/site-packages (from torch>=1.10.0->accelerate) (8.9.2.26)\n",
            "Requirement already satisfied: nvidia-cublas-cu12==12.1.3.1 in ./drive/MyDrive/virtual_env/lib/python3.10/site-packages (from torch>=1.10.0->accelerate) (12.1.3.1)\n",
            "Requirement already satisfied: nvidia-cufft-cu12==11.0.2.54 in ./drive/MyDrive/virtual_env/lib/python3.10/site-packages (from torch>=1.10.0->accelerate) (11.0.2.54)\n",
            "Requirement already satisfied: nvidia-curand-cu12==10.3.2.106 in ./drive/MyDrive/virtual_env/lib/python3.10/site-packages (from torch>=1.10.0->accelerate) (10.3.2.106)\n",
            "Requirement already satisfied: nvidia-cusolver-cu12==11.4.5.107 in ./drive/MyDrive/virtual_env/lib/python3.10/site-packages (from torch>=1.10.0->accelerate) (11.4.5.107)\n",
            "Requirement already satisfied: nvidia-cusparse-cu12==12.1.0.106 in ./drive/MyDrive/virtual_env/lib/python3.10/site-packages (from torch>=1.10.0->accelerate) (12.1.0.106)\n",
            "Requirement already satisfied: nvidia-nccl-cu12==2.20.5 in ./drive/MyDrive/virtual_env/lib/python3.10/site-packages (from torch>=1.10.0->accelerate) (2.20.5)\n",
            "Requirement already satisfied: nvidia-nvtx-cu12==12.1.105 in ./drive/MyDrive/virtual_env/lib/python3.10/site-packages (from torch>=1.10.0->accelerate) (12.1.105)\n",
            "Requirement already satisfied: triton==2.3.0 in ./drive/MyDrive/virtual_env/lib/python3.10/site-packages (from torch>=1.10.0->accelerate) (2.3.0)\n",
            "Requirement already satisfied: nvidia-nvjitlink-cu12 in ./drive/MyDrive/virtual_env/lib/python3.10/site-packages (from nvidia-cusolver-cu12==11.4.5.107->torch>=1.10.0->accelerate) (12.4.127)\n",
            "Requirement already satisfied: requests in ./drive/MyDrive/virtual_env/lib/python3.10/site-packages (from huggingface-hub->accelerate) (2.31.0)\n",
            "Requirement already satisfied: tqdm>=4.42.1 in ./drive/MyDrive/virtual_env/lib/python3.10/site-packages (from huggingface-hub->accelerate) (4.66.4)\n",
            "Requirement already satisfied: MarkupSafe>=2.0 in ./drive/MyDrive/virtual_env/lib/python3.10/site-packages (from jinja2->torch>=1.10.0->accelerate) (2.1.5)\n",
            "Requirement already satisfied: charset-normalizer<4,>=2 in ./drive/MyDrive/virtual_env/lib/python3.10/site-packages (from requests->huggingface-hub->accelerate) (3.3.2)\n",
            "Requirement already satisfied: idna<4,>=2.5 in ./drive/MyDrive/virtual_env/lib/python3.10/site-packages (from requests->huggingface-hub->accelerate) (3.7)\n",
            "Requirement already satisfied: urllib3<3,>=1.21.1 in ./drive/MyDrive/virtual_env/lib/python3.10/site-packages (from requests->huggingface-hub->accelerate) (2.2.1)\n",
            "Requirement already satisfied: certifi>=2017.4.17 in ./drive/MyDrive/virtual_env/lib/python3.10/site-packages (from requests->huggingface-hub->accelerate) (2024.2.2)\n",
            "Requirement already satisfied: mpmath>=0.19 in ./drive/MyDrive/virtual_env/lib/python3.10/site-packages (from sympy->torch>=1.10.0->accelerate) (1.3.0)\n"
          ]
        }
      ],
      "source": [
        "!source /content/drive/MyDrive/virtual_env/bin/activate; pip install accelerate -U"
      ]
    },
    {
      "cell_type": "markdown",
      "source": [
        "#### seqeval"
      ],
      "metadata": {
        "id": "tUjb2tRWP7lN"
      }
    },
    {
      "cell_type": "code",
      "execution_count": null,
      "metadata": {
        "id": "9np7gnrXpacV",
        "colab": {
          "base_uri": "https://localhost:8080/"
        },
        "outputId": "2b58792d-f152-4cfd-fe51-e3c0e3e0dfec"
      },
      "outputs": [
        {
          "output_type": "stream",
          "name": "stdout",
          "text": [
            "Collecting seqeval\n",
            "  Downloading seqeval-1.2.2.tar.gz (43 kB)\n",
            "\u001b[?25l     \u001b[90m━━━━━━━━━━━━━━━━━━━━━━━━━━━━━━━━━━━━━━━━\u001b[0m \u001b[32m0.0/43.6 kB\u001b[0m \u001b[31m?\u001b[0m eta \u001b[36m-:--:--\u001b[0m\r\u001b[2K     \u001b[91m━━━━━━━━━━━━━━━━━━━━━━━━━━━━━━━━━━━━━\u001b[0m\u001b[91m╸\u001b[0m\u001b[90m━━\u001b[0m \u001b[32m41.0/43.6 kB\u001b[0m \u001b[31m1.1 MB/s\u001b[0m eta \u001b[36m0:00:01\u001b[0m\r\u001b[2K     \u001b[90m━━━━━━━━━━━━━━━━━━━━━━━━━━━━━━━━━━━━━━━━\u001b[0m \u001b[32m43.6/43.6 kB\u001b[0m \u001b[31m950.6 kB/s\u001b[0m eta \u001b[36m0:00:00\u001b[0m\n",
            "\u001b[?25h  Preparing metadata (setup.py) ... \u001b[?25l\u001b[?25hdone\n",
            "Requirement already satisfied: numpy>=1.14.0 in /usr/local/lib/python3.10/dist-packages (from seqeval) (1.25.2)\n",
            "Requirement already satisfied: scikit-learn>=0.21.3 in /usr/local/lib/python3.10/dist-packages (from seqeval) (1.2.2)\n",
            "Requirement already satisfied: scipy>=1.3.2 in /usr/local/lib/python3.10/dist-packages (from scikit-learn>=0.21.3->seqeval) (1.11.4)\n",
            "Requirement already satisfied: joblib>=1.1.1 in /usr/local/lib/python3.10/dist-packages (from scikit-learn>=0.21.3->seqeval) (1.4.2)\n",
            "Requirement already satisfied: threadpoolctl>=2.0.0 in /usr/local/lib/python3.10/dist-packages (from scikit-learn>=0.21.3->seqeval) (3.5.0)\n",
            "Building wheels for collected packages: seqeval\n",
            "  Building wheel for seqeval (setup.py) ... \u001b[?25l\u001b[?25hdone\n",
            "  Created wheel for seqeval: filename=seqeval-1.2.2-py3-none-any.whl size=16161 sha256=911957a1f4c77fac1770f1f20b38337d07b0c706572a68b5950cc7c9f4c6ac67\n",
            "  Stored in directory: /root/.cache/pip/wheels/1a/67/4a/ad4082dd7dfc30f2abfe4d80a2ed5926a506eb8a972b4767fa\n",
            "Successfully built seqeval\n",
            "Installing collected packages: seqeval\n",
            "Successfully installed seqeval-1.2.2\n"
          ]
        }
      ],
      "source": [
        "!source /content/drive/MyDrive/virtual_env/bin/activate; pip install seqeval"
      ]
    },
    {
      "cell_type": "markdown",
      "source": [
        "#### evaluate"
      ],
      "metadata": {
        "id": "KiXghaUMf510"
      }
    },
    {
      "cell_type": "code",
      "source": [
        "!source /content/drive/MyDrive/virtual_env/bin/activate; pip install evaluate"
      ],
      "metadata": {
        "id": "RnfQA5bvf9cA"
      },
      "execution_count": null,
      "outputs": []
    },
    {
      "cell_type": "markdown",
      "source": [
        "# 2.Preprocess"
      ],
      "metadata": {
        "id": "DEVWBlU67mLg"
      }
    },
    {
      "cell_type": "markdown",
      "source": [
        "#### append path\n",
        " (equiv to activate the virtualenv at the begining of fevery session, to avoid reinstalling libraries)\n",
        " (only run if the installation was done in a different previous session, in other terms check if the appended path is not already in sys."
      ],
      "metadata": {
        "id": "nTfpBUqDVR7t"
      }
    },
    {
      "cell_type": "code",
      "source": [
        "import sys\n",
        "sys.path.append(\"/content/drive/MyDrive/virtual_env/lib/python3.10/site-packages\")"
      ],
      "metadata": {
        "id": "0bB_X4vH5Dsb"
      },
      "execution_count": null,
      "outputs": []
    },
    {
      "cell_type": "markdown",
      "metadata": {
        "id": "81qG4gRiGOwj"
      },
      "source": [
        "### Data import\n",
        "+only taking dcts with annotations, clean,"
      ]
    },
    {
      "cell_type": "code",
      "execution_count": null,
      "metadata": {
        "colab": {
          "base_uri": "https://localhost:8080/"
        },
        "id": "G0nd9QuBfBvG",
        "outputId": "8d92f57c-5350-4bfe-f091-59ca562b81b2"
      },
      "outputs": [
        {
          "output_type": "execute_result",
          "data": {
            "text/plain": [
              "9435"
            ]
          },
          "metadata": {},
          "execution_count": 44
        }
      ],
      "source": [
        "import json\n",
        "\n",
        "with open(r\"/content/drive/MyDrive/ner_india/NER_TRAIN_JUDGEMENT.json\") as file:\n",
        "    json_data = json.load(file)\n",
        "len(json_data)"
      ]
    },
    {
      "cell_type": "code",
      "execution_count": null,
      "metadata": {
        "colab": {
          "base_uri": "https://localhost:8080/"
        },
        "id": "wH5EONDdoL1e",
        "outputId": "f13f3964-b306-42f1-b77c-770918596344"
      },
      "outputs": [
        {
          "output_type": "stream",
          "name": "stdout",
          "text": [
            "125\n"
          ]
        }
      ],
      "source": [
        "import json\n",
        "with open(r\"/content/drive/MyDrive/ner_india/NER_DEV_PREAMBLE.json\") as file:\n",
        "    dev_data = json.load(file)\n",
        "print(len(dev_data))"
      ]
    },
    {
      "cell_type": "markdown",
      "metadata": {
        "id": "-brc4YoWmKrd"
      },
      "source": [
        "#### only taking the indices with annotations"
      ]
    },
    {
      "cell_type": "code",
      "execution_count": null,
      "metadata": {
        "colab": {
          "base_uri": "https://localhost:8080/"
        },
        "id": "726d_uHdmHcN",
        "outputId": "0cce514f-f43c-4828-fa8f-25528ecde856"
      },
      "outputs": [
        {
          "output_type": "stream",
          "name": "stdout",
          "text": [
            "num of dcts with no annot: 2177\n"
          ]
        }
      ],
      "source": [
        "with_annot_indices = []\n",
        "for indice in range(len(json_data)):\n",
        "  for annot in json_data[indice]['annotations']:\n",
        "    if annot['result']!= []:\n",
        "      with_annot_indices.append(indice)\n",
        "\n",
        "print('num of dcts with no annot:', len(json_data) - len(with_annot_indices))"
      ]
    },
    {
      "cell_type": "markdown",
      "metadata": {
        "id": "8R96EGC6e3kz"
      },
      "source": [
        "#### clean the text data"
      ]
    },
    {
      "cell_type": "markdown",
      "source": [
        "Technically, there is no need to get rid of whitespaces, because if the goal is really to prepare the data for the tokenizer, they aren't even taken into consideration. We only need to get rid of the special characters, such as \\xad, \\xa0, etc..., (they could be found using re.finditer(r'[\\x80-\\xff]', text), to find all possible itterations). To make sure we cover all the special characters, we need to find all the posibilities inside the text data"
      ],
      "metadata": {
        "id": "e6F9MwBzgVt0"
      }
    },
    {
      "cell_type": "code",
      "execution_count": null,
      "metadata": {
        "id": "kz5ACTPItWIo"
      },
      "outputs": [],
      "source": [
        "import re\n",
        "def clean_text_data(text_data):\n",
        "    replacements = [\n",
        "        (r'\\.{2,}', ' '),\n",
        "        (r'\\={2,}', ' '),\n",
        "        (r'\\-{2,}', ' '),\n",
        "        (r'\\xad', ' '),\n",
        "        (r'\\xa0', ' '),\n",
        "        (r'\\x80', ''),\n",
        "        (r'\\x9d', ''),\n",
        "        (r'\\x13', ' '),\n",
        "        ]\n",
        "\n",
        "    for old, new in replacements:\n",
        "      text_data = re.sub(old, new, text_data)\n",
        "    return text_data\n",
        "\n",
        "dev_text_data = []\n",
        "for line in dev_data:\n",
        "    dev_text_data.append(clean_text_data(line['data']['text']))\n",
        "\n",
        "text_data = []\n",
        "plain_text_data = []\n",
        "# for line in json_data:\n",
        "for idx in with_annot_indices:\n",
        "    text_data.append(clean_text_data(json_data[idx]['data']['text']))\n",
        "    plain_text_data.append(json_data[idx]['data']['text'])"
      ]
    },
    {
      "cell_type": "markdown",
      "metadata": {
        "id": "S2k5qUNpe8LW"
      },
      "source": [
        "#### get new position in clean data function"
      ]
    },
    {
      "cell_type": "code",
      "execution_count": null,
      "metadata": {
        "id": "YlzMnBxMW9lb"
      },
      "outputs": [],
      "source": [
        "def get_new_position(old_text, new_text, pos):\n",
        "  #a function that'll allow to find the position of a special entity in the new cleaned text using the position in the raw text given in annotations\n",
        "\n",
        "  if new_text[pos] == old_text[pos]: #pos did not change\n",
        "    return pos\n",
        "\n",
        "  else: # we actually need to update the pos\n",
        "\n",
        "    special_entity = old_text[pos]\n",
        "    if clean_text_data(special_entity).split() == []:\n",
        "      return 'not so special entity'\n",
        "\n",
        "    if special_entity[0:2] == '--':\n",
        "      special_entity = special_entity[2:] #cases where the NE starts with -, preceeded by -- in data['text'] and omitted by the cleaninh function\n",
        "      pos = slice(pos.start + 2, pos.stop)\n",
        "\n",
        "    if special_entity[0:1] == '-' and special_entity[1:2] != '-':\n",
        "      special_entity = special_entity[1:] #cases where the NE starts with -, preceeded by -- in data['text'] and omitted by the cleaninh function\n",
        "      pos = slice(pos.start + 1, pos.stop)\n",
        "\n",
        "    in_old_text = [m.start() for m in re.finditer(re.escape(special_entity), old_text)]\n",
        "    in_new_text = [m.start() for m in re.finditer(re.escape(clean_text_data(special_entity)), new_text)]\n",
        "\n",
        "    if len(in_new_text) != len(in_old_text) and special_entity != '.':  #written differently #with whitespaces, or special characters\n",
        "      # this block is for test, and shouldn't be achieved\n",
        "      print(indice, \"\\n not same len\")\n",
        "      print('\\t special_entity: ', special_entity, 'at pos', pos)\n",
        "      print('in_old_text: ', in_old_text, '\\t in_new_text: ',in_new_text)\n",
        "\n",
        "    else:\n",
        "\n",
        "      all_occ = dict(zip(in_old_text,in_new_text))\n",
        "\n",
        "      start = all_occ[pos.start]\n",
        "\n",
        "      end = start+len(clean_text_data(old_text[pos]))#-1\n",
        "\n",
        "      # check\n",
        "      if clean_text_data(old_text[pos]) != new_text[slice(start, end)]:\n",
        "        print('not similar', old_text[pos], '\\t', new_text[slice(start, end)])\n",
        "\n",
        "\n",
        "      return slice(start,end)\n"
      ]
    },
    {
      "cell_type": "markdown",
      "metadata": {
        "id": "zJMGp1MbHMvX"
      },
      "source": [
        "### model and tokenizer\n",
        "init, tokenize train and dev data,"
      ]
    },
    {
      "cell_type": "code",
      "execution_count": null,
      "metadata": {
        "id": "Wi9Bvnb-G54H"
      },
      "outputs": [],
      "source": [
        "model = 'dslim/bert-base-NER'\n",
        "from transformers import AutoTokenizer\n",
        "\n",
        "tokenizer = AutoTokenizer.from_pretrained(model)"
      ]
    },
    {
      "cell_type": "markdown",
      "metadata": {
        "id": "dHgGJimLe95Y"
      },
      "source": [
        "#### tokenize train data"
      ]
    },
    {
      "cell_type": "code",
      "execution_count": null,
      "metadata": {
        "id": "Sy1sw7ljezKK"
      },
      "outputs": [],
      "source": [
        "tokenized = tokenizer(text_data,  is_split_into_words = False, return_offsets_mapping = True, add_special_tokens = True, truncation = True, padding = 'max_length', max_length=512, stride=128, return_overflowing_tokens=True,\n",
        " )  #when text is not splitted, the positions in str are accurate\n",
        "\n",
        "tokens = [tokenizer.convert_ids_to_tokens(tokenizedx) for tokenizedx in tokenized.input_ids]"
      ]
    },
    {
      "cell_type": "markdown",
      "metadata": {
        "id": "Y0uCrhiGKOMj"
      },
      "source": [
        "#### tokenization of the dev data with truncation and return overflowing"
      ]
    },
    {
      "cell_type": "code",
      "execution_count": null,
      "metadata": {
        "id": "cUXe7g32Rfo8"
      },
      "outputs": [],
      "source": [
        "dev_tokenized = tokenizer(dev_text_data,  is_split_into_words = False,  return_offsets_mapping = True, add_special_tokens = True,  padding = 'max_length', truncation = True, max_length=512, stride=128, return_overflowing_tokens=True, )  #when text is not splitted, the positions are accurate\n",
        "\n",
        "dev_tokens = [tokenizer.convert_ids_to_tokens(tokenizedx) for tokenizedx in dev_tokenized.input_ids]"
      ]
    },
    {
      "cell_type": "markdown",
      "metadata": {
        "id": "-2iVYsxQLFlg"
      },
      "source": [
        "## Dataset preparation\n",
        "get token pos, affect labels to train and dev"
      ]
    },
    {
      "cell_type": "markdown",
      "metadata": {
        "id": "jeLXp334LFlg"
      },
      "source": [
        "#### get token pos"
      ]
    },
    {
      "cell_type": "code",
      "execution_count": null,
      "metadata": {
        "id": "diCmm44fLFlg"
      },
      "outputs": [],
      "source": [
        "def get_token_pos(mappers, start_str, end_str):\n",
        "  # get position in tokens list from annotations\n",
        "  for idx, (start, end) in enumerate(mappers):\n",
        "    if idx<= mappers.index(max(mappers)):\n",
        "        if start <= start_str:\n",
        "            idx_start = idx\n",
        "        if end == end_str:\n",
        "            idx_end = idx+1\n",
        "        if end < end_str:\n",
        "            idx_end = idx+2\n",
        "\n",
        "  pos = slice(idx_start, idx_end)\n",
        "  return pos"
      ]
    },
    {
      "cell_type": "markdown",
      "metadata": {
        "id": "G5zmTbygkfG3"
      },
      "source": [
        "### Affectation"
      ]
    },
    {
      "cell_type": "markdown",
      "metadata": {
        "id": "JrNAW6WvEw6R"
      },
      "source": [
        "#### affect on train data"
      ]
    },
    {
      "cell_type": "code",
      "execution_count": null,
      "metadata": {
        "colab": {
          "base_uri": "https://localhost:8080/"
        },
        "collapsed": true,
        "id": "dAUgqR_3Ew6k",
        "outputId": "5b28114f-fe7d-4130-c1cf-a4310eb947d2"
      },
      "outputs": [
        {
          "output_type": "stream",
          "name": "stdout",
          "text": [
            "not so special entity\n",
            "1423 1103 slice(40, 44, None) September  30,\t slice(40, 44, None) ['September', '30', ',', '1989']\n",
            "3008 2335 slice(40, 48, None) Clause 8(vi)\n",
            "\n",
            " slice(40, 48, None) ['Claus', '##e', '8', '(', 'v', '##i', ')', '(']\n",
            "3917 3038 slice(44, 53, None) section 3(1)(c)\t  slice(44, 53, None) ['section', '3', '(', '1', ')', '(', 'c', ')', 'of']\n",
            "4657 3606 slice(66, 74, None) Articles 14 and 19 (1)\n",
            " slice(66, 74, None) ['Articles', '14', 'and', '19', '(', '1', ')', '(']\n",
            "5100 3940 slice(27, 35, None) Cr.P.C. \n",
            "\n",
            "  slice(27, 35, None) ['C', '##r', '.', 'P', '.', 'C', '.', 'C']\n",
            "5824 4510 slice(13, 38, None) 'Paupuk Kannu Anni v. Thoppayya Mudaliar', (J) :   slice(13, 38, None) [\"'\", 'Pa', '##up', '##uk', 'Ka', '##nn', '##u', 'Ann', '##i', 'v', '.', 'T', '##hop', '##pa', '##yya', 'Mu', '##dal', '##iar', \"'\", ',', '(', 'J', ')', ':', 'Claus']\n",
            "6042 4687 slice(34, 40, None) Rahmania Coffee Works.\u0014 slice(34, 40, None) ['Rahman', '##ia', 'Coffee', 'Works', '.', '32']\n",
            "6144 4778 slice(27, 29, None) Hari    slice(27, 29, None) ['Hari', 'Chan']\n",
            "6880 5339 slice(2, 20, None) Chief Engineer (Personnel) Tamil Nadu Electricity Board 800, Anna Salai Chennai \u0016 600 002 slice(2, 20, None) ['Chief', 'Engineer', '(', 'Personnel', ')', 'Tamil', 'Nadu', 'Electricity', 'Board', '800', ',', 'Anna', 'Sal', '##ai', 'Chennai', '600', '00', '##2']\n",
            "7666 5900 slice(21, 25, None) Yahoo!‟s slice(21, 25, None) ['Yahoo', '!', '[UNK]', 's']\n",
            "8205 6305 slice(19, 24, None) Vinod Kumar‟s slice(19, 24, None) ['Vin', '##od', 'Kumar', '[UNK]', 's']\n",
            "8350 6421 slice(37, 40, None) IPC‟ slice(37, 40, None) ['IP', '##C', '[UNK]']\n"
          ]
        }
      ],
      "source": [
        "#initialize all tokens labels as 'O': Outside\n",
        "tokens_labels = [['O' for mapper in tokenized[\"offset_mapping\"][i]] for i in range(len(tokenized[\"offset_mapping\"]))]\n",
        "\n",
        "for i, indice in enumerate(with_annot_indices):                #then update based on the str position of the special entity and the get token pos (from str to tokens)\n",
        "  # print(indice)\n",
        "  mappers = tokenized[\"offset_mapping\"][i]\n",
        "  raw_text = json_data[indice]['data']['text']\n",
        "\n",
        "  for annot in json_data[indice]['annotations']:    #list of all the entities that are part of the deal\n",
        "    for result in annot['result']:\n",
        "      deb_str = result['value']['start']\n",
        "      fin_str = result['value']['end']\n",
        "      clean_pos = get_new_position(raw_text, text_data[i], slice(deb_str,fin_str) )\n",
        "      if type(clean_pos) == slice:\n",
        "        pos = get_token_pos(mappers, clean_pos.start, clean_pos.stop )\n",
        "\n",
        "        label = result['value']['labels'][0]          #[0] to remove from list\n",
        "        if tokens[i][pos][0] == result['value']['text']:   #when the special entity == token, not cut\n",
        "          tokens_labels[i][pos.start] = label\n",
        "\n",
        "        else:\n",
        "          tokens_labels[i][pos.start] = 'B-'+label     #only put B- when there is an I-\n",
        "          for x in range(pos.start+1, pos.stop):\n",
        "            if x <len(tokens_labels[i]):\n",
        "              tokens_labels[i][x] = 'I-'+label\n",
        "\n",
        "        if ''.join(tokens[i][pos]).replace('##', '') != ''.join(text_data[i][clean_pos].split()):\n",
        "          print(indice, i, pos,  text_data[i][clean_pos], pos, tokens[i][pos])\n",
        "\n",
        "      else:\n",
        "        print(clean_pos)\n",
        "\n"
      ]
    },
    {
      "cell_type": "markdown",
      "metadata": {
        "id": "4uwipR7WE8tC"
      },
      "source": [
        "#### affect on dev"
      ]
    },
    {
      "cell_type": "code",
      "source": [
        "#the real deal with redundance\n",
        "\n",
        "dev_tokens_labels = [['O' for mapper in dev_tokenized[\"offset_mapping\"][i]] for i in range(len(dev_tokenized[\"offset_mapping\"]))]\n",
        "\n",
        "#the problem is that the affectation is done on the part at the end of the first chunk but not in the stride of the second chunk\n",
        "#so i need to keep the new offset mapping with the positions to be able to get the index and affect\n",
        "#problem solved\n",
        "\n",
        "\n",
        "for indice in range(len(dev_data)):\n",
        "  # print(indice)\n",
        "  tkn_indice = dev_tokenized['overflow_to_sample_mapping'].index(indice)\n",
        "  # print('tkn_indice: ', tkn_indice)\n",
        "\n",
        "  for annot in dev_data[indice]['annotations']: #list of all the entities that are part of the deal\n",
        "    for result in annot['result']:\n",
        "      deb_str = result['value']['start']\n",
        "      fin_str = result['value']['end']\n",
        "      label = result['value']['labels'][0]\n",
        "\n",
        "      raw_text = dev_data[indice]['data']['text']\n",
        "      special_entity = result['value']['text']\n",
        "      clean_pos = get_new_position(raw_text,dev_text_data[indice], slice(deb_str,fin_str) ) #will give the tupple for the offset_map\n",
        "\n",
        "      if dev_tokenized['overflow_to_sample_mapping'].count(indice) > 1:\n",
        "\n",
        "       #split into chunks: we need to check into both using offset mapping for example\n",
        "        for i in range(dev_tokenized['overflow_to_sample_mapping'].count(indice)+1) :\n",
        "          if clean_pos.start > dev_tokenized[\"offset_mapping\"][tkn_indice+i+1][2][0] and clean_pos.stop < max(dev_tokenized[\"offset_mapping\"][tkn_indice+i+1])[1]:\n",
        "\n",
        "            mapper = dev_tokenized[\"offset_mapping\"][tkn_indice+i+1]\n",
        "            token_pos =  get_token_pos(mapper, clean_pos.start, clean_pos.stop)\n",
        "\n",
        "            dev_tokens_labels[tkn_indice+i+1][token_pos.start] = 'B-'+label\n",
        "\n",
        "            for x in range(token_pos.start+1, token_pos.stop):\n",
        "              if x <len(dev_tokens_labels[tkn_indice+i+1]):\n",
        "                dev_tokens_labels[tkn_indice+i+1][x] = 'I-'+label\n",
        "\n",
        "\n",
        "          if clean_pos.start > dev_tokenized[\"offset_mapping\"][tkn_indice+i][2][0] and clean_pos.stop < max(dev_tokenized[\"offset_mapping\"][tkn_indice+i])[1]:\n",
        "            #update the clean_pos too\n",
        "            tkn_indice += i\n",
        "            break\n",
        "\n",
        "      mapper = dev_tokenized[\"offset_mapping\"][tkn_indice]\n",
        "      token_pos =  get_token_pos(mapper, clean_pos.start, clean_pos.stop)\n",
        "\n",
        "      #check similarity\n",
        "\n",
        "      if ''.join(dev_tokens[tkn_indice][token_pos]).replace('##', '') != ''.join(dev_text_data[indice][clean_pos].split()):\n",
        "        print('here?!', indice,tkn_indice, special_entity, dev_tokens[tkn_indice][token_pos], '\\t', token_pos, '\\t', slice(deb_str,fin_str),  clean_pos )\n",
        "\n",
        "      dev_tokens_labels[tkn_indice][token_pos.start] = 'B-'+label\n",
        "\n",
        "      for x in range(token_pos.start+1, token_pos.stop):\n",
        "        if x <len(dev_tokens_labels[tkn_indice]):\n",
        "          dev_tokens_labels[tkn_indice][x] = 'I-'+label\n",
        "\n",
        "        else:\n",
        "          if x!=512 :\n",
        "            print('not simillar,  \\t', 'indice: \\t', indice, '\\t x: \\t', x )\n"
      ],
      "metadata": {
        "colab": {
          "base_uri": "https://localhost:8080/"
        },
        "id": "lA0HfaWB-6EY",
        "outputId": "e954dfb3-8c96-4d51-cd4a-821e464c4979"
      },
      "execution_count": null,
      "outputs": [
        {
          "output_type": "stream",
          "name": "stdout",
          "text": [
            "here?! 17 20 High Court For The State Of Telangana\n",
            " ['High', 'Court', 'For', 'The', 'State', 'Of', 'Telangana', 'At'] \t slice(3, 11, None) \t slice(7, 45, None) slice(7, 45, None)\n"
          ]
        }
      ]
    },
    {
      "cell_type": "markdown",
      "source": [
        "## Datasets creation\n",
        "labels_list, encode: int_labels, and dataset generation"
      ],
      "metadata": {
        "id": "WHzit9EcMkTF"
      }
    },
    {
      "cell_type": "markdown",
      "metadata": {
        "id": "mxEhEXf6MUE5"
      },
      "source": [
        "### labels lists"
      ]
    },
    {
      "cell_type": "markdown",
      "metadata": {
        "id": "8KElwodPMUE7"
      },
      "source": [
        "#### encode labels (str -> int)"
      ]
    },
    {
      "cell_type": "code",
      "execution_count": null,
      "metadata": {
        "colab": {
          "base_uri": "https://localhost:8080/",
          "height": 161
        },
        "outputId": "2c5695a4-9f1b-4c3d-b63a-c1ed18138c9d",
        "id": "Iw_S-4o5MUE7"
      },
      "outputs": [
        {
          "output_type": "stream",
          "name": "stdout",
          "text": [
            "40\n"
          ]
        },
        {
          "output_type": "execute_result",
          "data": {
            "text/plain": [
              "                     0\n",
              "O              3678669\n",
              "I-PRECEDENT      24789\n",
              "I-CASE_NUMBER     9546"
            ],
            "text/html": [
              "\n",
              "  <div id=\"df-f691613b-868d-41bc-8a22-60b2caadd705\" class=\"colab-df-container\">\n",
              "    <div>\n",
              "<style scoped>\n",
              "    .dataframe tbody tr th:only-of-type {\n",
              "        vertical-align: middle;\n",
              "    }\n",
              "\n",
              "    .dataframe tbody tr th {\n",
              "        vertical-align: top;\n",
              "    }\n",
              "\n",
              "    .dataframe thead th {\n",
              "        text-align: right;\n",
              "    }\n",
              "</style>\n",
              "<table border=\"1\" class=\"dataframe\">\n",
              "  <thead>\n",
              "    <tr style=\"text-align: right;\">\n",
              "      <th></th>\n",
              "      <th>0</th>\n",
              "    </tr>\n",
              "  </thead>\n",
              "  <tbody>\n",
              "    <tr>\n",
              "      <th>O</th>\n",
              "      <td>3678669</td>\n",
              "    </tr>\n",
              "    <tr>\n",
              "      <th>I-PRECEDENT</th>\n",
              "      <td>24789</td>\n",
              "    </tr>\n",
              "    <tr>\n",
              "      <th>I-CASE_NUMBER</th>\n",
              "      <td>9546</td>\n",
              "    </tr>\n",
              "  </tbody>\n",
              "</table>\n",
              "</div>\n",
              "    <div class=\"colab-df-buttons\">\n",
              "\n",
              "  <div class=\"colab-df-container\">\n",
              "    <button class=\"colab-df-convert\" onclick=\"convertToInteractive('df-f691613b-868d-41bc-8a22-60b2caadd705')\"\n",
              "            title=\"Convert this dataframe to an interactive table.\"\n",
              "            style=\"display:none;\">\n",
              "\n",
              "  <svg xmlns=\"http://www.w3.org/2000/svg\" height=\"24px\" viewBox=\"0 -960 960 960\">\n",
              "    <path d=\"M120-120v-720h720v720H120Zm60-500h600v-160H180v160Zm220 220h160v-160H400v160Zm0 220h160v-160H400v160ZM180-400h160v-160H180v160Zm440 0h160v-160H620v160ZM180-180h160v-160H180v160Zm440 0h160v-160H620v160Z\"/>\n",
              "  </svg>\n",
              "    </button>\n",
              "\n",
              "  <style>\n",
              "    .colab-df-container {\n",
              "      display:flex;\n",
              "      gap: 12px;\n",
              "    }\n",
              "\n",
              "    .colab-df-convert {\n",
              "      background-color: #E8F0FE;\n",
              "      border: none;\n",
              "      border-radius: 50%;\n",
              "      cursor: pointer;\n",
              "      display: none;\n",
              "      fill: #1967D2;\n",
              "      height: 32px;\n",
              "      padding: 0 0 0 0;\n",
              "      width: 32px;\n",
              "    }\n",
              "\n",
              "    .colab-df-convert:hover {\n",
              "      background-color: #E2EBFA;\n",
              "      box-shadow: 0px 1px 2px rgba(60, 64, 67, 0.3), 0px 1px 3px 1px rgba(60, 64, 67, 0.15);\n",
              "      fill: #174EA6;\n",
              "    }\n",
              "\n",
              "    .colab-df-buttons div {\n",
              "      margin-bottom: 4px;\n",
              "    }\n",
              "\n",
              "    [theme=dark] .colab-df-convert {\n",
              "      background-color: #3B4455;\n",
              "      fill: #D2E3FC;\n",
              "    }\n",
              "\n",
              "    [theme=dark] .colab-df-convert:hover {\n",
              "      background-color: #434B5C;\n",
              "      box-shadow: 0px 1px 3px 1px rgba(0, 0, 0, 0.15);\n",
              "      filter: drop-shadow(0px 1px 2px rgba(0, 0, 0, 0.3));\n",
              "      fill: #FFFFFF;\n",
              "    }\n",
              "  </style>\n",
              "\n",
              "    <script>\n",
              "      const buttonEl =\n",
              "        document.querySelector('#df-f691613b-868d-41bc-8a22-60b2caadd705 button.colab-df-convert');\n",
              "      buttonEl.style.display =\n",
              "        google.colab.kernel.accessAllowed ? 'block' : 'none';\n",
              "\n",
              "      async function convertToInteractive(key) {\n",
              "        const element = document.querySelector('#df-f691613b-868d-41bc-8a22-60b2caadd705');\n",
              "        const dataTable =\n",
              "          await google.colab.kernel.invokeFunction('convertToInteractive',\n",
              "                                                    [key], {});\n",
              "        if (!dataTable) return;\n",
              "\n",
              "        const docLinkHtml = 'Like what you see? Visit the ' +\n",
              "          '<a target=\"_blank\" href=https://colab.research.google.com/notebooks/data_table.ipynb>data table notebook</a>'\n",
              "          + ' to learn more about interactive tables.';\n",
              "        element.innerHTML = '';\n",
              "        dataTable['output_type'] = 'display_data';\n",
              "        await google.colab.output.renderOutput(dataTable, element);\n",
              "        const docLink = document.createElement('div');\n",
              "        docLink.innerHTML = docLinkHtml;\n",
              "        element.appendChild(docLink);\n",
              "      }\n",
              "    </script>\n",
              "  </div>\n",
              "\n",
              "\n",
              "<div id=\"df-0a85fbab-ad2a-43e4-b345-e2d53fd937c5\">\n",
              "  <button class=\"colab-df-quickchart\" onclick=\"quickchart('df-0a85fbab-ad2a-43e4-b345-e2d53fd937c5')\"\n",
              "            title=\"Suggest charts\"\n",
              "            style=\"display:none;\">\n",
              "\n",
              "<svg xmlns=\"http://www.w3.org/2000/svg\" height=\"24px\"viewBox=\"0 0 24 24\"\n",
              "     width=\"24px\">\n",
              "    <g>\n",
              "        <path d=\"M19 3H5c-1.1 0-2 .9-2 2v14c0 1.1.9 2 2 2h14c1.1 0 2-.9 2-2V5c0-1.1-.9-2-2-2zM9 17H7v-7h2v7zm4 0h-2V7h2v10zm4 0h-2v-4h2v4z\"/>\n",
              "    </g>\n",
              "</svg>\n",
              "  </button>\n",
              "\n",
              "<style>\n",
              "  .colab-df-quickchart {\n",
              "      --bg-color: #E8F0FE;\n",
              "      --fill-color: #1967D2;\n",
              "      --hover-bg-color: #E2EBFA;\n",
              "      --hover-fill-color: #174EA6;\n",
              "      --disabled-fill-color: #AAA;\n",
              "      --disabled-bg-color: #DDD;\n",
              "  }\n",
              "\n",
              "  [theme=dark] .colab-df-quickchart {\n",
              "      --bg-color: #3B4455;\n",
              "      --fill-color: #D2E3FC;\n",
              "      --hover-bg-color: #434B5C;\n",
              "      --hover-fill-color: #FFFFFF;\n",
              "      --disabled-bg-color: #3B4455;\n",
              "      --disabled-fill-color: #666;\n",
              "  }\n",
              "\n",
              "  .colab-df-quickchart {\n",
              "    background-color: var(--bg-color);\n",
              "    border: none;\n",
              "    border-radius: 50%;\n",
              "    cursor: pointer;\n",
              "    display: none;\n",
              "    fill: var(--fill-color);\n",
              "    height: 32px;\n",
              "    padding: 0;\n",
              "    width: 32px;\n",
              "  }\n",
              "\n",
              "  .colab-df-quickchart:hover {\n",
              "    background-color: var(--hover-bg-color);\n",
              "    box-shadow: 0 1px 2px rgba(60, 64, 67, 0.3), 0 1px 3px 1px rgba(60, 64, 67, 0.15);\n",
              "    fill: var(--button-hover-fill-color);\n",
              "  }\n",
              "\n",
              "  .colab-df-quickchart-complete:disabled,\n",
              "  .colab-df-quickchart-complete:disabled:hover {\n",
              "    background-color: var(--disabled-bg-color);\n",
              "    fill: var(--disabled-fill-color);\n",
              "    box-shadow: none;\n",
              "  }\n",
              "\n",
              "  .colab-df-spinner {\n",
              "    border: 2px solid var(--fill-color);\n",
              "    border-color: transparent;\n",
              "    border-bottom-color: var(--fill-color);\n",
              "    animation:\n",
              "      spin 1s steps(1) infinite;\n",
              "  }\n",
              "\n",
              "  @keyframes spin {\n",
              "    0% {\n",
              "      border-color: transparent;\n",
              "      border-bottom-color: var(--fill-color);\n",
              "      border-left-color: var(--fill-color);\n",
              "    }\n",
              "    20% {\n",
              "      border-color: transparent;\n",
              "      border-left-color: var(--fill-color);\n",
              "      border-top-color: var(--fill-color);\n",
              "    }\n",
              "    30% {\n",
              "      border-color: transparent;\n",
              "      border-left-color: var(--fill-color);\n",
              "      border-top-color: var(--fill-color);\n",
              "      border-right-color: var(--fill-color);\n",
              "    }\n",
              "    40% {\n",
              "      border-color: transparent;\n",
              "      border-right-color: var(--fill-color);\n",
              "      border-top-color: var(--fill-color);\n",
              "    }\n",
              "    60% {\n",
              "      border-color: transparent;\n",
              "      border-right-color: var(--fill-color);\n",
              "    }\n",
              "    80% {\n",
              "      border-color: transparent;\n",
              "      border-right-color: var(--fill-color);\n",
              "      border-bottom-color: var(--fill-color);\n",
              "    }\n",
              "    90% {\n",
              "      border-color: transparent;\n",
              "      border-bottom-color: var(--fill-color);\n",
              "    }\n",
              "  }\n",
              "</style>\n",
              "\n",
              "  <script>\n",
              "    async function quickchart(key) {\n",
              "      const quickchartButtonEl =\n",
              "        document.querySelector('#' + key + ' button');\n",
              "      quickchartButtonEl.disabled = true;  // To prevent multiple clicks.\n",
              "      quickchartButtonEl.classList.add('colab-df-spinner');\n",
              "      try {\n",
              "        const charts = await google.colab.kernel.invokeFunction(\n",
              "            'suggestCharts', [key], {});\n",
              "      } catch (error) {\n",
              "        console.error('Error during call to suggestCharts:', error);\n",
              "      }\n",
              "      quickchartButtonEl.classList.remove('colab-df-spinner');\n",
              "      quickchartButtonEl.classList.add('colab-df-quickchart-complete');\n",
              "    }\n",
              "    (() => {\n",
              "      let quickchartButtonEl =\n",
              "        document.querySelector('#df-0a85fbab-ad2a-43e4-b345-e2d53fd937c5 button');\n",
              "      quickchartButtonEl.style.display =\n",
              "        google.colab.kernel.accessAllowed ? 'block' : 'none';\n",
              "    })();\n",
              "  </script>\n",
              "</div>\n",
              "\n",
              "    </div>\n",
              "  </div>\n"
            ],
            "application/vnd.google.colaboratory.intrinsic+json": {
              "type": "dataframe",
              "summary": "{\n  \"name\": \"pd\",\n  \"rows\": 3,\n  \"fields\": [\n    {\n      \"column\": 0,\n      \"properties\": {\n        \"dtype\": \"number\",\n        \"std\": 2113982,\n        \"min\": 9546,\n        \"max\": 3678669,\n        \"num_unique_values\": 3,\n        \"samples\": [\n          3678669,\n          24789,\n          9546\n        ],\n        \"semantic_type\": \"\",\n        \"description\": \"\"\n      }\n    }\n  ]\n}"
            }
          },
          "metadata": {},
          "execution_count": 55
        }
      ],
      "source": [
        "ne_distribution = {}\n",
        "## objective: {'ne' : num_occ}\n",
        "for labels in tokens_labels:\n",
        "  for idx in range(len(labels)):\n",
        "    if labels[idx] in ne_distribution.keys():\n",
        "      ne_distribution[labels[idx]] +=1\n",
        "    else:\n",
        "      ne_distribution[labels[idx]] = 1\n",
        "\n",
        "for labels in dev_tokens_labels:\n",
        "  for idx in range(len(labels)):\n",
        "    if labels[idx] in ne_distribution.keys():\n",
        "      ne_distribution[labels[idx]] +=1\n",
        "    else:\n",
        "      ne_distribution[labels[idx]] = 1\n",
        "\n",
        "\n",
        "print(len(ne_distribution ))\n",
        "import pandas as pd\n",
        "\n",
        "pd.DataFrame.from_dict(dict(sorted(ne_distribution.items(), key = lambda x: x[1], reverse=True)),  orient='index').head(3)"
      ]
    },
    {
      "cell_type": "code",
      "source": [
        "labels_list = list(ne_distribution.keys())\n",
        "len(labels_list)"
      ],
      "metadata": {
        "colab": {
          "base_uri": "https://localhost:8080/"
        },
        "outputId": "8bc45c65-c342-4212-9796-cb1487ba394b",
        "id": "mk2ilQF2MUE8"
      },
      "execution_count": null,
      "outputs": [
        {
          "output_type": "execute_result",
          "data": {
            "text/plain": [
              "40"
            ]
          },
          "metadata": {},
          "execution_count": 56
        }
      ]
    },
    {
      "cell_type": "code",
      "source": [
        "int_labels = {}\n",
        "# for elt in labels_list:\n",
        "for i, lab in enumerate(labels_list):\n",
        "  int_labels[lab] = i\n",
        "print(int_labels)"
      ],
      "metadata": {
        "colab": {
          "base_uri": "https://localhost:8080/"
        },
        "outputId": "424b8008-eb5c-4ef8-d817-99d7dfea8ea1",
        "id": "JkL1R04TMUE9"
      },
      "execution_count": null,
      "outputs": [
        {
          "output_type": "stream",
          "name": "stdout",
          "text": [
            "{'O': 0, 'B-ORG': 1, 'I-ORG': 2, 'B-OTHER_PERSON': 3, 'I-OTHER_PERSON': 4, 'B-WITNESS': 5, 'I-WITNESS': 6, 'GPE': 7, 'B-STATUTE': 8, 'I-STATUTE': 9, 'B-DATE': 10, 'I-DATE': 11, 'B-PROVISION': 12, 'I-PROVISION': 13, 'B-COURT': 14, 'I-COURT': 15, 'B-PRECEDENT': 16, 'I-PRECEDENT': 17, 'B-GPE': 18, 'I-GPE': 19, 'B-CASE_NUMBER': 20, 'I-CASE_NUMBER': 21, 'ORG': 22, 'B-PETITIONER': 23, 'I-PETITIONER': 24, 'B-JUDGE': 25, 'I-JUDGE': 26, 'WITNESS': 27, 'B-RESPONDENT': 28, 'I-RESPONDENT': 29, 'STATUTE': 30, 'RESPONDENT': 31, 'OTHER_PERSON': 32, 'DATE': 33, 'JUDGE': 34, 'PETITIONER': 35, 'PROVISION': 36, 'CASE_NUMBER': 37, 'B-LAWYER': 38, 'I-LAWYER': 39}\n"
          ]
        }
      ]
    },
    {
      "cell_type": "markdown",
      "metadata": {
        "id": "DHlD4e1eSNNF"
      },
      "source": [
        "#### int train labels"
      ]
    },
    {
      "cell_type": "code",
      "execution_count": null,
      "metadata": {
        "id": "Oy3h5Vc4SBjU"
      },
      "outputs": [],
      "source": [
        "import copy\n",
        "int_tokens_labels = copy.deepcopy(tokens_labels)\n",
        "\n",
        "for i in range(len(tokens_labels)):\n",
        "  for j in range(len(tokens_labels[i])):\n",
        "    int_tokens_labels[i][j] = int_labels[tokens_labels[i][j]]"
      ]
    },
    {
      "cell_type": "markdown",
      "metadata": {
        "id": "T7TAo5ITTIx4"
      },
      "source": [
        "#### int dev labels list"
      ]
    },
    {
      "cell_type": "code",
      "execution_count": null,
      "metadata": {
        "id": "CSXhP0pVTKhO"
      },
      "outputs": [],
      "source": [
        "import copy\n",
        "int_dev_tokens_labels = copy.deepcopy(dev_tokens_labels)\n",
        "\n",
        "for i in range(len(dev_tokens_labels)):\n",
        "  for j in range(len(dev_tokens_labels[i])):\n",
        "    int_dev_tokens_labels[i][j] = int_labels[dev_tokens_labels[i][j]]"
      ]
    },
    {
      "cell_type": "markdown",
      "metadata": {
        "id": "jm7AK_QMYQ8G"
      },
      "source": [
        "### generate datasets"
      ]
    },
    {
      "cell_type": "markdown",
      "metadata": {
        "id": "Al7PkwQbYQ8G"
      },
      "source": [
        "#### gen train dt with_annot_indices"
      ]
    },
    {
      "cell_type": "code",
      "execution_count": null,
      "metadata": {
        "colab": {
          "base_uri": "https://localhost:8080/",
          "height": 118,
          "referenced_widgets": [
            "f6084975c2e9458a80730c925a5d5991",
            "8b82d77d21bc4f829932ff2f992c6f86",
            "422e59fe256d49fbaeeb9ad6c19651b6",
            "59c788848c68474d9195e3e074070b4b",
            "a0e48b87e83a4889997cabeadce0db9a",
            "590efb57cc8940d49de8cccad540e566",
            "4fc753287cea47d1bb3b94dc2b5b54f0",
            "58b89f255b0d436496e4c8d3242d9b9e",
            "b2c00bfd59fa45e0a2c800d710070949",
            "f95ee41d5f7e4d2fa4d45918f302f918",
            "4192c7f2b9ac406c8d9c0f294d87ced1"
          ]
        },
        "id": "ZafgqLeuYQ8H",
        "outputId": "432a0d67-e359-4530-d53e-2aa89d52a6a0"
      },
      "outputs": [
        {
          "output_type": "display_data",
          "data": {
            "text/plain": [
              "Generating train split: 0 examples [00:00, ? examples/s]"
            ],
            "application/vnd.jupyter.widget-view+json": {
              "version_major": 2,
              "version_minor": 0,
              "model_id": "f6084975c2e9458a80730c925a5d5991"
            }
          },
          "metadata": {}
        },
        {
          "output_type": "execute_result",
          "data": {
            "text/plain": [
              "Dataset({\n",
              "    features: ['labels', 'input_ids', 'attention_mask'],\n",
              "    num_rows: 7258\n",
              "})"
            ]
          },
          "metadata": {},
          "execution_count": 60
        }
      ],
      "source": [
        "def no_ne_gen():\n",
        "  i = 0\n",
        "  for indice in range(len(with_annot_indices)):\n",
        "    yield {'labels' : int_tokens_labels[i], 'input_ids': tokenized['input_ids'][i] , 'attention_mask': tokenized['attention_mask'][i]}\n",
        "    i+=1\n",
        "\n",
        "from datasets import Dataset\n",
        "with_ne_train_dt = Dataset.from_generator(no_ne_gen)\n",
        "with_ne_train_dt"
      ]
    },
    {
      "cell_type": "markdown",
      "metadata": {
        "id": "0bbXeddbYQ8I"
      },
      "source": [
        "#### gen dev dt"
      ]
    },
    {
      "cell_type": "code",
      "execution_count": null,
      "metadata": {
        "colab": {
          "base_uri": "https://localhost:8080/",
          "height": 118,
          "referenced_widgets": [
            "d0eb4c3c88c545a1b213274f0528f9e5",
            "b7bc5a9929ec4cfc9b0768ca6528b272",
            "61b5a727613a41559de26120004e62d0",
            "a451579491764c10bffdd8c8e46f7360",
            "a28892a16cef443b956d351efb27c370",
            "743cb1c16903462086672a26c335c302",
            "3d547f0c2b1548819ec0734aee50296a",
            "78ba1a7def8042f4ab146d9d4bf6eb22",
            "745d28d811d54789a774f806ab371142",
            "79ed0e56319645ea9c9a5afe8eba7bdd",
            "10c91d7c19ed42c2b55495799a16fc3c"
          ]
        },
        "id": "C4zTHeHdYQ8K",
        "outputId": "6ba8cdfa-42b8-45c9-8e46-84c1191954f0"
      },
      "outputs": [
        {
          "output_type": "display_data",
          "data": {
            "text/plain": [
              "Generating train split: 0 examples [00:00, ? examples/s]"
            ],
            "application/vnd.jupyter.widget-view+json": {
              "version_major": 2,
              "version_minor": 0,
              "model_id": "d0eb4c3c88c545a1b213274f0528f9e5"
            }
          },
          "metadata": {}
        },
        {
          "output_type": "execute_result",
          "data": {
            "text/plain": [
              "Dataset({\n",
              "    features: ['labels', 'input_ids', 'attention_mask'],\n",
              "    num_rows: 125\n",
              "})"
            ]
          },
          "metadata": {},
          "execution_count": 61
        }
      ],
      "source": [
        "def dev_gen():\n",
        "  i = 0\n",
        "  for line in dev_data: #   'id':i,  'tokens': dev_tokens[i],\n",
        "    yield {'labels' : int_dev_tokens_labels[i], 'input_ids': dev_tokenized['input_ids'][i] , 'attention_mask': dev_tokenized['attention_mask'][i]}\n",
        "    i+=1\n",
        "\n",
        "# from datasets import Dataset\n",
        "dev_dt = Dataset.from_generator(dev_gen)\n",
        "dev_dt"
      ]
    },
    {
      "cell_type": "markdown",
      "metadata": {
        "id": "9y4SrkdGQa8B"
      },
      "source": [
        "#### display function"
      ]
    },
    {
      "cell_type": "code",
      "execution_count": null,
      "metadata": {
        "id": "ArobfXXRPE_p"
      },
      "outputs": [],
      "source": [
        "from datasets import ClassLabel, Sequence\n",
        "import pandas as pd\n",
        "from IPython.display import display, HTML\n",
        "\n",
        "def display_dt(dataset, num_examples=10):\n",
        "    assert num_examples <= len(dataset);\n",
        "\n",
        "    df = pd.DataFrame(dataset[:num_examples])\n",
        "    for column, typ in dataset.features.items():\n",
        "        if isinstance(typ, ClassLabel):\n",
        "            df[column] = df[column].transform(lambda i: typ.names[i])\n",
        "        elif isinstance(typ, Sequence) and isinstance(typ.feature, ClassLabel):\n",
        "            df[column] = df[column].transform(lambda x: [typ.feature.names[i] for i in x])\n",
        "    display(HTML(df.to_html()))\n",
        "# show_random_elements(mapped_dataset)"
      ]
    },
    {
      "cell_type": "code",
      "source": [
        "with_ne_train_dt_no_100 = with_ne_train_dt\n",
        "dev_dt_no_100 = dev_dt"
      ],
      "metadata": {
        "id": "k7s4Dv6fNnHl"
      },
      "execution_count": null,
      "outputs": []
    },
    {
      "cell_type": "code",
      "execution_count": null,
      "metadata": {
        "colab": {
          "base_uri": "https://localhost:8080/",
          "height": 286
        },
        "id": "V8__UByQ1hV2",
        "outputId": "7cc725b3-a71e-4178-9536-6b27398794db"
      },
      "outputs": [
        {
          "output_type": "display_data",
          "data": {
            "text/plain": [
              "<IPython.core.display.HTML object>"
            ],
            "text/html": [
              "<table border=\"1\" class=\"dataframe\">\n",
              "  <thead>\n",
              "    <tr style=\"text-align: right;\">\n",
              "      <th></th>\n",
              "      <th>labels</th>\n",
              "      <th>input_ids</th>\n",
              "      <th>attention_mask</th>\n",
              "    </tr>\n",
              "  </thead>\n",
              "  <tbody>\n",
              "    <tr>\n",
              "      <th>0</th>\n",
              "      <td>[0, 0, 0, 0, 0, 0, 0, 0, 0, 0, 0, 0, 0, 0, 0, 0, 0, 0, 0, 0, 0, 0, 0, 0, 0, 0, 0, 0, 0, 1, 2, 2, 2, 0, 0, 0, 0, 0, 0, 0, 0, 0, 0, 0, 0, 0, 0, 0, 0, 0, 0, 0, 0, 0, 0, 0, 0, 0, 0, 0, 0, 0, 0, 0, 0, 0, 1, 2, 2, 2, 2, 0, 0, 0, 0, 0, 0, 0, 0, 0, 0, 0, 0, 0, 0, 0, 0, 0, 0, 0, 0, 0, 0, 0, 0, 0, 0, 0, 0, 0, ...]</td>\n",
              "      <td>[101, 113, 128, 114, 1212, 2747, 15027, 1616, 1118, 1103, 3096, 1732, 1164, 1126, 3990, 1104, 19003, 119, 122, 117, 1955, 117, 3413, 117, 2260, 1113, 14304, 1334, 1104, 3475, 19890, 1403, 2950, 3300, 1104, 1134, 170, 6307, 5633, 1110, 5452, 1120, 185, 119, 1969, 1104, 15187, 3051, 112, 188, 2526, 1520, 117, 3560, 21812, 4702, 7402, 1115, 1122, 1108, 2272, 1106, 4891, 1121, 24535, 117, 16890, 24287, 111, 3291, 119, 1113, 1103, 3142, 1104, 1117, 13455, 170, 3238, 4551, 1110, 1508, 1118, 1366, 1113, 1115, 6307, 5633, 119, 102, 0, 0, 0, 0, 0, 0, 0, 0, 0, 0, ...]</td>\n",
              "      <td>[1, 1, 1, 1, 1, 1, 1, 1, 1, 1, 1, 1, 1, 1, 1, 1, 1, 1, 1, 1, 1, 1, 1, 1, 1, 1, 1, 1, 1, 1, 1, 1, 1, 1, 1, 1, 1, 1, 1, 1, 1, 1, 1, 1, 1, 1, 1, 1, 1, 1, 1, 1, 1, 1, 1, 1, 1, 1, 1, 1, 1, 1, 1, 1, 1, 1, 1, 1, 1, 1, 1, 1, 1, 1, 1, 1, 1, 1, 1, 1, 1, 1, 1, 1, 1, 1, 1, 1, 1, 1, 0, 0, 0, 0, 0, 0, 0, 0, 0, 0, ...]</td>\n",
              "    </tr>\n",
              "    <tr>\n",
              "      <th>1</th>\n",
              "      <td>[0, 0, 0, 0, 0, 0, 3, 4, 4, 0, 0, 0, 0, 0, 0, 0, 0, 0, 0, 0, 0, 0, 0, 0, 0, 0, 0, 0, 0, 0, 0, 0, 0, 0, 0, 0, 0, 0, 0, 0, 0, 3, 4, 0, 0, 0, 0, 0, 0, 0, 0, 0, 0, 0, 0, 3, 4, 4, 4, 4, 0, 0, 0, 0, 0, 0, 0, 0, 0, 0, 0, 0, 0, 0, 0, 0, 0, 0, 0, 0, 0, 0, 0, 0, 0, 0, 0, 0, 0, 0, 0, 0, 0, 0, 0, 0, 0, 0, 0, 0, ...]</td>\n",
              "      <td>[101, 1124, 1108, 1145, 1455, 2480, 138, 4873, 1161, 133, 8492, 1705, 134, 107, 4610, 168, 3087, 107, 25021, 134, 107, 8492, 168, 126, 107, 135, 15531, 1592, 1302, 119, 2724, 1545, 118, 24044, 1104, 1772, 127, 133, 120, 8492, 135, 14812, 2149, 117, 1534, 118, 1107, 118, 1644, 1104, 1103, 10281, 2077, 10380, 1121, 22515, 17670, 9962, 1389, 5329, 119, 102, 0, 0, 0, 0, 0, 0, 0, 0, 0, 0, 0, 0, 0, 0, 0, 0, 0, 0, 0, 0, 0, 0, 0, 0, 0, 0, 0, 0, 0, 0, 0, 0, 0, 0, 0, 0, 0, 0, ...]</td>\n",
              "      <td>[1, 1, 1, 1, 1, 1, 1, 1, 1, 1, 1, 1, 1, 1, 1, 1, 1, 1, 1, 1, 1, 1, 1, 1, 1, 1, 1, 1, 1, 1, 1, 1, 1, 1, 1, 1, 1, 1, 1, 1, 1, 1, 1, 1, 1, 1, 1, 1, 1, 1, 1, 1, 1, 1, 1, 1, 1, 1, 1, 1, 1, 1, 0, 0, 0, 0, 0, 0, 0, 0, 0, 0, 0, 0, 0, 0, 0, 0, 0, 0, 0, 0, 0, 0, 0, 0, 0, 0, 0, 0, 0, 0, 0, 0, 0, 0, 0, 0, 0, 0, ...]</td>\n",
              "    </tr>\n",
              "  </tbody>\n",
              "</table>"
            ]
          },
          "metadata": {}
        }
      ],
      "source": [
        "display_dt(with_ne_train_dt_no_100, 2)"
      ]
    },
    {
      "cell_type": "code",
      "execution_count": null,
      "metadata": {
        "colab": {
          "base_uri": "https://localhost:8080/",
          "height": 355
        },
        "id": "cYjBjijYwWc-",
        "outputId": "bb12db7c-6cbc-4dd4-8598-ed49ee3b3dee"
      },
      "outputs": [
        {
          "output_type": "display_data",
          "data": {
            "text/plain": [
              "<IPython.core.display.HTML object>"
            ],
            "text/html": [
              "<table border=\"1\" class=\"dataframe\">\n",
              "  <thead>\n",
              "    <tr style=\"text-align: right;\">\n",
              "      <th></th>\n",
              "      <th>labels</th>\n",
              "      <th>input_ids</th>\n",
              "      <th>attention_mask</th>\n",
              "    </tr>\n",
              "  </thead>\n",
              "  <tbody>\n",
              "    <tr>\n",
              "      <th>0</th>\n",
              "      <td>[0, 0, 0, 0, 0, 0, 0, 14, 15, 15, 15, 15, 15, 15, 0, 0, 0, 0, 0, 0, 0, 0, 0, 0, 0, 0, 0, 0, 0, 0, 0, 0, 0, 0, 0, 0, 0, 0, 0, 0, 0, 0, 0, 0, 0, 0, 0, 0, 0, 0, 0, 0, 0, 0, 0, 0, 23, 24, 24, 24, 24, 0, 0, 0, 0, 0, 0, 0, 38, 39, 39, 39, 39, 0, 0, 0, 38, 39, 39, 39, 39, 39, 39, 0, 0, 0, 38, 39, 39, 0, 0, 0, 38, 39, 39, 39, 39, 39, 39, 0, ...]</td>\n",
              "      <td>[101, 109, 199, 1969, 115, 1130, 1109, 1693, 2031, 2096, 6175, 1335, 1203, 6175, 110, 13063, 10517, 1113, 131, 1955, 119, 5004, 119, 10351, 116, 6603, 119, 138, 8661, 119, 5311, 1545, 120, 1857, 111, 140, 1306, 1302, 1116, 119, 3993, 11964, 1477, 120, 1857, 117, 15722, 25631, 120, 10351, 117, 3236, 16382, 1571, 120, 10351, 13078, 11037, 3291, 4492, 119, 138, 24756, 9180, 4737, 131, 1828, 119, 156, 119, 153, 119, 18489, 117, 1828, 119, 15619, 5443, 6583, 144, 2312, 1830, 14518, 117, 1828, 119, 11896, 1197, 5329, 1105, 1828, 119, 153, 13148, 6610, 5329, 14812, 1179, 11487, 117, ...]</td>\n",
              "      <td>[1, 1, 1, 1, 1, 1, 1, 1, 1, 1, 1, 1, 1, 1, 1, 1, 1, 1, 1, 1, 1, 1, 1, 1, 1, 1, 1, 1, 1, 1, 1, 1, 1, 1, 1, 1, 1, 1, 1, 1, 1, 1, 1, 1, 1, 1, 1, 1, 1, 1, 1, 1, 1, 1, 1, 1, 1, 1, 1, 1, 1, 1, 1, 1, 1, 1, 1, 1, 1, 1, 1, 1, 1, 1, 1, 1, 1, 1, 1, 1, 1, 1, 1, 1, 1, 1, 1, 1, 1, 1, 1, 1, 1, 1, 1, 1, 1, 1, 1, 1, ...]</td>\n",
              "    </tr>\n",
              "    <tr>\n",
              "      <th>1</th>\n",
              "      <td>[0, 0, 0, 0, 0, 0, 14, 15, 15, 15, 0, 0, 0, 0, 0, 0, 0, 0, 0, 0, 0, 0, 0, 0, 0, 0, 0, 0, 0, 0, 0, 0, 0, 0, 0, 0, 0, 0, 0, 0, 0, 0, 0, 0, 23, 24, 24, 24, 24, 24, 24, 24, 24, 24, 0, 0, 0, 0, 0, 0, 0, 28, 29, 29, 0, 0, 0, 0, 0, 0, 0, 0, 0, 0, 0, 0, 0, 0, 0, 0, 0, 0, 0, 0, 0, 0, 0, 0, 0, 0, 0, 0, 0, 0, 0, 0, 0, 0, 0, 0, ...]</td>\n",
              "      <td>[101, 122, 7178, 1895, 1130, 1109, 3732, 2031, 2096, 1726, 3145, 138, 24756, 8052, 23915, 4889, 15906, 3145, 13969, 1302, 119, 3102, 1545, 2096, 17881, 1475, 113, 10789, 4253, 3929, 2096, 156, 1233, 1643, 113, 140, 114, 1302, 119, 26409, 11049, 2096, 1410, 114, 20967, 1197, 2687, 7418, 1394, 1324, 12189, 15513, 1394, 1324, 795, 138, 24756, 9180, 159, 1116, 119, 1426, 2096, 15019, 111, 2926, 1116, 119, 795, 11336, 20080, 16838, 9857, 1556, 3145, 13969, 1302, 119, 3102, 1559, 2096, 17881, 1475, 113, 10789, 4253, 3929, 2096, 156, 1233, 1643, 113, 140, 114, 1302, 119, 27724, 19297, 2096, 1410, ...]</td>\n",
              "      <td>[1, 1, 1, 1, 1, 1, 1, 1, 1, 1, 1, 1, 1, 1, 1, 1, 1, 1, 1, 1, 1, 1, 1, 1, 1, 1, 1, 1, 1, 1, 1, 1, 1, 1, 1, 1, 1, 1, 1, 1, 1, 1, 1, 1, 1, 1, 1, 1, 1, 1, 1, 1, 1, 1, 1, 1, 1, 1, 1, 1, 1, 1, 1, 1, 1, 1, 1, 1, 1, 1, 1, 1, 1, 1, 1, 1, 1, 1, 1, 1, 1, 1, 1, 1, 1, 1, 1, 1, 1, 1, 1, 1, 1, 1, 1, 1, 1, 1, 1, 1, ...]</td>\n",
              "    </tr>\n",
              "  </tbody>\n",
              "</table>"
            ]
          },
          "metadata": {}
        }
      ],
      "source": [
        "display_dt(dev_dt_no_100, 2)"
      ]
    },
    {
      "cell_type": "markdown",
      "source": [
        "#### affect -100 to cls, sep and pad"
      ],
      "metadata": {
        "id": "1ijd867gjv3s"
      }
    },
    {
      "cell_type": "code",
      "source": [
        "def affect_minus_100(dt):\n",
        "  #the role of this function is to find the indices of 101, 102 and 0 (cls, sep and pad) from input_ids and in the labels column affect -100\n",
        "  #without having -100 in the labels list\n",
        "  input_ids = dt['input_ids']\n",
        "  labels = dt['labels']\n",
        "\n",
        "  new_labs = labels.copy()\n",
        "\n",
        "  for idx, input_id in enumerate(input_ids):\n",
        "    if input_id in [101, 102, 0]:\n",
        "      new_labs[idx] = -100\n",
        "\n",
        "  return {'labels': new_labs}\n",
        "\n"
      ],
      "metadata": {
        "id": "RRzmI2zMN9KJ"
      },
      "execution_count": null,
      "outputs": []
    },
    {
      "cell_type": "code",
      "source": [
        "display_dt(dev_dt_with_100, 2)"
      ],
      "metadata": {
        "colab": {
          "base_uri": "https://localhost:8080/",
          "height": 355
        },
        "id": "MixskMnfORie",
        "outputId": "30d54642-41c9-415b-cccf-d0ae3fe08767"
      },
      "execution_count": null,
      "outputs": [
        {
          "output_type": "display_data",
          "data": {
            "text/plain": [
              "<IPython.core.display.HTML object>"
            ],
            "text/html": [
              "<table border=\"1\" class=\"dataframe\">\n",
              "  <thead>\n",
              "    <tr style=\"text-align: right;\">\n",
              "      <th></th>\n",
              "      <th>labels</th>\n",
              "      <th>input_ids</th>\n",
              "      <th>attention_mask</th>\n",
              "    </tr>\n",
              "  </thead>\n",
              "  <tbody>\n",
              "    <tr>\n",
              "      <th>0</th>\n",
              "      <td>[-100, 0, 0, 0, 0, 0, 0, 14, 15, 15, 15, 15, 15, 15, 0, 0, 0, 0, 0, 0, 0, 0, 0, 0, 0, 0, 0, 0, 0, 0, 0, 0, 0, 0, 0, 0, 0, 0, 0, 0, 0, 0, 0, 0, 0, 0, 0, 0, 0, 0, 0, 0, 0, 0, 0, 0, 23, 24, 24, 24, 24, 0, 0, 0, 0, 0, 0, 0, 38, 39, 39, 39, 39, 0, 0, 0, 38, 39, 39, 39, 39, 39, 39, 0, 0, 0, 38, 39, 39, 0, 0, 0, 38, 39, 39, 39, 39, 39, 39, 0, ...]</td>\n",
              "      <td>[101, 109, 199, 1969, 115, 1130, 1109, 1693, 2031, 2096, 6175, 1335, 1203, 6175, 110, 13063, 10517, 1113, 131, 1955, 119, 5004, 119, 10351, 116, 6603, 119, 138, 8661, 119, 5311, 1545, 120, 1857, 111, 140, 1306, 1302, 1116, 119, 3993, 11964, 1477, 120, 1857, 117, 15722, 25631, 120, 10351, 117, 3236, 16382, 1571, 120, 10351, 13078, 11037, 3291, 4492, 119, 138, 24756, 9180, 4737, 131, 1828, 119, 156, 119, 153, 119, 18489, 117, 1828, 119, 15619, 5443, 6583, 144, 2312, 1830, 14518, 117, 1828, 119, 11896, 1197, 5329, 1105, 1828, 119, 153, 13148, 6610, 5329, 14812, 1179, 11487, 117, ...]</td>\n",
              "      <td>[1, 1, 1, 1, 1, 1, 1, 1, 1, 1, 1, 1, 1, 1, 1, 1, 1, 1, 1, 1, 1, 1, 1, 1, 1, 1, 1, 1, 1, 1, 1, 1, 1, 1, 1, 1, 1, 1, 1, 1, 1, 1, 1, 1, 1, 1, 1, 1, 1, 1, 1, 1, 1, 1, 1, 1, 1, 1, 1, 1, 1, 1, 1, 1, 1, 1, 1, 1, 1, 1, 1, 1, 1, 1, 1, 1, 1, 1, 1, 1, 1, 1, 1, 1, 1, 1, 1, 1, 1, 1, 1, 1, 1, 1, 1, 1, 1, 1, 1, 1, ...]</td>\n",
              "    </tr>\n",
              "    <tr>\n",
              "      <th>1</th>\n",
              "      <td>[-100, 0, 0, 0, 0, 0, 14, 15, 15, 15, 0, 0, 0, 0, 0, 0, 0, 0, 0, 0, 0, 0, 0, 0, 0, 0, 0, 0, 0, 0, 0, 0, 0, 0, 0, 0, 0, 0, 0, 0, 0, 0, 0, 0, 23, 24, 24, 24, 24, 24, 24, 24, 24, 24, 0, 0, 0, 0, 0, 0, 0, 28, 29, 29, 0, 0, 0, 0, 0, 0, 0, 0, 0, 0, 0, 0, 0, 0, 0, 0, 0, 0, 0, 0, 0, 0, 0, 0, 0, 0, 0, 0, 0, 0, 0, 0, 0, 0, 0, 0, ...]</td>\n",
              "      <td>[101, 122, 7178, 1895, 1130, 1109, 3732, 2031, 2096, 1726, 3145, 138, 24756, 8052, 23915, 4889, 15906, 3145, 13969, 1302, 119, 3102, 1545, 2096, 17881, 1475, 113, 10789, 4253, 3929, 2096, 156, 1233, 1643, 113, 140, 114, 1302, 119, 26409, 11049, 2096, 1410, 114, 20967, 1197, 2687, 7418, 1394, 1324, 12189, 15513, 1394, 1324, 795, 138, 24756, 9180, 159, 1116, 119, 1426, 2096, 15019, 111, 2926, 1116, 119, 795, 11336, 20080, 16838, 9857, 1556, 3145, 13969, 1302, 119, 3102, 1559, 2096, 17881, 1475, 113, 10789, 4253, 3929, 2096, 156, 1233, 1643, 113, 140, 114, 1302, 119, 27724, 19297, 2096, 1410, ...]</td>\n",
              "      <td>[1, 1, 1, 1, 1, 1, 1, 1, 1, 1, 1, 1, 1, 1, 1, 1, 1, 1, 1, 1, 1, 1, 1, 1, 1, 1, 1, 1, 1, 1, 1, 1, 1, 1, 1, 1, 1, 1, 1, 1, 1, 1, 1, 1, 1, 1, 1, 1, 1, 1, 1, 1, 1, 1, 1, 1, 1, 1, 1, 1, 1, 1, 1, 1, 1, 1, 1, 1, 1, 1, 1, 1, 1, 1, 1, 1, 1, 1, 1, 1, 1, 1, 1, 1, 1, 1, 1, 1, 1, 1, 1, 1, 1, 1, 1, 1, 1, 1, 1, 1, ...]</td>\n",
              "    </tr>\n",
              "  </tbody>\n",
              "</table>"
            ]
          },
          "metadata": {}
        }
      ]
    },
    {
      "cell_type": "markdown",
      "source": [
        "#### save datasets"
      ],
      "metadata": {
        "id": "ytKTe3KThORT"
      }
    },
    {
      "cell_type": "code",
      "source": [
        "# O, cls, sep and pad labelled as 0\n",
        "with_ne_train_dt.save_to_disk('/content/drive/MyDrive/ner_india/with_ne_train_dtst_no_100')\n",
        "dev_dt.save_to_disk('/content/drive/MyDrive/ner_india/dev_dtst_no_100')\n",
        "\n",
        "\n",
        "# O, cls, sep and pad labelled as -100\n",
        "with_ne_train_dt.map(affect_minus_100).save_to_disk('/content/drive/MyDrive/ner_india/with_ne_train_dtst_with-100')\n",
        "dev_dt.map(affect_minus_100).save_to_disk('/content/drive/MyDrive/ner_india/dev_dtst_with-100')\n"
      ],
      "metadata": {
        "id": "bM1fpuRrhNEE"
      },
      "execution_count": null,
      "outputs": []
    },
    {
      "cell_type": "code",
      "source": [
        "with_ne_train_dt_with_100 = with_ne_train_dt.map(affect_minus_100)\n",
        "dev_dt_with_100 = dev_dt.map(affect_minus_100)"
      ],
      "metadata": {
        "colab": {
          "base_uri": "https://localhost:8080/",
          "height": 81,
          "referenced_widgets": [
            "4423c901ce394b369518ef4ad73e3a40",
            "ac6bb45057f54463a70ce7013fabe0c5",
            "9474d82b9ae1442cba5fbd76a2d09aa9",
            "2c24fdc5ddde448192800263c64075bb",
            "834bf0b4d20a4898be1b33abba0efd2a",
            "c2f0dd1d732f4fe7a7bfe24ae39cd572",
            "fed2642bb36341008a083e92d87b4c22",
            "0296968b9d4b46e4a4014c52451a7b84",
            "73cb73b4ca334b089a57f94e95346fd2",
            "ddfe5760bd604162a7478997bfda62ee",
            "c7966fe3d2ff4bcda37f34f057a0be7a",
            "b25d6fea3a6f4590906cf13b49723fd6",
            "8f86a07d9d494b82abf845cdba2602bb",
            "9b108936fbea4ab18f4d33cfc18ef30e",
            "97796a2742604ef582be7cc19a7619bb",
            "2646b0779438417aa01d43d9ff19ef3f",
            "ddf369d1f346416b98dfccc15df9ff0d",
            "a61fd426743549f296f48c57fccc9ac4",
            "7305005872204780bb46a3e48ce57d92",
            "88e57ba484244b5a84efcbc363c3da15",
            "ab43d328545d474ab9290d3e6794d63c",
            "d29a6e8ce38444eda3d20bda22e115b3"
          ]
        },
        "id": "S_aOw3UsOFVi",
        "outputId": "50a0bb04-2a37-474b-97cc-434e477e1044"
      },
      "execution_count": null,
      "outputs": [
        {
          "output_type": "display_data",
          "data": {
            "text/plain": [
              "Map:   0%|          | 0/7258 [00:00<?, ? examples/s]"
            ],
            "application/vnd.jupyter.widget-view+json": {
              "version_major": 2,
              "version_minor": 0,
              "model_id": "4423c901ce394b369518ef4ad73e3a40"
            }
          },
          "metadata": {}
        },
        {
          "output_type": "display_data",
          "data": {
            "text/plain": [
              "Map:   0%|          | 0/125 [00:00<?, ? examples/s]"
            ],
            "application/vnd.jupyter.widget-view+json": {
              "version_major": 2,
              "version_minor": 0,
              "model_id": "b25d6fea3a6f4590906cf13b49723fd6"
            }
          },
          "metadata": {}
        }
      ]
    },
    {
      "cell_type": "markdown",
      "source": [
        "# 3.Process"
      ],
      "metadata": {
        "id": "kVDekIRF8kHT"
      }
    },
    {
      "cell_type": "markdown",
      "source": [
        "#### load datasets"
      ],
      "metadata": {
        "id": "7Z7ME2_QWtLN"
      }
    },
    {
      "cell_type": "markdown",
      "metadata": {
        "id": "dw_Ox6FSlNfn"
      },
      "source": [
        "##### display function"
      ]
    },
    {
      "cell_type": "code",
      "execution_count": null,
      "metadata": {
        "id": "RAk0h9EQlNfo"
      },
      "outputs": [],
      "source": [
        "from datasets import ClassLabel, Sequence\n",
        "import pandas as pd\n",
        "from IPython.display import display, HTML\n",
        "\n",
        "def display_dt(dataset, num_examples=10):\n",
        "    assert num_examples <= len(dataset);\n",
        "\n",
        "    df = pd.DataFrame(dataset[:num_examples])\n",
        "    for column, typ in dataset.features.items():\n",
        "        if isinstance(typ, ClassLabel):\n",
        "            df[column] = df[column].transform(lambda i: typ.names[i])\n",
        "        elif isinstance(typ, Sequence) and isinstance(typ.feature, ClassLabel):\n",
        "            df[column] = df[column].transform(lambda x: [typ.feature.names[i] for i in x])\n",
        "    display(HTML(df.to_html()))\n",
        "# show_random_elements(mapped_dataset)"
      ]
    },
    {
      "cell_type": "code",
      "source": [
        "from datasets import load_from_disk\n",
        "with_ne_train_dtst_with_100 = load_from_disk('/content/drive/MyDrive/ner_india/with_ne_train_dtst_with-100')\n",
        "display_dt(with_ne_train_dtst_with_100, 2)"
      ],
      "metadata": {
        "colab": {
          "base_uri": "https://localhost:8080/",
          "height": 355
        },
        "id": "rfb4yCtXl5ns",
        "outputId": "7a5fa259-8fab-4f5e-b667-8775135f7cde"
      },
      "execution_count": null,
      "outputs": [
        {
          "output_type": "display_data",
          "data": {
            "text/plain": [
              "<IPython.core.display.HTML object>"
            ],
            "text/html": [
              "<table border=\"1\" class=\"dataframe\">\n",
              "  <thead>\n",
              "    <tr style=\"text-align: right;\">\n",
              "      <th></th>\n",
              "      <th>labels</th>\n",
              "      <th>input_ids</th>\n",
              "      <th>attention_mask</th>\n",
              "    </tr>\n",
              "  </thead>\n",
              "  <tbody>\n",
              "    <tr>\n",
              "      <th>0</th>\n",
              "      <td>[-100, 0, 0, 0, 0, 0, 0, 0, 0, 0, 0, 0, 0, 0, 0, 0, 0, 0, 0, 0, 0, 0, 0, 0, 0, 0, 0, 0, 0, 1, 2, 2, 2, 0, 0, 0, 0, 0, 0, 0, 0, 0, 0, 0, 0, 0, 0, 0, 0, 0, 0, 0, 0, 0, 0, 0, 0, 0, 0, 0, 0, 0, 0, 0, 0, 0, 1, 2, 2, 2, 2, 0, 0, 0, 0, 0, 0, 0, 0, 0, 0, 0, 0, 0, 0, 0, 0, 0, 0, -100, -100, -100, -100, -100, -100, -100, -100, -100, -100, -100, ...]</td>\n",
              "      <td>[101, 113, 128, 114, 1212, 2747, 15027, 1616, 1118, 1103, 3096, 1732, 1164, 1126, 3990, 1104, 19003, 119, 122, 117, 1955, 117, 3413, 117, 2260, 1113, 14304, 1334, 1104, 3475, 19890, 1403, 2950, 3300, 1104, 1134, 170, 6307, 5633, 1110, 5452, 1120, 185, 119, 1969, 1104, 15187, 3051, 112, 188, 2526, 1520, 117, 3560, 21812, 4702, 7402, 1115, 1122, 1108, 2272, 1106, 4891, 1121, 24535, 117, 16890, 24287, 111, 3291, 119, 1113, 1103, 3142, 1104, 1117, 13455, 170, 3238, 4551, 1110, 1508, 1118, 1366, 1113, 1115, 6307, 5633, 119, 102, 0, 0, 0, 0, 0, 0, 0, 0, 0, 0, ...]</td>\n",
              "      <td>[1, 1, 1, 1, 1, 1, 1, 1, 1, 1, 1, 1, 1, 1, 1, 1, 1, 1, 1, 1, 1, 1, 1, 1, 1, 1, 1, 1, 1, 1, 1, 1, 1, 1, 1, 1, 1, 1, 1, 1, 1, 1, 1, 1, 1, 1, 1, 1, 1, 1, 1, 1, 1, 1, 1, 1, 1, 1, 1, 1, 1, 1, 1, 1, 1, 1, 1, 1, 1, 1, 1, 1, 1, 1, 1, 1, 1, 1, 1, 1, 1, 1, 1, 1, 1, 1, 1, 1, 1, 1, 0, 0, 0, 0, 0, 0, 0, 0, 0, 0, ...]</td>\n",
              "    </tr>\n",
              "    <tr>\n",
              "      <th>1</th>\n",
              "      <td>[-100, 0, 0, 0, 0, 0, 3, 4, 4, 0, 0, 0, 0, 0, 0, 0, 0, 0, 0, 0, 0, 0, 0, 0, 0, 0, 0, 0, 0, 0, 0, 0, 0, 0, 0, 0, 0, 0, 0, 0, 0, 3, 4, 0, 0, 0, 0, 0, 0, 0, 0, 0, 0, 0, 0, 3, 4, 4, 4, 4, 0, -100, -100, -100, -100, -100, -100, -100, -100, -100, -100, -100, -100, -100, -100, -100, -100, -100, -100, -100, -100, -100, -100, -100, -100, -100, -100, -100, -100, -100, -100, -100, -100, -100, -100, -100, -100, -100, -100, -100, ...]</td>\n",
              "      <td>[101, 1124, 1108, 1145, 1455, 2480, 138, 4873, 1161, 133, 8492, 1705, 134, 107, 4610, 168, 3087, 107, 25021, 134, 107, 8492, 168, 126, 107, 135, 15531, 1592, 1302, 119, 2724, 1545, 118, 24044, 1104, 1772, 127, 133, 120, 8492, 135, 14812, 2149, 117, 1534, 118, 1107, 118, 1644, 1104, 1103, 10281, 2077, 10380, 1121, 22515, 17670, 9962, 1389, 5329, 119, 102, 0, 0, 0, 0, 0, 0, 0, 0, 0, 0, 0, 0, 0, 0, 0, 0, 0, 0, 0, 0, 0, 0, 0, 0, 0, 0, 0, 0, 0, 0, 0, 0, 0, 0, 0, 0, 0, 0, ...]</td>\n",
              "      <td>[1, 1, 1, 1, 1, 1, 1, 1, 1, 1, 1, 1, 1, 1, 1, 1, 1, 1, 1, 1, 1, 1, 1, 1, 1, 1, 1, 1, 1, 1, 1, 1, 1, 1, 1, 1, 1, 1, 1, 1, 1, 1, 1, 1, 1, 1, 1, 1, 1, 1, 1, 1, 1, 1, 1, 1, 1, 1, 1, 1, 1, 1, 0, 0, 0, 0, 0, 0, 0, 0, 0, 0, 0, 0, 0, 0, 0, 0, 0, 0, 0, 0, 0, 0, 0, 0, 0, 0, 0, 0, 0, 0, 0, 0, 0, 0, 0, 0, 0, 0, ...]</td>\n",
              "    </tr>\n",
              "  </tbody>\n",
              "</table>"
            ]
          },
          "metadata": {}
        }
      ]
    },
    {
      "cell_type": "code",
      "source": [
        "from datasets import load_from_disk\n",
        "dev_dtst_with_100 = load_from_disk('/content/drive/MyDrive/ner_india/dev_dtst_with-100')\n",
        "display_dt(dev_dtst_with_100, 2)"
      ],
      "metadata": {
        "colab": {
          "base_uri": "https://localhost:8080/",
          "height": 355
        },
        "id": "H1CBVzSL2hkN",
        "outputId": "87aa3317-8bca-4de4-8ceb-e8cb6486d859"
      },
      "execution_count": null,
      "outputs": [
        {
          "output_type": "display_data",
          "data": {
            "text/plain": [
              "<IPython.core.display.HTML object>"
            ],
            "text/html": [
              "<table border=\"1\" class=\"dataframe\">\n",
              "  <thead>\n",
              "    <tr style=\"text-align: right;\">\n",
              "      <th></th>\n",
              "      <th>labels</th>\n",
              "      <th>input_ids</th>\n",
              "      <th>attention_mask</th>\n",
              "    </tr>\n",
              "  </thead>\n",
              "  <tbody>\n",
              "    <tr>\n",
              "      <th>0</th>\n",
              "      <td>[-100, 0, 0, 0, 0, 0, 0, 14, 15, 15, 15, 15, 15, 15, 0, 0, 0, 0, 0, 0, 0, 0, 0, 0, 0, 0, 0, 0, 0, 0, 0, 0, 0, 0, 0, 0, 0, 0, 0, 0, 0, 0, 0, 0, 0, 0, 0, 0, 0, 0, 0, 0, 0, 0, 0, 0, 23, 24, 24, 24, 24, 0, 0, 0, 0, 0, 0, 0, 38, 39, 39, 39, 39, 0, 0, 0, 38, 39, 39, 39, 39, 39, 39, 0, 0, 0, 38, 39, 39, 0, 0, 0, 38, 39, 39, 39, 39, 39, 39, 0, ...]</td>\n",
              "      <td>[101, 109, 199, 1969, 115, 1130, 1109, 1693, 2031, 2096, 6175, 1335, 1203, 6175, 110, 13063, 10517, 1113, 131, 1955, 119, 5004, 119, 10351, 116, 6603, 119, 138, 8661, 119, 5311, 1545, 120, 1857, 111, 140, 1306, 1302, 1116, 119, 3993, 11964, 1477, 120, 1857, 117, 15722, 25631, 120, 10351, 117, 3236, 16382, 1571, 120, 10351, 13078, 11037, 3291, 4492, 119, 138, 24756, 9180, 4737, 131, 1828, 119, 156, 119, 153, 119, 18489, 117, 1828, 119, 15619, 5443, 6583, 144, 2312, 1830, 14518, 117, 1828, 119, 11896, 1197, 5329, 1105, 1828, 119, 153, 13148, 6610, 5329, 14812, 1179, 11487, 117, ...]</td>\n",
              "      <td>[1, 1, 1, 1, 1, 1, 1, 1, 1, 1, 1, 1, 1, 1, 1, 1, 1, 1, 1, 1, 1, 1, 1, 1, 1, 1, 1, 1, 1, 1, 1, 1, 1, 1, 1, 1, 1, 1, 1, 1, 1, 1, 1, 1, 1, 1, 1, 1, 1, 1, 1, 1, 1, 1, 1, 1, 1, 1, 1, 1, 1, 1, 1, 1, 1, 1, 1, 1, 1, 1, 1, 1, 1, 1, 1, 1, 1, 1, 1, 1, 1, 1, 1, 1, 1, 1, 1, 1, 1, 1, 1, 1, 1, 1, 1, 1, 1, 1, 1, 1, ...]</td>\n",
              "    </tr>\n",
              "    <tr>\n",
              "      <th>1</th>\n",
              "      <td>[-100, 0, 0, 0, 0, 0, 14, 15, 15, 15, 0, 0, 0, 0, 0, 0, 0, 0, 0, 0, 0, 0, 0, 0, 0, 0, 0, 0, 0, 0, 0, 0, 0, 0, 0, 0, 0, 0, 0, 0, 0, 0, 0, 0, 23, 24, 24, 24, 24, 24, 24, 24, 24, 24, 0, 0, 0, 0, 0, 0, 0, 28, 29, 29, 0, 0, 0, 0, 0, 0, 0, 0, 0, 0, 0, 0, 0, 0, 0, 0, 0, 0, 0, 0, 0, 0, 0, 0, 0, 0, 0, 0, 0, 0, 0, 0, 0, 0, 0, 0, ...]</td>\n",
              "      <td>[101, 122, 7178, 1895, 1130, 1109, 3732, 2031, 2096, 1726, 3145, 138, 24756, 8052, 23915, 4889, 15906, 3145, 13969, 1302, 119, 3102, 1545, 2096, 17881, 1475, 113, 10789, 4253, 3929, 2096, 156, 1233, 1643, 113, 140, 114, 1302, 119, 26409, 11049, 2096, 1410, 114, 20967, 1197, 2687, 7418, 1394, 1324, 12189, 15513, 1394, 1324, 795, 138, 24756, 9180, 159, 1116, 119, 1426, 2096, 15019, 111, 2926, 1116, 119, 795, 11336, 20080, 16838, 9857, 1556, 3145, 13969, 1302, 119, 3102, 1559, 2096, 17881, 1475, 113, 10789, 4253, 3929, 2096, 156, 1233, 1643, 113, 140, 114, 1302, 119, 27724, 19297, 2096, 1410, ...]</td>\n",
              "      <td>[1, 1, 1, 1, 1, 1, 1, 1, 1, 1, 1, 1, 1, 1, 1, 1, 1, 1, 1, 1, 1, 1, 1, 1, 1, 1, 1, 1, 1, 1, 1, 1, 1, 1, 1, 1, 1, 1, 1, 1, 1, 1, 1, 1, 1, 1, 1, 1, 1, 1, 1, 1, 1, 1, 1, 1, 1, 1, 1, 1, 1, 1, 1, 1, 1, 1, 1, 1, 1, 1, 1, 1, 1, 1, 1, 1, 1, 1, 1, 1, 1, 1, 1, 1, 1, 1, 1, 1, 1, 1, 1, 1, 1, 1, 1, 1, 1, 1, 1, 1, ...]</td>\n",
              "    </tr>\n",
              "  </tbody>\n",
              "</table>"
            ]
          },
          "metadata": {}
        }
      ]
    },
    {
      "cell_type": "markdown",
      "source": [
        "##### labels_list"
      ],
      "metadata": {
        "id": "FOlO0sfTim82"
      }
    },
    {
      "cell_type": "code",
      "source": [
        "labels_list = ['O', 'B-ORG', 'I-ORG', 'B-OTHER_PERSON', 'I-OTHER_PERSON', 'B-WITNESS', 'I-WITNESS', 'GPE', 'B-STATUTE', 'I-STATUTE', 'B-DATE', 'I-DATE', 'B-PROVISION', 'I-PROVISION', 'B-COURT', 'I-COURT', 'B-PRECEDENT', 'I-PRECEDENT', 'B-GPE', 'I-GPE', 'B-CASE_NUMBER', 'I-CASE_NUMBER', 'ORG', 'B-PETITIONER', 'I-PETITIONER', 'B-JUDGE', 'I-JUDGE', 'WITNESS', 'B-RESPONDENT', 'I-RESPONDENT', 'STATUTE', 'RESPONDENT', 'OTHER_PERSON', 'DATE', 'JUDGE', 'PETITIONER', 'PROVISION', 'CASE_NUMBER', 'B-LAWYER', 'I-LAWYER']\n",
        "\n",
        "int_labels = {}\n",
        "for i, lab in enumerate(labels_list):\n",
        "  int_labels[lab] = i\n",
        "\n",
        "print(int_labels)"
      ],
      "metadata": {
        "colab": {
          "base_uri": "https://localhost:8080/"
        },
        "id": "VYlSY-WpYSzb",
        "outputId": "b4fbb4ab-0c60-4b51-abb8-036a34bf5d88"
      },
      "execution_count": null,
      "outputs": [
        {
          "output_type": "stream",
          "name": "stdout",
          "text": [
            "{'O': 0, 'B-ORG': 1, 'I-ORG': 2, 'B-OTHER_PERSON': 3, 'I-OTHER_PERSON': 4, 'B-WITNESS': 5, 'I-WITNESS': 6, 'GPE': 7, 'B-STATUTE': 8, 'I-STATUTE': 9, 'B-DATE': 10, 'I-DATE': 11, 'B-PROVISION': 12, 'I-PROVISION': 13, 'B-COURT': 14, 'I-COURT': 15, 'B-PRECEDENT': 16, 'I-PRECEDENT': 17, 'B-GPE': 18, 'I-GPE': 19, 'B-CASE_NUMBER': 20, 'I-CASE_NUMBER': 21, 'ORG': 22, 'B-PETITIONER': 23, 'I-PETITIONER': 24, 'B-JUDGE': 25, 'I-JUDGE': 26, 'WITNESS': 27, 'B-RESPONDENT': 28, 'I-RESPONDENT': 29, 'STATUTE': 30, 'RESPONDENT': 31, 'OTHER_PERSON': 32, 'DATE': 33, 'JUDGE': 34, 'PETITIONER': 35, 'PROVISION': 36, 'CASE_NUMBER': 37, 'B-LAWYER': 38, 'I-LAWYER': 39}\n"
          ]
        }
      ]
    },
    {
      "cell_type": "code",
      "source": [
        "tokenizer"
      ],
      "metadata": {
        "colab": {
          "base_uri": "https://localhost:8080/"
        },
        "id": "X74rWz6xOn3i",
        "outputId": "f2418755-0ac7-4bf8-8469-0ccfe8ed04ff"
      },
      "execution_count": null,
      "outputs": [
        {
          "output_type": "execute_result",
          "data": {
            "text/plain": [
              "BertTokenizerFast(name_or_path='dslim/bert-base-NER', vocab_size=28996, model_max_length=512, is_fast=True, padding_side='right', truncation_side='right', special_tokens={'unk_token': '[UNK]', 'sep_token': '[SEP]', 'pad_token': '[PAD]', 'cls_token': '[CLS]', 'mask_token': '[MASK]'}, clean_up_tokenization_spaces=True),  added_tokens_decoder={\n",
              "\t0: AddedToken(\"[PAD]\", rstrip=False, lstrip=False, single_word=False, normalized=False, special=True),\n",
              "\t100: AddedToken(\"[UNK]\", rstrip=False, lstrip=False, single_word=False, normalized=False, special=True),\n",
              "\t101: AddedToken(\"[CLS]\", rstrip=False, lstrip=False, single_word=False, normalized=False, special=True),\n",
              "\t102: AddedToken(\"[SEP]\", rstrip=False, lstrip=False, single_word=False, normalized=False, special=True),\n",
              "\t103: AddedToken(\"[MASK]\", rstrip=False, lstrip=False, single_word=False, normalized=False, special=True),\n",
              "}"
            ]
          },
          "metadata": {},
          "execution_count": 51
        }
      ]
    },
    {
      "cell_type": "code",
      "source": [
        "model"
      ],
      "metadata": {
        "colab": {
          "base_uri": "https://localhost:8080/",
          "height": 35
        },
        "id": "CQWYagxrPz3s",
        "outputId": "f178208d-3a35-4895-c580-b78760c50b93"
      },
      "execution_count": null,
      "outputs": [
        {
          "output_type": "execute_result",
          "data": {
            "text/plain": [
              "'dslim/bert-base-NER'"
            ],
            "application/vnd.google.colaboratory.intrinsic+json": {
              "type": "string"
            }
          },
          "metadata": {},
          "execution_count": 54
        }
      ]
    },
    {
      "cell_type": "code",
      "source": [
        "import transformers\n",
        "from transformers import  DataCollatorForTokenClassification, AutoTokenizer, AutoModelForTokenClassification, TrainingArguments, Trainer, DataCollatorForTokenClassification, pipeline"
      ],
      "metadata": {
        "id": "lMFrxUzYSvQP"
      },
      "execution_count": null,
      "outputs": []
    },
    {
      "cell_type": "code",
      "source": [
        "# Load Sqeval.\n",
        "import evaluate\n",
        "\n",
        "metric = evaluate.load(\"seqeval\")\n",
        "\n",
        "# Create the list with the tags.\n",
        "\n",
        "# Function to compute precision, recall, F1 and accuracy.\n",
        "def compute_metrics(p):\n",
        "    predictions, labels = p\n",
        "    predictions = np.argmax(predictions, axis=2)\n",
        "\n",
        "    true_predictions = [\n",
        "        [labels_list[p] for (p, l) in zip(prediction, label) if l != -100]\n",
        "        for prediction, label in zip(predictions, labels)\n",
        "    ]\n",
        "    true_labels = [\n",
        "        [labels_list[l] for (p, l) in zip(prediction, label) if l != -100]\n",
        "        for prediction, label in zip(predictions, labels)\n",
        "    ]\n",
        "\n",
        "    results = metric.compute(predictions=true_predictions, references=true_labels)\n",
        "    return {\n",
        "        \"precision\": results[\"overall_precision\"],\n",
        "        \"recall\": results[\"overall_recall\"],\n",
        "        \"f1\": results[\"overall_f1\"],\n",
        "        \"accuracy\": results[\"overall_accuracy\"],\n",
        "    }"
      ],
      "metadata": {
        "colab": {
          "base_uri": "https://localhost:8080/",
          "height": 49,
          "referenced_widgets": [
            "37c32f17e55847feb313f696c673342a",
            "ee9e42c3c7b24939a1e99ce1152f5d27",
            "b63e1e1f29fe45f2a551030c971ed171",
            "df8726099c1c4813a586088bf923b224",
            "6b8552fb431146dd8ce0da082fc1a5cd",
            "3c38f8dad40948b2a44e5736514a2920",
            "56c84cb843f04b1e808a1a59f1038c37",
            "102db4a426ec460fb1d69dc44705de86",
            "a9b083568eb34c87bae903a921a94b1c",
            "65ecc9ecb4d74b72924e904d31505ca8",
            "5c6d414c1b604ef99f8334c42b6a93ef"
          ]
        },
        "id": "ieg4pKl9Y8Ay",
        "outputId": "18bfe072-b71e-4f09-9044-7a399b8807e3"
      },
      "execution_count": null,
      "outputs": [
        {
          "output_type": "display_data",
          "data": {
            "text/plain": [
              "Downloading builder script:   0%|          | 0.00/6.34k [00:00<?, ?B/s]"
            ],
            "application/vnd.jupyter.widget-view+json": {
              "version_major": 2,
              "version_minor": 0,
              "model_id": "37c32f17e55847feb313f696c673342a"
            }
          },
          "metadata": {}
        }
      ]
    },
    {
      "cell_type": "markdown",
      "source": [
        "#### model"
      ],
      "metadata": {
        "id": "LaMSy0jw4bxp"
      }
    },
    {
      "cell_type": "code",
      "source": [
        "# Load Sqeval.\n",
        "import evaluate\n",
        "import numpy as np\n",
        "\n",
        "metric = evaluate.load(\"seqeval\")\n",
        "\n",
        "# Create the list with the tags.\n",
        "\n",
        "# Function to compute precision, recall, F1 and accuracy.\n",
        "def compute_metrics(p):\n",
        "    predictions, labels = p\n",
        "    predictions = np.argmax(predictions, axis=2)\n",
        "\n",
        "    true_predictions = [\n",
        "        [labels_list[p] for (p, l) in zip(prediction, label) if l != -100]\n",
        "        for prediction, label in zip(predictions, labels)\n",
        "    ]\n",
        "    true_labels = [\n",
        "        [labels_list[l] for (p, l) in zip(prediction, label) if l != -100]\n",
        "        for prediction, label in zip(predictions, labels)\n",
        "    ]\n",
        "\n",
        "    results = metric.compute(predictions=true_predictions, references=true_labels)\n",
        "    return {\n",
        "        \"precision\": results[\"overall_precision\"],\n",
        "        \"recall\": results[\"overall_recall\"],\n",
        "        \"f1\": results[\"overall_f1\"],\n",
        "        \"accuracy\": results[\"overall_accuracy\"],\n",
        "    }"
      ],
      "metadata": {
        "id": "-1UWnF6zTFjm"
      },
      "execution_count": null,
      "outputs": []
    },
    {
      "cell_type": "markdown",
      "source": [
        "#### train on created datasets"
      ],
      "metadata": {
        "id": "LUtoSaj_8f5D"
      }
    },
    {
      "cell_type": "code",
      "execution_count": null,
      "metadata": {
        "colab": {
          "base_uri": "https://localhost:8080/"
        },
        "id": "HLRgvrs5UceA",
        "outputId": "12853067-ea48-4895-9eab-948b8c6db745"
      },
      "outputs": [
        {
          "output_type": "stream",
          "name": "stderr",
          "text": [
            "/usr/local/lib/python3.10/dist-packages/transformers/training_args.py:1474: FutureWarning: `evaluation_strategy` is deprecated and will be removed in version 4.46 of 🤗 Transformers. Use `eval_strategy` instead\n",
            "  warnings.warn(\n",
            "Some weights of the model checkpoint at dslim/bert-base-NER were not used when initializing BertForTokenClassification: ['bert.pooler.dense.bias', 'bert.pooler.dense.weight']\n",
            "- This IS expected if you are initializing BertForTokenClassification from the checkpoint of a model trained on another task or with another architecture (e.g. initializing a BertForSequenceClassification model from a BertForPreTraining model).\n",
            "- This IS NOT expected if you are initializing BertForTokenClassification from the checkpoint of a model that you expect to be exactly identical (initializing a BertForSequenceClassification model from a BertForSequenceClassification model).\n",
            "Some weights of BertForTokenClassification were not initialized from the model checkpoint at dslim/bert-base-NER and are newly initialized because the shapes did not match:\n",
            "- classifier.bias: found shape torch.Size([9]) in the checkpoint and torch.Size([40]) in the model instantiated\n",
            "- classifier.weight: found shape torch.Size([9, 768]) in the checkpoint and torch.Size([40, 768]) in the model instantiated\n",
            "You should probably TRAIN this model on a down-stream task to be able to use it for predictions and inference.\n"
          ]
        }
      ],
      "source": [
        "model_checkpoint = 'dslim/bert-base-NER'\n",
        "batch_size = 16\n",
        "\n",
        "model_name = model_checkpoint.split(\"/\")[-1]\n",
        "\n",
        "args = TrainingArguments(\n",
        "    model_name,\n",
        "    evaluation_strategy = \"epoch\",\n",
        "    learning_rate=2e-5,\n",
        "    per_device_train_batch_size=batch_size,\n",
        "    per_device_eval_batch_size=batch_size,\n",
        "    num_train_epochs=3,\n",
        "    weight_decay=0.01,\n",
        "    push_to_hub=False,\n",
        "    remove_unused_columns=False\n",
        ")\n",
        "\n",
        "model = AutoModelForTokenClassification.from_pretrained(model_checkpoint, num_labels=len(labels_list), ignore_mismatched_sizes=True)\n",
        "\n",
        "\n",
        "data_collator = DataCollatorForTokenClassification(tokenizer)\n",
        "\n",
        "trainer = Trainer(\n",
        "    model,\n",
        "    args,\n",
        "    train_dataset= with_ne_train_dt_with_100,\n",
        "    eval_dataset= dev_dt_with_100,\n",
        "    data_collator=data_collator,\n",
        "    tokenizer=tokenizer,\n",
        "    compute_metrics=compute_metrics\n",
        ")"
      ]
    },
    {
      "cell_type": "code",
      "source": [
        "trainer.train()"
      ],
      "metadata": {
        "colab": {
          "base_uri": "https://localhost:8080/",
          "height": 536
        },
        "id": "SfnUEKrj0v38",
        "outputId": "48b06d5a-c55c-4681-8923-436fc6196c3c"
      },
      "execution_count": null,
      "outputs": [
        {
          "output_type": "display_data",
          "data": {
            "text/plain": [
              "<IPython.core.display.HTML object>"
            ],
            "text/html": [
              "\n",
              "    <div>\n",
              "      \n",
              "      <progress value='1362' max='1362' style='width:300px; height:20px; vertical-align: middle;'></progress>\n",
              "      [1362/1362 33:11, Epoch 3/3]\n",
              "    </div>\n",
              "    <table border=\"1\" class=\"dataframe\">\n",
              "  <thead>\n",
              " <tr style=\"text-align: left;\">\n",
              "      <th>Epoch</th>\n",
              "      <th>Training Loss</th>\n",
              "      <th>Validation Loss</th>\n",
              "      <th>Precision</th>\n",
              "      <th>Recall</th>\n",
              "      <th>F1</th>\n",
              "      <th>Accuracy</th>\n",
              "    </tr>\n",
              "  </thead>\n",
              "  <tbody>\n",
              "    <tr>\n",
              "      <td>1</td>\n",
              "      <td>No log</td>\n",
              "      <td>1.979785</td>\n",
              "      <td>0.062182</td>\n",
              "      <td>0.142091</td>\n",
              "      <td>0.086507</td>\n",
              "      <td>0.554392</td>\n",
              "    </tr>\n",
              "    <tr>\n",
              "      <td>2</td>\n",
              "      <td>0.352500</td>\n",
              "      <td>2.026945</td>\n",
              "      <td>0.069888</td>\n",
              "      <td>0.156390</td>\n",
              "      <td>0.096605</td>\n",
              "      <td>0.582652</td>\n",
              "    </tr>\n",
              "    <tr>\n",
              "      <td>3</td>\n",
              "      <td>0.134600</td>\n",
              "      <td>2.195241</td>\n",
              "      <td>0.074827</td>\n",
              "      <td>0.164433</td>\n",
              "      <td>0.102851</td>\n",
              "      <td>0.578243</td>\n",
              "    </tr>\n",
              "  </tbody>\n",
              "</table><p>"
            ]
          },
          "metadata": {}
        },
        {
          "output_type": "stream",
          "name": "stderr",
          "text": [
            "/content/drive/MyDrive/virtual_env/lib/python3.10/site-packages/seqeval/metrics/sequence_labeling.py:171: UserWarning: GPE seems not to be NE tag.\n",
            "  warnings.warn('{} seems not to be NE tag.'.format(chunk))\n",
            "/content/drive/MyDrive/virtual_env/lib/python3.10/site-packages/seqeval/metrics/v1.py:57: UndefinedMetricWarning: Precision and F-score are ill-defined and being set to 0.0 in labels with no predicted samples. Use `zero_division` parameter to control this behavior.\n",
            "  _warn_prf(average, modifier, msg_start, len(result))\n",
            "/content/drive/MyDrive/virtual_env/lib/python3.10/site-packages/seqeval/metrics/v1.py:57: UndefinedMetricWarning: Recall and F-score are ill-defined and being set to 0.0 in labels with no true samples. Use `zero_division` parameter to control this behavior.\n",
            "  _warn_prf(average, modifier, msg_start, len(result))\n",
            "/content/drive/MyDrive/virtual_env/lib/python3.10/site-packages/seqeval/metrics/sequence_labeling.py:171: UserWarning: GPE seems not to be NE tag.\n",
            "  warnings.warn('{} seems not to be NE tag.'.format(chunk))\n",
            "/content/drive/MyDrive/virtual_env/lib/python3.10/site-packages/seqeval/metrics/v1.py:57: UndefinedMetricWarning: Precision and F-score are ill-defined and being set to 0.0 in labels with no predicted samples. Use `zero_division` parameter to control this behavior.\n",
            "  _warn_prf(average, modifier, msg_start, len(result))\n",
            "/content/drive/MyDrive/virtual_env/lib/python3.10/site-packages/seqeval/metrics/v1.py:57: UndefinedMetricWarning: Recall and F-score are ill-defined and being set to 0.0 in labels with no true samples. Use `zero_division` parameter to control this behavior.\n",
            "  _warn_prf(average, modifier, msg_start, len(result))\n",
            "/content/drive/MyDrive/virtual_env/lib/python3.10/site-packages/seqeval/metrics/sequence_labeling.py:171: UserWarning: GPE seems not to be NE tag.\n",
            "  warnings.warn('{} seems not to be NE tag.'.format(chunk))\n",
            "/content/drive/MyDrive/virtual_env/lib/python3.10/site-packages/seqeval/metrics/v1.py:57: UndefinedMetricWarning: Precision and F-score are ill-defined and being set to 0.0 in labels with no predicted samples. Use `zero_division` parameter to control this behavior.\n",
            "  _warn_prf(average, modifier, msg_start, len(result))\n",
            "/content/drive/MyDrive/virtual_env/lib/python3.10/site-packages/seqeval/metrics/v1.py:57: UndefinedMetricWarning: Recall and F-score are ill-defined and being set to 0.0 in labels with no true samples. Use `zero_division` parameter to control this behavior.\n",
            "  _warn_prf(average, modifier, msg_start, len(result))\n"
          ]
        },
        {
          "output_type": "execute_result",
          "data": {
            "text/plain": [
              "TrainOutput(global_step=1362, training_loss=0.204241961284531, metrics={'train_runtime': 1993.8901, 'train_samples_per_second': 10.92, 'train_steps_per_second': 0.683, 'total_flos': 5691430232801280.0, 'train_loss': 0.204241961284531, 'epoch': 3.0})"
            ]
          },
          "metadata": {},
          "execution_count": 68
        }
      ]
    },
    {
      "cell_type": "markdown",
      "source": [
        "##### train on datasets without -100"
      ],
      "metadata": {
        "id": "MLULtPgWHV9L"
      }
    },
    {
      "cell_type": "code",
      "source": [
        "display_dt(with_ne_train_dt, 1)"
      ],
      "metadata": {
        "colab": {
          "base_uri": "https://localhost:8080/",
          "height": 202
        },
        "id": "72jpR5piHXBw",
        "outputId": "a3038c9e-2b57-40ad-f9dd-85d29242f4d3"
      },
      "execution_count": null,
      "outputs": [
        {
          "output_type": "display_data",
          "data": {
            "text/plain": [
              "<IPython.core.display.HTML object>"
            ],
            "text/html": [
              "<table border=\"1\" class=\"dataframe\">\n",
              "  <thead>\n",
              "    <tr style=\"text-align: right;\">\n",
              "      <th></th>\n",
              "      <th>labels</th>\n",
              "      <th>input_ids</th>\n",
              "      <th>attention_mask</th>\n",
              "    </tr>\n",
              "  </thead>\n",
              "  <tbody>\n",
              "    <tr>\n",
              "      <th>0</th>\n",
              "      <td>[0, 0, 0, 0, 0, 0, 0, 0, 0, 0, 0, 0, 0, 0, 0, 0, 0, 0, 0, 0, 0, 0, 0, 0, 0, 0, 0, 0, 0, 1, 2, 2, 2, 0, 0, 0, 0, 0, 0, 0, 0, 0, 0, 0, 0, 0, 0, 0, 0, 0, 0, 0, 0, 0, 0, 0, 0, 0, 0, 0, 0, 0, 0, 0, 0, 0, 1, 2, 2, 2, 2, 0, 0, 0, 0, 0, 0, 0, 0, 0, 0, 0, 0, 0, 0, 0, 0, 0, 0, 0, 0, 0, 0, 0, 0, 0, 0, 0, 0, 0, ...]</td>\n",
              "      <td>[101, 113, 128, 114, 1212, 2747, 15027, 1616, 1118, 1103, 3096, 1732, 1164, 1126, 3990, 1104, 19003, 119, 122, 117, 1955, 117, 3413, 117, 2260, 1113, 14304, 1334, 1104, 3475, 19890, 1403, 2950, 3300, 1104, 1134, 170, 6307, 5633, 1110, 5452, 1120, 185, 119, 1969, 1104, 15187, 3051, 112, 188, 2526, 1520, 117, 3560, 21812, 4702, 7402, 1115, 1122, 1108, 2272, 1106, 4891, 1121, 24535, 117, 16890, 24287, 111, 3291, 119, 1113, 1103, 3142, 1104, 1117, 13455, 170, 3238, 4551, 1110, 1508, 1118, 1366, 1113, 1115, 6307, 5633, 119, 102, 0, 0, 0, 0, 0, 0, 0, 0, 0, 0, ...]</td>\n",
              "      <td>[1, 1, 1, 1, 1, 1, 1, 1, 1, 1, 1, 1, 1, 1, 1, 1, 1, 1, 1, 1, 1, 1, 1, 1, 1, 1, 1, 1, 1, 1, 1, 1, 1, 1, 1, 1, 1, 1, 1, 1, 1, 1, 1, 1, 1, 1, 1, 1, 1, 1, 1, 1, 1, 1, 1, 1, 1, 1, 1, 1, 1, 1, 1, 1, 1, 1, 1, 1, 1, 1, 1, 1, 1, 1, 1, 1, 1, 1, 1, 1, 1, 1, 1, 1, 1, 1, 1, 1, 1, 1, 0, 0, 0, 0, 0, 0, 0, 0, 0, 0, ...]</td>\n",
              "    </tr>\n",
              "  </tbody>\n",
              "</table>"
            ]
          },
          "metadata": {}
        }
      ]
    },
    {
      "cell_type": "code",
      "source": [
        "display_dt(dev_dt, 1)"
      ],
      "metadata": {
        "colab": {
          "base_uri": "https://localhost:8080/",
          "height": 202
        },
        "id": "4fzccYhRHwGs",
        "outputId": "70a5fb94-baa6-471d-be6e-1a59eae4f062"
      },
      "execution_count": null,
      "outputs": [
        {
          "output_type": "display_data",
          "data": {
            "text/plain": [
              "<IPython.core.display.HTML object>"
            ],
            "text/html": [
              "<table border=\"1\" class=\"dataframe\">\n",
              "  <thead>\n",
              "    <tr style=\"text-align: right;\">\n",
              "      <th></th>\n",
              "      <th>labels</th>\n",
              "      <th>input_ids</th>\n",
              "      <th>attention_mask</th>\n",
              "    </tr>\n",
              "  </thead>\n",
              "  <tbody>\n",
              "    <tr>\n",
              "      <th>0</th>\n",
              "      <td>[0, 0, 0, 0, 0, 0, 0, 14, 15, 15, 15, 15, 15, 15, 0, 0, 0, 0, 0, 0, 0, 0, 0, 0, 0, 0, 0, 0, 0, 0, 0, 0, 0, 0, 0, 0, 0, 0, 0, 0, 0, 0, 0, 0, 0, 0, 0, 0, 0, 0, 0, 0, 0, 0, 0, 0, 23, 24, 24, 24, 24, 0, 0, 0, 0, 0, 0, 0, 38, 39, 39, 39, 39, 0, 0, 0, 38, 39, 39, 39, 39, 39, 39, 0, 0, 0, 38, 39, 39, 0, 0, 0, 38, 39, 39, 39, 39, 39, 39, 0, ...]</td>\n",
              "      <td>[101, 109, 199, 1969, 115, 1130, 1109, 1693, 2031, 2096, 6175, 1335, 1203, 6175, 110, 13063, 10517, 1113, 131, 1955, 119, 5004, 119, 10351, 116, 6603, 119, 138, 8661, 119, 5311, 1545, 120, 1857, 111, 140, 1306, 1302, 1116, 119, 3993, 11964, 1477, 120, 1857, 117, 15722, 25631, 120, 10351, 117, 3236, 16382, 1571, 120, 10351, 13078, 11037, 3291, 4492, 119, 138, 24756, 9180, 4737, 131, 1828, 119, 156, 119, 153, 119, 18489, 117, 1828, 119, 15619, 5443, 6583, 144, 2312, 1830, 14518, 117, 1828, 119, 11896, 1197, 5329, 1105, 1828, 119, 153, 13148, 6610, 5329, 14812, 1179, 11487, 117, ...]</td>\n",
              "      <td>[1, 1, 1, 1, 1, 1, 1, 1, 1, 1, 1, 1, 1, 1, 1, 1, 1, 1, 1, 1, 1, 1, 1, 1, 1, 1, 1, 1, 1, 1, 1, 1, 1, 1, 1, 1, 1, 1, 1, 1, 1, 1, 1, 1, 1, 1, 1, 1, 1, 1, 1, 1, 1, 1, 1, 1, 1, 1, 1, 1, 1, 1, 1, 1, 1, 1, 1, 1, 1, 1, 1, 1, 1, 1, 1, 1, 1, 1, 1, 1, 1, 1, 1, 1, 1, 1, 1, 1, 1, 1, 1, 1, 1, 1, 1, 1, 1, 1, 1, 1, ...]</td>\n",
              "    </tr>\n",
              "  </tbody>\n",
              "</table>"
            ]
          },
          "metadata": {}
        }
      ]
    },
    {
      "cell_type": "code",
      "source": [
        "trainer = Trainer(\n",
        "    model,\n",
        "    args,\n",
        "    train_dataset= with_ne_train_dt,  #without -100\n",
        "    eval_dataset= dev_dt,\n",
        "    data_collator=data_collator,\n",
        "    tokenizer=tokenizer,\n",
        "    compute_metrics=compute_metrics\n",
        ")\n",
        "trainer.train()"
      ],
      "metadata": {
        "colab": {
          "base_uri": "https://localhost:8080/",
          "height": 571
        },
        "id": "VJKgpP7sHqwO",
        "outputId": "28133cab-0a3a-4aa6-c044-ae24cb14cabd"
      },
      "execution_count": null,
      "outputs": [
        {
          "output_type": "display_data",
          "data": {
            "text/plain": [
              "<IPython.core.display.HTML object>"
            ],
            "text/html": [
              "\n",
              "    <div>\n",
              "      \n",
              "      <progress value='1362' max='1362' style='width:300px; height:20px; vertical-align: middle;'></progress>\n",
              "      [1362/1362 35:05, Epoch 3/3]\n",
              "    </div>\n",
              "    <table border=\"1\" class=\"dataframe\">\n",
              "  <thead>\n",
              " <tr style=\"text-align: left;\">\n",
              "      <th>Epoch</th>\n",
              "      <th>Training Loss</th>\n",
              "      <th>Validation Loss</th>\n",
              "      <th>Precision</th>\n",
              "      <th>Recall</th>\n",
              "      <th>F1</th>\n",
              "      <th>Accuracy</th>\n",
              "    </tr>\n",
              "  </thead>\n",
              "  <tbody>\n",
              "    <tr>\n",
              "      <td>1</td>\n",
              "      <td>No log</td>\n",
              "      <td>1.058191</td>\n",
              "      <td>0.081013</td>\n",
              "      <td>0.171582</td>\n",
              "      <td>0.110060</td>\n",
              "      <td>0.787469</td>\n",
              "    </tr>\n",
              "    <tr>\n",
              "      <td>2</td>\n",
              "      <td>0.012700</td>\n",
              "      <td>1.061291</td>\n",
              "      <td>0.071856</td>\n",
              "      <td>0.160858</td>\n",
              "      <td>0.099338</td>\n",
              "      <td>0.800188</td>\n",
              "    </tr>\n",
              "    <tr>\n",
              "      <td>3</td>\n",
              "      <td>0.005100</td>\n",
              "      <td>1.182585</td>\n",
              "      <td>0.075868</td>\n",
              "      <td>0.168007</td>\n",
              "      <td>0.104532</td>\n",
              "      <td>0.786109</td>\n",
              "    </tr>\n",
              "  </tbody>\n",
              "</table><p>"
            ]
          },
          "metadata": {}
        },
        {
          "output_type": "stream",
          "name": "stderr",
          "text": [
            "/content/drive/MyDrive/virtual_env/lib/python3.10/site-packages/seqeval/metrics/sequence_labeling.py:171: UserWarning: GPE seems not to be NE tag.\n",
            "  warnings.warn('{} seems not to be NE tag.'.format(chunk))\n",
            "/content/drive/MyDrive/virtual_env/lib/python3.10/site-packages/seqeval/metrics/v1.py:57: UndefinedMetricWarning: Precision and F-score are ill-defined and being set to 0.0 in labels with no predicted samples. Use `zero_division` parameter to control this behavior.\n",
            "  _warn_prf(average, modifier, msg_start, len(result))\n",
            "/content/drive/MyDrive/virtual_env/lib/python3.10/site-packages/seqeval/metrics/v1.py:57: UndefinedMetricWarning: Recall and F-score are ill-defined and being set to 0.0 in labels with no true samples. Use `zero_division` parameter to control this behavior.\n",
            "  _warn_prf(average, modifier, msg_start, len(result))\n",
            "/content/drive/MyDrive/virtual_env/lib/python3.10/site-packages/seqeval/metrics/sequence_labeling.py:171: UserWarning: GPE seems not to be NE tag.\n",
            "  warnings.warn('{} seems not to be NE tag.'.format(chunk))\n",
            "/content/drive/MyDrive/virtual_env/lib/python3.10/site-packages/seqeval/metrics/v1.py:57: UndefinedMetricWarning: Precision and F-score are ill-defined and being set to 0.0 in labels with no predicted samples. Use `zero_division` parameter to control this behavior.\n",
            "  _warn_prf(average, modifier, msg_start, len(result))\n",
            "/content/drive/MyDrive/virtual_env/lib/python3.10/site-packages/seqeval/metrics/v1.py:57: UndefinedMetricWarning: Recall and F-score are ill-defined and being set to 0.0 in labels with no true samples. Use `zero_division` parameter to control this behavior.\n",
            "  _warn_prf(average, modifier, msg_start, len(result))\n",
            "/content/drive/MyDrive/virtual_env/lib/python3.10/site-packages/seqeval/metrics/sequence_labeling.py:171: UserWarning: GPE seems not to be NE tag.\n",
            "  warnings.warn('{} seems not to be NE tag.'.format(chunk))\n",
            "/content/drive/MyDrive/virtual_env/lib/python3.10/site-packages/seqeval/metrics/sequence_labeling.py:171: UserWarning: OTHER_PERSON seems not to be NE tag.\n",
            "  warnings.warn('{} seems not to be NE tag.'.format(chunk))\n",
            "/content/drive/MyDrive/virtual_env/lib/python3.10/site-packages/seqeval/metrics/v1.py:57: UndefinedMetricWarning: Precision and F-score are ill-defined and being set to 0.0 in labels with no predicted samples. Use `zero_division` parameter to control this behavior.\n",
            "  _warn_prf(average, modifier, msg_start, len(result))\n",
            "/content/drive/MyDrive/virtual_env/lib/python3.10/site-packages/seqeval/metrics/v1.py:57: UndefinedMetricWarning: Recall and F-score are ill-defined and being set to 0.0 in labels with no true samples. Use `zero_division` parameter to control this behavior.\n",
            "  _warn_prf(average, modifier, msg_start, len(result))\n"
          ]
        },
        {
          "output_type": "execute_result",
          "data": {
            "text/plain": [
              "TrainOutput(global_step=1362, training_loss=0.00772375130968472, metrics={'train_runtime': 2107.2855, 'train_samples_per_second': 10.333, 'train_steps_per_second': 0.646, 'total_flos': 5691430232801280.0, 'train_loss': 0.00772375130968472, 'epoch': 3.0})"
            ]
          },
          "metadata": {},
          "execution_count": 78
        }
      ]
    },
    {
      "cell_type": "markdown",
      "source": [
        "#### train on loaded datasets"
      ],
      "metadata": {
        "id": "kg8A60Zv8lyD"
      }
    },
    {
      "cell_type": "markdown",
      "source": [
        "##### with -100"
      ],
      "metadata": {
        "id": "3MjJB_E6IL4S"
      }
    },
    {
      "cell_type": "code",
      "source": [
        "from datasets import load_from_disk\n",
        "\n",
        "with_ne_train_dtst_with_100 = load_from_disk('/content/drive/MyDrive/ner_india/with_ne_train_dtst_with-100')\n",
        "dev_dtst_with_100 = load_from_disk('/content/drive/MyDrive/ner_india/dev_dtst_with-100')\n"
      ],
      "metadata": {
        "id": "z-PtA_ET8qyL"
      },
      "execution_count": null,
      "outputs": []
    },
    {
      "cell_type": "code",
      "execution_count": null,
      "metadata": {
        "colab": {
          "base_uri": "https://localhost:8080/"
        },
        "outputId": "5f0a494e-795f-4c70-8337-496749ef5f2b",
        "id": "51geCyRK8lyj"
      },
      "outputs": [
        {
          "output_type": "stream",
          "name": "stderr",
          "text": [
            "Some weights of the model checkpoint at dslim/bert-base-NER were not used when initializing BertForTokenClassification: ['bert.pooler.dense.bias', 'bert.pooler.dense.weight']\n",
            "- This IS expected if you are initializing BertForTokenClassification from the checkpoint of a model trained on another task or with another architecture (e.g. initializing a BertForSequenceClassification model from a BertForPreTraining model).\n",
            "- This IS NOT expected if you are initializing BertForTokenClassification from the checkpoint of a model that you expect to be exactly identical (initializing a BertForSequenceClassification model from a BertForSequenceClassification model).\n",
            "Some weights of BertForTokenClassification were not initialized from the model checkpoint at dslim/bert-base-NER and are newly initialized because the shapes did not match:\n",
            "- classifier.bias: found shape torch.Size([9]) in the checkpoint and torch.Size([40]) in the model instantiated\n",
            "- classifier.weight: found shape torch.Size([9, 768]) in the checkpoint and torch.Size([40, 768]) in the model instantiated\n",
            "You should probably TRAIN this model on a down-stream task to be able to use it for predictions and inference.\n"
          ]
        }
      ],
      "source": [
        "model_checkpoint = 'dslim/bert-base-NER'\n",
        "batch_size = 16\n",
        "\n",
        "model_name = model_checkpoint.split(\"/\")[-1]\n",
        "\n",
        "args = TrainingArguments(\n",
        "    model_name,\n",
        "    eval_strategy = \"epoch\",\n",
        "    learning_rate=2e-5,\n",
        "    per_device_train_batch_size=batch_size,\n",
        "    per_device_eval_batch_size=batch_size,\n",
        "    num_train_epochs=3,\n",
        "    weight_decay=0.01,\n",
        "    push_to_hub=False,\n",
        "    remove_unused_columns=False\n",
        ")\n",
        "\n",
        "model = AutoModelForTokenClassification.from_pretrained(model_checkpoint, num_labels=len(labels_list), ignore_mismatched_sizes=True)\n",
        "\n",
        "\n",
        "data_collator = DataCollatorForTokenClassification(tokenizer)\n",
        "\n",
        "trainer = Trainer(\n",
        "    model,\n",
        "    args,\n",
        "    train_dataset= with_ne_train_dt_with_100,\n",
        "    eval_dataset= dev_dt_with_100,\n",
        "    data_collator=data_collator,\n",
        "    tokenizer=tokenizer,\n",
        "    compute_metrics=compute_metrics\n",
        ")"
      ]
    },
    {
      "cell_type": "code",
      "source": [
        "trainer.train()"
      ],
      "metadata": {
        "colab": {
          "base_uri": "https://localhost:8080/",
          "height": 536
        },
        "outputId": "607127c5-533a-4f1f-ef75-d9b054583e6c",
        "id": "ZVkB5y9i8lyk"
      },
      "execution_count": null,
      "outputs": [
        {
          "output_type": "display_data",
          "data": {
            "text/plain": [
              "<IPython.core.display.HTML object>"
            ],
            "text/html": [
              "\n",
              "    <div>\n",
              "      \n",
              "      <progress value='1362' max='1362' style='width:300px; height:20px; vertical-align: middle;'></progress>\n",
              "      [1362/1362 33:15, Epoch 3/3]\n",
              "    </div>\n",
              "    <table border=\"1\" class=\"dataframe\">\n",
              "  <thead>\n",
              " <tr style=\"text-align: left;\">\n",
              "      <th>Epoch</th>\n",
              "      <th>Training Loss</th>\n",
              "      <th>Validation Loss</th>\n",
              "      <th>Precision</th>\n",
              "      <th>Recall</th>\n",
              "      <th>F1</th>\n",
              "      <th>Accuracy</th>\n",
              "    </tr>\n",
              "  </thead>\n",
              "  <tbody>\n",
              "    <tr>\n",
              "      <td>1</td>\n",
              "      <td>No log</td>\n",
              "      <td>1.913024</td>\n",
              "      <td>0.061827</td>\n",
              "      <td>0.138517</td>\n",
              "      <td>0.085494</td>\n",
              "      <td>0.569425</td>\n",
              "    </tr>\n",
              "    <tr>\n",
              "      <td>2</td>\n",
              "      <td>0.358400</td>\n",
              "      <td>2.040764</td>\n",
              "      <td>0.070224</td>\n",
              "      <td>0.159964</td>\n",
              "      <td>0.097601</td>\n",
              "      <td>0.573069</td>\n",
              "    </tr>\n",
              "    <tr>\n",
              "      <td>3</td>\n",
              "      <td>0.131900</td>\n",
              "      <td>2.176579</td>\n",
              "      <td>0.072043</td>\n",
              "      <td>0.157283</td>\n",
              "      <td>0.098821</td>\n",
              "      <td>0.577968</td>\n",
              "    </tr>\n",
              "  </tbody>\n",
              "</table><p>"
            ]
          },
          "metadata": {}
        },
        {
          "output_type": "stream",
          "name": "stderr",
          "text": [
            "/content/drive/MyDrive/virtual_env/lib/python3.10/site-packages/seqeval/metrics/sequence_labeling.py:171: UserWarning: GPE seems not to be NE tag.\n",
            "  warnings.warn('{} seems not to be NE tag.'.format(chunk))\n",
            "/content/drive/MyDrive/virtual_env/lib/python3.10/site-packages/seqeval/metrics/v1.py:57: UndefinedMetricWarning: Precision and F-score are ill-defined and being set to 0.0 in labels with no predicted samples. Use `zero_division` parameter to control this behavior.\n",
            "  _warn_prf(average, modifier, msg_start, len(result))\n",
            "/content/drive/MyDrive/virtual_env/lib/python3.10/site-packages/seqeval/metrics/v1.py:57: UndefinedMetricWarning: Recall and F-score are ill-defined and being set to 0.0 in labels with no true samples. Use `zero_division` parameter to control this behavior.\n",
            "  _warn_prf(average, modifier, msg_start, len(result))\n",
            "/content/drive/MyDrive/virtual_env/lib/python3.10/site-packages/seqeval/metrics/sequence_labeling.py:171: UserWarning: GPE seems not to be NE tag.\n",
            "  warnings.warn('{} seems not to be NE tag.'.format(chunk))\n",
            "/content/drive/MyDrive/virtual_env/lib/python3.10/site-packages/seqeval/metrics/v1.py:57: UndefinedMetricWarning: Precision and F-score are ill-defined and being set to 0.0 in labels with no predicted samples. Use `zero_division` parameter to control this behavior.\n",
            "  _warn_prf(average, modifier, msg_start, len(result))\n",
            "/content/drive/MyDrive/virtual_env/lib/python3.10/site-packages/seqeval/metrics/v1.py:57: UndefinedMetricWarning: Recall and F-score are ill-defined and being set to 0.0 in labels with no true samples. Use `zero_division` parameter to control this behavior.\n",
            "  _warn_prf(average, modifier, msg_start, len(result))\n",
            "/content/drive/MyDrive/virtual_env/lib/python3.10/site-packages/seqeval/metrics/sequence_labeling.py:171: UserWarning: GPE seems not to be NE tag.\n",
            "  warnings.warn('{} seems not to be NE tag.'.format(chunk))\n",
            "/content/drive/MyDrive/virtual_env/lib/python3.10/site-packages/seqeval/metrics/v1.py:57: UndefinedMetricWarning: Precision and F-score are ill-defined and being set to 0.0 in labels with no predicted samples. Use `zero_division` parameter to control this behavior.\n",
            "  _warn_prf(average, modifier, msg_start, len(result))\n",
            "/content/drive/MyDrive/virtual_env/lib/python3.10/site-packages/seqeval/metrics/v1.py:57: UndefinedMetricWarning: Recall and F-score are ill-defined and being set to 0.0 in labels with no true samples. Use `zero_division` parameter to control this behavior.\n",
            "  _warn_prf(average, modifier, msg_start, len(result))\n"
          ]
        },
        {
          "output_type": "execute_result",
          "data": {
            "text/plain": [
              "TrainOutput(global_step=1362, training_loss=0.2050603230794271, metrics={'train_runtime': 1997.2391, 'train_samples_per_second': 10.902, 'train_steps_per_second': 0.682, 'total_flos': 5691430232801280.0, 'train_loss': 0.2050603230794271, 'epoch': 3.0})"
            ]
          },
          "metadata": {},
          "execution_count": 73
        }
      ]
    },
    {
      "cell_type": "markdown",
      "source": [
        "#### train without -100 in int labels"
      ],
      "metadata": {
        "id": "3Fcdg7uzAhB9"
      }
    },
    {
      "cell_type": "code",
      "source": [
        "with_ne_train_dtst_without_100 = load_from_disk('/content/drive/MyDrive/ner_india/with_ne_train_dtst_no_100')\n",
        "dev_dtst_without_100 = load_from_disk('/content/drive/MyDrive/ner_india/dev_dtst_no_100')"
      ],
      "metadata": {
        "id": "4pTYRhqBAkZJ"
      },
      "execution_count": null,
      "outputs": []
    },
    {
      "cell_type": "code",
      "source": [
        "trainer = Trainer(\n",
        "    model,\n",
        "    args,\n",
        "    train_dataset= with_ne_train_dtst_without_100,\n",
        "    eval_dataset= dev_dtst_without_100,\n",
        "    data_collator=data_collator,\n",
        "    tokenizer=tokenizer,\n",
        "    compute_metrics=compute_metrics\n",
        ")\n",
        "\n",
        "trainer.train()"
      ],
      "metadata": {
        "colab": {
          "base_uri": "https://localhost:8080/",
          "height": 502
        },
        "id": "6M69i-_UBVhI",
        "outputId": "22ba5729-44d4-4f74-c519-c267f2e4ce78"
      },
      "execution_count": null,
      "outputs": [
        {
          "output_type": "display_data",
          "data": {
            "text/plain": [
              "<IPython.core.display.HTML object>"
            ],
            "text/html": [
              "\n",
              "    <div>\n",
              "      \n",
              "      <progress value='1362' max='1362' style='width:300px; height:20px; vertical-align: middle;'></progress>\n",
              "      [1362/1362 35:08, Epoch 3/3]\n",
              "    </div>\n",
              "    <table border=\"1\" class=\"dataframe\">\n",
              "  <thead>\n",
              " <tr style=\"text-align: left;\">\n",
              "      <th>Epoch</th>\n",
              "      <th>Training Loss</th>\n",
              "      <th>Validation Loss</th>\n",
              "      <th>Precision</th>\n",
              "      <th>Recall</th>\n",
              "      <th>F1</th>\n",
              "      <th>Accuracy</th>\n",
              "    </tr>\n",
              "  </thead>\n",
              "  <tbody>\n",
              "    <tr>\n",
              "      <td>1</td>\n",
              "      <td>No log</td>\n",
              "      <td>1.384539</td>\n",
              "      <td>0.068261</td>\n",
              "      <td>0.158177</td>\n",
              "      <td>0.095366</td>\n",
              "      <td>0.776656</td>\n",
              "    </tr>\n",
              "    <tr>\n",
              "      <td>2</td>\n",
              "      <td>0.003200</td>\n",
              "      <td>1.493755</td>\n",
              "      <td>0.072276</td>\n",
              "      <td>0.174263</td>\n",
              "      <td>0.102174</td>\n",
              "      <td>0.770266</td>\n",
              "    </tr>\n",
              "    <tr>\n",
              "      <td>3</td>\n",
              "      <td>0.002400</td>\n",
              "      <td>1.420731</td>\n",
              "      <td>0.079513</td>\n",
              "      <td>0.175156</td>\n",
              "      <td>0.109375</td>\n",
              "      <td>0.786641</td>\n",
              "    </tr>\n",
              "  </tbody>\n",
              "</table><p>"
            ]
          },
          "metadata": {}
        },
        {
          "output_type": "stream",
          "name": "stderr",
          "text": [
            "/content/drive/MyDrive/virtual_env/lib/python3.10/site-packages/seqeval/metrics/sequence_labeling.py:171: UserWarning: GPE seems not to be NE tag.\n",
            "  warnings.warn('{} seems not to be NE tag.'.format(chunk))\n",
            "/content/drive/MyDrive/virtual_env/lib/python3.10/site-packages/seqeval/metrics/sequence_labeling.py:171: UserWarning: OTHER_PERSON seems not to be NE tag.\n",
            "  warnings.warn('{} seems not to be NE tag.'.format(chunk))\n",
            "/content/drive/MyDrive/virtual_env/lib/python3.10/site-packages/seqeval/metrics/v1.py:57: UndefinedMetricWarning: Precision and F-score are ill-defined and being set to 0.0 in labels with no predicted samples. Use `zero_division` parameter to control this behavior.\n",
            "  _warn_prf(average, modifier, msg_start, len(result))\n",
            "/content/drive/MyDrive/virtual_env/lib/python3.10/site-packages/seqeval/metrics/v1.py:57: UndefinedMetricWarning: Recall and F-score are ill-defined and being set to 0.0 in labels with no true samples. Use `zero_division` parameter to control this behavior.\n",
            "  _warn_prf(average, modifier, msg_start, len(result))\n",
            "/content/drive/MyDrive/virtual_env/lib/python3.10/site-packages/seqeval/metrics/sequence_labeling.py:171: UserWarning: GPE seems not to be NE tag.\n",
            "  warnings.warn('{} seems not to be NE tag.'.format(chunk))\n",
            "/content/drive/MyDrive/virtual_env/lib/python3.10/site-packages/seqeval/metrics/sequence_labeling.py:171: UserWarning: OTHER_PERSON seems not to be NE tag.\n",
            "  warnings.warn('{} seems not to be NE tag.'.format(chunk))\n",
            "/content/drive/MyDrive/virtual_env/lib/python3.10/site-packages/seqeval/metrics/v1.py:57: UndefinedMetricWarning: Precision and F-score are ill-defined and being set to 0.0 in labels with no predicted samples. Use `zero_division` parameter to control this behavior.\n",
            "  _warn_prf(average, modifier, msg_start, len(result))\n",
            "/content/drive/MyDrive/virtual_env/lib/python3.10/site-packages/seqeval/metrics/v1.py:57: UndefinedMetricWarning: Recall and F-score are ill-defined and being set to 0.0 in labels with no true samples. Use `zero_division` parameter to control this behavior.\n",
            "  _warn_prf(average, modifier, msg_start, len(result))\n"
          ]
        },
        {
          "output_type": "execute_result",
          "data": {
            "text/plain": [
              "TrainOutput(global_step=1362, training_loss=0.0026925060017343487, metrics={'train_runtime': 2109.9367, 'train_samples_per_second': 10.32, 'train_steps_per_second': 0.646, 'total_flos': 5691430232801280.0, 'train_loss': 0.0026925060017343487, 'epoch': 3.0})"
            ]
          },
          "metadata": {},
          "execution_count": 80
        }
      ]
    },
    {
      "cell_type": "markdown",
      "source": [
        "### Get rid of the labels that doesn't follow the BIO format"
      ],
      "metadata": {
        "id": "7cVHHg8JW5YN"
      }
    },
    {
      "cell_type": "code",
      "source": [],
      "metadata": {
        "id": "BEcnSUQoXQED"
      },
      "execution_count": null,
      "outputs": []
    }
  ]
}